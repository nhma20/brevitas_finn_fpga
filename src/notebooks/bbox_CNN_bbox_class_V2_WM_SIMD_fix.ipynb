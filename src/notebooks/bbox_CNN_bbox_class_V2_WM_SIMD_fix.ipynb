{
 "cells": [
  {
   "cell_type": "markdown",
   "id": "3271ecbb",
   "metadata": {},
   "source": [
    "# Train a Quantized CNN on MNIST with Brevitas"
   ]
  },
  {
   "cell_type": "markdown",
   "id": "af6107dd",
   "metadata": {},
   "source": [
    "<font color=\"red\">**Live FINN tutorial:** We recommend clicking **Cell -> Run All** when you start reading this notebook for \"latency hiding\".</font>"
   ]
  },
  {
   "cell_type": "markdown",
   "id": "54a5f4f7",
   "metadata": {},
   "source": [
    "In this notebook, we will show how to create, train and export a quantized Multi Layer Perceptron (MLP) with quantized weights and activations with [Brevitas](https://github.com/Xilinx/brevitas).\n",
    "\n",
    "**You won't need a GPU to train the neural net.** This MLP will be small enough to train on a modern x86 CPU, so no GPU is required to follow this tutorial  Alternatively, we provide pre-trained parameters for the MLP if you want to skip the training entirely.\n"
   ]
  },
  {
   "cell_type": "markdown",
   "id": "582a5672",
   "metadata": {},
   "source": [
    "## A quick introduction to the task and the dataset\n",
    "\n",
    "*Performance considerations:* FPGAs are commonly used for implementing high-performance packet processing systems that still provide a degree of programmability. To avoid introducing bottlenecks on the network, the DNN implementation must be capable of detecting malicious ones at line rate, which can be millions of packets per second, and is expected to increase further as next-generation networking solutions provide increased\n",
    "throughput. This is a good reason to consider FPGA acceleration for this particular use-case."
   ]
  },
  {
   "cell_type": "markdown",
   "id": "bf25a51c",
   "metadata": {},
   "source": [
    "## Outline\n",
    "-------------\n",
    "\n",
    "* [Load Dataset](#load_dataset) \n",
    "* [Define the Quantized MLP Model](#define_quantized_mlp)\n",
    "* [Define Train and Test  Methods](#train_test)\n",
    "    * [(Option 1) Train the Model from Scratch](#train_scratch)\n",
    "    * [(Option 2) Load Pre-Trained Parameters](#load_pretrained)\n",
    "* [Network Surgery Before Export](#network_surgery)\n",
    "* [Export to FINN-ONNX](#export_finn_onnx)"
   ]
  },
  {
   "cell_type": "code",
   "execution_count": 2,
   "id": "34932d63",
   "metadata": {},
   "outputs": [
    {
     "name": "stdout",
     "output_type": "stream",
     "text": [
      "Using device:  cpu\n"
     ]
    }
   ],
   "source": [
    "import onnx\n",
    "import torch\n",
    "\n",
    "device = torch.device('cuda:0' if torch.cuda.is_available() else 'cpu')\n",
    "\n",
    "print(\"Using device: \", device)"
   ]
  },
  {
   "cell_type": "markdown",
   "id": "b44525e5",
   "metadata": {},
   "source": [
    "**This is important -- always import onnx before torch**. This is a workaround for a [known bug](https://github.com/onnx/onnx/issues/2394)."
   ]
  },
  {
   "cell_type": "markdown",
   "id": "52d214ce",
   "metadata": {},
   "source": [
    "## Set up DataLoader\n",
    "\n",
    "Following either option, we now have access to the quantized dataset. We will wrap the dataset in a PyTorch `DataLoader` for easier access in batches."
   ]
  },
  {
   "cell_type": "code",
   "execution_count": 214,
   "id": "a0a7d39c",
   "metadata": {},
   "outputs": [
    {
     "name": "stdout",
     "output_type": "stream",
     "text": [
      "Loading dataset\n",
      "Finished loading dataset:  48  train images and  1  test images\n"
     ]
    }
   ],
   "source": [
    "## Load dataset\n",
    "import numpy as np\n",
    "import cv2\n",
    "import os\n",
    "import struct\n",
    "from torch.utils.data import DataLoader, Dataset\n",
    "from torch.utils.data import TensorDataset\n",
    "from random import randrange\n",
    "import copy\n",
    "\n",
    "\n",
    "print(\"Loading dataset\")\n",
    "\n",
    "#none_img_dir = \"/home/nm/Downloads/VOCdevkit/VOC2012/single_or_no_person_dataset/no_person_images\"\n",
    "one_img_dir = \"./single_person_images\"\n",
    "#none_txt_dir = \"/home/nm/Downloads/VOCdevkit/VOC2012/single_or_no_person_dataset/no_person_txt\"\n",
    "one_txt_dir = \"./single_person_txt\"\n",
    "\n",
    "\n",
    "train_images = []\n",
    "train_labels = []\n",
    "test_images = []\n",
    "test_labels = []\n",
    "\n",
    "temp_label = []\n",
    "\n",
    "\n",
    "# ---------------------------------#\n",
    "\n",
    "orig_img_size = 500\n",
    "resized_size = 100\n",
    "\n",
    "color = 1 ## 1 = color, 0 = grayscale\n",
    "\n",
    "with_personless = 0 ## 1 = include images without people\n",
    "\n",
    "augment_ratio = 0.1 #5.9 ## higher number = bigger augmented dataset\n",
    "\n",
    "# ---------------------------------#\n",
    "\n",
    "if with_personless == 0:\n",
    "    range_i = 1\n",
    "if with_personless == 1:\n",
    "    range_i = 2\n",
    "\n",
    "dims = (resized_size, resized_size) #(256,256) # dimensions of images to train/test with\n",
    "\n",
    "label_scale = dims[0] / orig_img_size\n",
    "\n",
    "## KEEP IN MIND GRAYSCALE, INCLUDE COLORS (3x channels) \n",
    "\n",
    "num_test = 0\n",
    "num_train = 0\n",
    "\n",
    "\n",
    "def to_onehot(label, n_categories, img_dim):\n",
    "    n_categories = round(n_categories)\n",
    "    one_hot_label = np.zeros(n_categories*4) # 4 = num classes, concat'ed multihot vector\n",
    "    scaling = float(n_categories) / float(img_dim)\n",
    "    for i in range(len(label)):\n",
    "        # indexing starts at 1 and tensor indexing starts at 0\n",
    "        label_scaled = round(label[i] * scaling)\n",
    "        if label_scaled > (n_categories-1):\n",
    "            label_scaled = n_categories-1\n",
    "        if label_scaled < 0:\n",
    "            label_scaled = 0\n",
    "        one_hot_label[(label_scaled+(n_categories*i))] = float(1.0) ## -1?\n",
    "    return one_hot_label\n",
    "\n",
    "\n",
    "def shift_image(img,tx,ty):  \n",
    "    tmp_img = copy.deepcopy(img)\n",
    "    num_rows, num_cols = tmp_img.shape[:2]\n",
    "    # Creating a translation matrix\n",
    "    translation_matrix = np.float32([ [1,0,tx], [0,1,ty] ])\n",
    "    # Image translation\n",
    "    img_translation = cv2.warpAffine(tmp_img, translation_matrix, (num_cols,num_rows))\n",
    "    return img_translation\n",
    "\n",
    "\n",
    "def shift_img_label(img, label, tx, ty):\n",
    "    shifted_image = shift_image(img, tx, ty)\n",
    "    shifted_label = copy.deepcopy(label)\n",
    "    shifted_label[0] = shifted_label[0] + tx\n",
    "    shifted_label[1] = shifted_label[1] + ty\n",
    "    shifted_label[2] = shifted_label[2] + tx\n",
    "    shifted_label[3] = shifted_label[3] + ty\n",
    "    return shifted_image, shifted_label\n",
    "\n",
    "\n",
    "for j in range(range_i):\n",
    "    if j == 1:\n",
    "        read_folder = none_img_dir + '/'\n",
    "        label_folder = none_txt_dir + '/'\n",
    "    if j == 0:\n",
    "        read_folder = one_img_dir + '/'\n",
    "        label_folder = one_txt_dir + '/'\n",
    "    for filename in os.listdir(read_folder):\n",
    "           \n",
    "        sample_dataset = randrange(10)\n",
    "        if sample_dataset > -1:#== 0:\n",
    "            randint = randrange(20)\n",
    "            img = cv2.imread(os.path.join(read_folder,filename),color) # read img as grayscale\n",
    "            img = cv2.resize(img, dims, interpolation = cv2.INTER_AREA)# resize img to fit dims\n",
    "            if color == 1:\n",
    "                img = cv2.cvtColor(img, cv2.COLOR_BGR2RGB) # this converts it into RGB\n",
    "            img_flipped = cv2.flip(img, 1)\n",
    "            f = open(label_folder + filename.replace('.jpg','.txt'), \"r\")\n",
    "            temp_label = (f.read().split(\",\"))\n",
    "            flipped_label = []\n",
    "            for k in range (4):\n",
    "                temp_label[k] = round(float(temp_label[k]) * label_scale)\n",
    "                if k == 0 or k == 2:\n",
    "                    flipped_label.append(resized_size-temp_label[k])\n",
    "                else:\n",
    "                    flipped_label.append(temp_label[k])\n",
    "            tmp_lab = flipped_label[0]\n",
    "            flipped_label[0] = flipped_label[2]\n",
    "            flipped_label[2] = tmp_lab\n",
    "            f.close()\n",
    "                    \n",
    "            temp_label_oh = to_onehot(temp_label, (dims[0]/10), dims[0])\n",
    "            flipped_label = to_onehot(flipped_label, (dims[0]/10), dims[0])\n",
    "                 \n",
    "            if img is not None:\n",
    "                if randrange(100) == 1:\n",
    "                    if randint != 0:\n",
    "                        train_images.append(np.moveaxis(np.asarray(img), -1, 0).astype('float32'))\n",
    "                        train_labels.append(np.asarray(temp_label_oh).astype('float32'))\n",
    "                        train_images.append(np.moveaxis(np.asarray(img_flipped), -1, 0).astype('float32'))\n",
    "                        train_labels.append(np.asarray(flipped_label).astype('float32'))\n",
    "                        num_train += 2   \n",
    "\n",
    "                        corners = [0,0,0,0] # ╔ , ╗ , ╝ , ╚\n",
    "\n",
    "                        if randrange(round(augment_ratio*10)) > 10:\n",
    "                        #at least 50 px shift to the left\n",
    "                            if temp_label[0] > (dims[0]*0.1):\n",
    "                                corners[0] += 1\n",
    "                                corners[3] += 1\n",
    "                                randshift_x = randrange(round((dims[0]*0.05)), (temp_label[0]))\n",
    "                                ls_img, ls_label = shift_img_label(img, temp_label, -randshift_x, 0)\n",
    "                                ls_label = to_onehot(ls_label, (dims[0]/10), dims[0])\n",
    "                                train_images.append(np.moveaxis(np.asarray(ls_img), -1, 0).astype('float32'))\n",
    "                                train_labels.append(np.asarray(ls_label).astype('float32'))\n",
    "                                num_train += 1                       \n",
    "\n",
    "                        if randrange(round(augment_ratio*10)) > 10:\n",
    "                        #at least 50 px to shift on top side\n",
    "                            if temp_label[1] > (dims[0]*0.1):\n",
    "                                corners[0] += 1\n",
    "                                corners[1] += 1\n",
    "                                randshift_y = randrange(round((dims[0]*0.05)), (temp_label[1]))\n",
    "                                ts_img, ts_label = shift_img_label(img, temp_label, 0, -randshift_y)\n",
    "                                ts_label = to_onehot(ts_label, (dims[0]/10), dims[0])\n",
    "                                train_images.append(np.moveaxis(np.asarray(ts_img), -1, 0).astype('float32'))\n",
    "                                train_labels.append(np.asarray(ts_label).astype('float32'))\n",
    "                                num_train += 1    \n",
    "\n",
    "                        if randrange(round(augment_ratio*10)) > 10:\n",
    "                        #at least 50 px to shift on right side\n",
    "                            if temp_label[2] < (dims[0] - (dims[0]*0.1)):\n",
    "                                corners[1] += 1\n",
    "                                corners[2] += 1\n",
    "                                randshift_x = randrange(round((dims[0]*0.05)), (dims[0]-temp_label[2]))\n",
    "                                rs_img, rs_label = shift_img_label(img, temp_label, randshift_x, 0)\n",
    "                                rs_label = to_onehot(rs_label, (dims[0]/10), dims[0])\n",
    "                                train_images.append(np.moveaxis(np.asarray(rs_img), -1, 0).astype('float32'))\n",
    "                                train_labels.append(np.asarray(rs_label).astype('float32'))\n",
    "                                num_train += 1    \n",
    "\n",
    "                        if randrange(round(augment_ratio*10)) > 10:\n",
    "                        #at least 50 px to shift on bottom side\n",
    "                            if temp_label[3] < (dims[0] - (dims[0]*0.1)):\n",
    "                                corners[2] += 1\n",
    "                                corners[3] += 1\n",
    "                                randshift_y = randrange(round((dims[0]*0.05)), (dims[0]-temp_label[3]))\n",
    "                                bs_img, bs_label = shift_img_label(img, temp_label, 0, randshift_y)\n",
    "                                bs_label = to_onehot(bs_label, (dims[0]/10), dims[0])\n",
    "                                train_images.append(np.moveaxis(np.asarray(bs_img), -1, 0).astype('float32'))\n",
    "                                train_labels.append(np.asarray(bs_label).astype('float32'))\n",
    "                                num_train += 1    \n",
    "\n",
    "                        #if randrange(2) == 1:\n",
    "                        # 1st corner shift ╔\n",
    "                        if corners[0] == 2:\n",
    "                            randshift_x = randrange(round((dims[0]*0.05)), (temp_label[0]))\n",
    "                            randshift_y = randrange(round((dims[0]*0.05)), (temp_label[1]))\n",
    "                            c1_img, c1_label = shift_img_label(img, temp_label, -randshift_x, -randshift_y)\n",
    "                            c1_label = to_onehot(c1_label, (dims[0]/10), dims[0])\n",
    "                            train_images.append(np.moveaxis(np.asarray(c1_img), -1, 0).astype('float32'))\n",
    "                            train_labels.append(np.asarray(c1_label).astype('float32'))\n",
    "                            num_train += 1    \n",
    "\n",
    "                        #if randrange(2) == 1:\n",
    "                        if corners[1] == 2:\n",
    "                            randshift_x = randrange(round((dims[0]*0.05)), (dims[0]-temp_label[2]))\n",
    "                            randshift_y = randrange(round((dims[0]*0.05)), (temp_label[1]))\n",
    "                            c2_img, c2_label = shift_img_label(img, temp_label, randshift_x, -randshift_y)\n",
    "                            c2_label = to_onehot(c2_label, (dims[0]/10), dims[0])\n",
    "                            train_images.append(np.moveaxis(np.asarray(c2_img), -1, 0).astype('float32'))\n",
    "                            train_labels.append(np.asarray(c2_label).astype('float32'))\n",
    "                            num_train += 1    \n",
    "\n",
    "                        #if randrange(2) == 1:\n",
    "                        if corners[2] == 2:\n",
    "                            randshift_x = randrange(round((dims[0]*0.05)), (dims[0]-temp_label[2]))\n",
    "                            randshift_y = randrange(round((dims[0]*0.05)), (dims[0]-temp_label[3]))\n",
    "                            c3_img, c3_label = shift_img_label(img, temp_label, randshift_x, randshift_y)\n",
    "                            c3_label = to_onehot(c3_label, (dims[0]/10), dims[0])\n",
    "                            train_images.append(np.moveaxis(np.asarray(c3_img), -1, 0).astype('float32'))\n",
    "                            train_labels.append(np.asarray(c3_label).astype('float32'))\n",
    "                            num_train += 1\n",
    "\n",
    "                        #if randrange(2) == 1:\n",
    "                        if corners[3] == 2:\n",
    "                            randshift_x = randrange(round((dims[0]*0.05)), (temp_label[0]))\n",
    "                            randshift_y = randrange(round((dims[0]*0.05)), (dims[0]-temp_label[3]))\n",
    "                            c4_img, c4_label = shift_img_label(img, temp_label, -randshift_x, randshift_y)\n",
    "                            c4_label = to_onehot(c4_label, (dims[0]/10), dims[0])\n",
    "                            train_images.append(np.moveaxis(np.asarray(c4_img), -1, 0).astype('float32'))\n",
    "                            train_labels.append(np.asarray(c4_label).astype('float32'))\n",
    "                            num_train += 1\n",
    "\n",
    "                    if randint == 0:\n",
    "                        test_images.append(np.moveaxis(np.asarray(img), -1, 0).astype('float32'))\n",
    "                        test_labels.append(np.asarray(temp_label).astype('float32'))\n",
    "                        num_test += 1\n",
    "\n",
    "                  \n",
    "print(\"Finished loading dataset: \", num_train, \" train images and \", num_test, \" test images\")"
   ]
  },
  {
   "cell_type": "code",
   "execution_count": 215,
   "id": "85f87a46",
   "metadata": {},
   "outputs": [
    {
     "name": "stdout",
     "output_type": "stream",
     "text": [
      "Input shape for 1 batch: torch.Size([1, 3, 100, 100])\n",
      "Label shape for 1 batch: torch.Size([1, 40])\n",
      "torch.FloatTensor\n",
      "torch.FloatTensor\n",
      "torch.Size([3, 100, 100])\n",
      "torch.Size([40])\n",
      "Dataloader created\n"
     ]
    }
   ],
   "source": [
    "train_images = np.asarray(train_images).astype('float32')\n",
    "test_images = np.asarray(test_images).astype('float32')\n",
    "train_labels = np.asarray(train_labels).astype('float32')\n",
    "test_labels = np.asarray(test_labels).astype('float32')\n",
    "\n",
    "       \n",
    "# dataset loaders\n",
    "batch_size = 1 #20\n",
    "\n",
    "if color == 1:\n",
    "    inputs  = torch.from_numpy(train_images).clone().detach()\n",
    "if color == 0:\n",
    "    inputs  = torch.unsqueeze(torch.from_numpy(train_images).clone().detach(), 1)\n",
    "    \n",
    "targets = torch.from_numpy(train_labels).clone().detach().type(torch.FloatTensor)\n",
    "dataset = TensorDataset(inputs, targets)\n",
    "train_quantized_loader = DataLoader(dataset, batch_size, shuffle = True)\n",
    "\n",
    "del train_images\n",
    "del train_labels\n",
    "\n",
    "\n",
    "inputs  = torch.unsqueeze(torch.from_numpy(test_images).clone().detach(), 1)\n",
    "targets = torch.from_numpy(test_labels).clone().detach().type(torch.FloatTensor)\n",
    "dataset = TensorDataset(inputs, targets)\n",
    "test_quantized_loader = DataLoader(dataset, batch_size, shuffle = True)\n",
    "\n",
    "del test_images\n",
    "del test_labels\n",
    "\n",
    "\n",
    "count = 0\n",
    "for x,y in train_quantized_loader:\n",
    "    print(\"Input shape for 1 batch: \" + str(x.shape))\n",
    "    print(\"Label shape for 1 batch: \" + str(y.shape))\n",
    "    count += 1\n",
    "    if count == 1:\n",
    "        print(x[0].type())\n",
    "        print(y[0].type())\n",
    "        print(x[0].shape)\n",
    "        print(y[0].shape)\n",
    "        break        \n",
    "        \n",
    "print(\"Dataloader created\")"
   ]
  },
  {
   "cell_type": "markdown",
   "id": "045c1c70",
   "metadata": {},
   "source": [
    "# Define the Quantized MLP Model <a id='define_quantized_mlp'></a>"
   ]
  },
  {
   "cell_type": "code",
   "execution_count": 319,
   "id": "40c8d251",
   "metadata": {},
   "outputs": [],
   "source": [
    "from brevitas.quant.scaled_int import Int8ActPerTensorFloat\n",
    "from brevitas.nn import QuantLinear, QuantReLU, QuantIdentity, QuantMaxPool2d, QuantConv2d\n",
    "from brevitas.quant import Int8Bias as BiasQuant\n",
    "import torch.nn as nn\n",
    "from torch.nn import Module\n",
    "import torch.nn.functional as F\n",
    "\n",
    "# Setting seeds for reproducibility\n",
    "torch.manual_seed(0)\n",
    "\n",
    "\n",
    "weight_bit_width = 4\n",
    "act_bit_width = 4\n",
    "in_bit_width = 4\n",
    "num_classes =  round((dims[0]/10))*4\n",
    "\n",
    "if color == 0:\n",
    "    channels = 1\n",
    "if color == 1:\n",
    "    channels = 3\n",
    "\n",
    "\n",
    "# \"vgg 9\" topology [64, 'M', 128, 'M', 256, 256, 'M', 256, 256, 'M',],\n",
    "# M = max pool\n",
    "\n",
    "class LowPrecisionLeNet(Module):\n",
    "    def __init__(self):\n",
    "        super(LowPrecisionLeNet, self).__init__()\n",
    "        self.quant_inp = QuantIdentity(\n",
    "            bit_width=in_bit_width, return_quant_tensor=True)\n",
    "        \n",
    "        \n",
    "        self.conv1 = QuantConv2d(\n",
    "            channels, 64, 3, weight_bit_width=weight_bit_width, bias_quant=BiasQuant, return_quant_tensor=True)\n",
    "        self.relu1 = QuantReLU(\n",
    "            bit_width=act_bit_width, return_quant_tensor=True)\n",
    "                \n",
    "        self.maxpool1 = nn.MaxPool2d(2, stride=2)\n",
    "            \n",
    "        self.conv2 = QuantConv2d(\n",
    "            64, 128, 3, weight_bit_width=weight_bit_width, bias_quant=BiasQuant, return_quant_tensor=True)\n",
    "        self.relu2 = QuantReLU(\n",
    "            bit_width=act_bit_width, return_quant_tensor=True)\n",
    "        \n",
    "        \n",
    "        self.maxpool2 = nn.MaxPool2d(2, stride=2)\n",
    "        \n",
    "        \n",
    "        self.conv3 = QuantConv2d(\n",
    "            128, 256, 3, weight_bit_width=weight_bit_width, bias_quant=BiasQuant, return_quant_tensor=True)\n",
    "        self.relu3 = QuantReLU(\n",
    "            bit_width=act_bit_width, return_quant_tensor=True)\n",
    "        \n",
    "        self.conv4 = QuantConv2d(\n",
    "            256, 256, 3, weight_bit_width=weight_bit_width, bias_quant=BiasQuant, return_quant_tensor=True)\n",
    "        self.relu4 = QuantReLU(\n",
    "            bit_width=act_bit_width, return_quant_tensor=True)\n",
    "        \n",
    "        \n",
    "        self.maxpool3 = nn.MaxPool2d(2, stride=2)\n",
    "        \n",
    "        \n",
    "        self.conv5 = QuantConv2d(\n",
    "            256, 256, 3, weight_bit_width=weight_bit_width, bias_quant=BiasQuant, return_quant_tensor=True)\n",
    "        self.relu5 = QuantReLU(\n",
    "            bit_width=act_bit_width, return_quant_tensor=True)\n",
    "        \n",
    "        self.conv6 = QuantConv2d(\n",
    "            256, 256, 3, weight_bit_width=weight_bit_width, bias_quant=BiasQuant, return_quant_tensor=True)\n",
    "        self.relu6 = QuantReLU(\n",
    "            bit_width=act_bit_width, return_quant_tensor=True)\n",
    "        \n",
    "        \n",
    "        self.maxpool4 = nn.MaxPool2d(2, stride=2) \n",
    "        ##-------------------------------------------------------\n",
    "        \n",
    "        \n",
    "        \n",
    "        \n",
    "        ##-------------------------------------------------------\n",
    "        self.fc1   = QuantLinear(\n",
    "            1024, 512, bias=True, weight_bit_width=weight_bit_width, bias_quant=BiasQuant, return_quant_tensor=True)\n",
    "        self.dropout1 = nn.Dropout(p=0.5)\n",
    "        self.relu7 = QuantReLU(\n",
    "            bit_width=act_bit_width, return_quant_tensor=True)\n",
    "        self.fc2   = QuantLinear(\n",
    "            512, 512, bias=True, weight_bit_width=weight_bit_width, bias_quant=BiasQuant, return_quant_tensor=True)\n",
    "        self.dropout2 = nn.Dropout(p=0.5)\n",
    "        self.relu8 = QuantReLU(\n",
    "            bit_width=act_bit_width, return_quant_tensor=True)\n",
    "        self.fc3   = QuantLinear(\n",
    "            512, num_classes, bias=False, weight_bit_width=weight_bit_width)\n",
    "\n",
    "\n",
    "    def forward(self, x):\n",
    "        out = self.quant_inp(x)\n",
    "        out = self.conv1(out)\n",
    "        out = self.relu1(out)\n",
    "        out = self.maxpool1(out)\n",
    "        out = self.conv2(out)\n",
    "        out = self.relu2(out)\n",
    "        out = self.maxpool2(out)        \n",
    "        out = self.conv3(out)\n",
    "        out = self.relu3(out)\n",
    "        out = self.conv4(out)\n",
    "        out = self.relu4(out)\n",
    "        out = self.maxpool3(out)        \n",
    "        out = self.conv5(out)\n",
    "        out = self.relu5(out)\n",
    "        out = self.conv6(out)\n",
    "        out = self.relu6(out)\n",
    "        out = self.maxpool4(out)\n",
    "        ##------------------------------\n",
    "        \n",
    "        ##------------------------------\n",
    "        out = out.reshape(out.shape[0], -1)\n",
    "        out = self.fc1(out)\n",
    "        out = self.dropout1(out)\n",
    "        out = self.relu7(out)\n",
    "        out = self.fc2(out)\n",
    "        out = self.dropout2(out)\n",
    "        out = self.relu8(out)\n",
    "        out = self.fc3(out)\n",
    "        return out\n",
    "\n",
    "\n",
    "model = LowPrecisionLeNet()"
   ]
  },
  {
   "cell_type": "code",
   "execution_count": 321,
   "id": "ae19ae3a",
   "metadata": {},
   "outputs": [
    {
     "name": "stdout",
     "output_type": "stream",
     "text": [
      "tensor([[ 0.0275,  0.0577, -0.1209, -0.0513, -0.2061, -0.1182,  0.0870, -0.0348,\n",
      "         -0.4122,  0.1255, -0.0962, -0.3298, -0.1191,  0.2482,  0.2134, -0.0431,\n",
      "         -0.2675, -0.0174,  0.1832, -0.0156,  0.2730,  0.0046, -0.2189,  0.1713,\n",
      "          0.0027,  0.1090,  0.0092, -0.1658, -0.0321, -0.0815, -0.0586,  0.3463,\n",
      "          0.1337, -0.1310, -0.2629,  0.4232,  0.0513,  0.0027,  0.0220,  0.0073]],\n",
      "       grad_fn=<MmBackward>)\n"
     ]
    }
   ],
   "source": [
    "#test\n",
    "it = iter(train_quantized_loader)\n",
    "x,y = next(it)\n",
    "\n",
    "#x = torch.unsqueeze(x, 1)\n",
    "outp = model(x)\n",
    "\n",
    "print(outp)"
   ]
  },
  {
   "cell_type": "markdown",
   "id": "ec83110c",
   "metadata": {},
   "source": [
    "# Define Train and Test  Methods  <a id='train_test'></a>\n",
    "The train and test methods will use a `DataLoader`, which feeds the model with a new predefined batch of training data in each iteration, until the entire training data is fed to the model. Each repetition of this process is called an `epoch`."
   ]
  },
  {
   "cell_type": "code",
   "execution_count": 322,
   "id": "11ec0162",
   "metadata": {},
   "outputs": [],
   "source": [
    "def train(model, train_loader, optimizer, criterion):\n",
    "    losses = []\n",
    "    # ensure model is in training mode\n",
    "    model.to(device)\n",
    "    model.train()    \n",
    "    \n",
    "    for i, data in enumerate(train_loader, 0):  \n",
    "        inputs, target = data[0].to(device), data[1].to(device)     \n",
    "        #print(inputs.shape)\n",
    "        #print(target.shape)\n",
    "        #inputs, target = data\n",
    "        optimizer.zero_grad()   \n",
    "                \n",
    "        # forward pass\n",
    "        if color == 0:\n",
    "            torch.squeeze(inputs, 1)\n",
    "        #print(inputs.size())\n",
    "        output = model(inputs.float())\n",
    "        loss = criterion(output, target)# target.unsqueeze(1))\n",
    "        \n",
    "        # backward pass + run optimizer to update weights\n",
    "        loss.backward()\n",
    "        optimizer.step()\n",
    "        \n",
    "        # keep track of loss value\n",
    "        losses.append(loss.cpu().data.numpy()) \n",
    "           \n",
    "    return losses"
   ]
  },
  {
   "cell_type": "code",
   "execution_count": 323,
   "id": "c2d3b0bd",
   "metadata": {},
   "outputs": [],
   "source": [
    "import torch\n",
    "from sklearn.metrics import accuracy_score\n",
    "\n",
    "def r2_loss(output, target):\n",
    "    target_mean = torch.mean(target)\n",
    "    ss_tot = torch.sum((target - target_mean) ** 2)\n",
    "    ss_res = torch.sum((target - output) ** 2)\n",
    "    r2 = 1 - ss_res / ss_tot\n",
    "    return r2\n",
    "\n",
    "def test(model, test_loader):    \n",
    "    # ensure model is in eval mode\n",
    "    model.eval() \n",
    "    y_true = []\n",
    "    y_pred = []\n",
    "   \n",
    "    with torch.no_grad():\n",
    "        for data in test_loader:\n",
    "            inputs, target = data[0].to(device), data[1].to(device) \n",
    "            output_orig = model(inputs.float())\n",
    "            # run the output through sigmoid\n",
    "            #print(target)\n",
    "            #print(output_orig)\n",
    "            #print(output_orig.shape)\n",
    "            #print(output_orig.type())\n",
    "            #print(\"here\")\n",
    "            #pred = torch.zeros([batch_size], dtype=torch.float32)  ## may depend on loss function\n",
    "            #for i in range(batch_size):\n",
    "            #    pred[i] = torch.argmax(output_orig[i])\n",
    "            pred = output_orig\n",
    "            #pred = output_orig\n",
    "            #print(pred)\n",
    "            #print(target)\n",
    "            # compare against a threshold of 0.5 to generate 0/1\n",
    "            #pred = (output.detach().numpy() > 0.5) * 1\n",
    "            #target = target.float()\n",
    "            y_true.extend(target.tolist()) \n",
    "            y_pred.extend(pred.reshape(-1).tolist())\n",
    "            \n",
    "            #print(y_true)\n",
    "            #print(y_pred)\n",
    "        \n",
    "    return r2_loss(output_orig, inputs) #accuracy_score(y_true, y_pred)"
   ]
  },
  {
   "cell_type": "markdown",
   "id": "570874f4",
   "metadata": {},
   "source": [
    "## Train the Model from Scratch <a id=\"train_scratch\"></a>\n"
   ]
  },
  {
   "cell_type": "code",
   "execution_count": 324,
   "id": "bcaf8229",
   "metadata": {},
   "outputs": [
    {
     "name": "stdout",
     "output_type": "stream",
     "text": [
      "Using device:  cpu\n"
     ]
    },
    {
     "data": {
      "text/plain": [
       "False"
      ]
     },
     "execution_count": 324,
     "metadata": {},
     "output_type": "execute_result"
    }
   ],
   "source": [
    "num_epochs = 1 #300\n",
    "lr = 0.0001 #0.001 \n",
    "\n",
    "def display_loss_plot(losses, title=\"Training loss\", xlabel=\"Iterations\", ylabel=\"Loss\"):\n",
    "    x_axis = [i for i in range(len(losses))]\n",
    "    plt.plot(x_axis,losses)\n",
    "    plt.title(title)\n",
    "    plt.xlabel(xlabel)\n",
    "    plt.ylabel(ylabel)\n",
    "    plt.show()\n",
    "    \n",
    "# loss criterion and optimizer\n",
    "criterion =  nn.BCEWithLogitsLoss() #nn.CrossEntropyLoss() #nn.BCEWithLogitsLoss()\n",
    "optimizer = torch.optim.Adam(model.parameters(), lr=lr, betas=(0.9, 0.999))\n",
    "\n",
    "print(\"Using device: \", device)\n",
    "\n",
    "torch.cuda.is_available()"
   ]
  },
  {
   "cell_type": "code",
   "execution_count": 325,
   "id": "7e60f392",
   "metadata": {
    "scrolled": true
   },
   "outputs": [
    {
     "name": "stderr",
     "output_type": "stream",
     "text": [
      "\n",
      "Training loss:   0%|          | 0/1 [00:00<?, ?it/s]\u001b[A\n",
      "Training loss:   0%|          | 0/1 [00:02<?, ?it/s]\u001b[A\n",
      "Training loss: 100%|██████████| 1/1 [00:02<00:00,  2.85s/it]\u001b[A"
     ]
    }
   ],
   "source": [
    "import numpy as np\n",
    "from sklearn.metrics import accuracy_score\n",
    "from tqdm import tqdm, trange\n",
    "\n",
    "training = True\n",
    "\n",
    "if training == True:\n",
    "    running_loss = []\n",
    "    running_test_acc = []\n",
    "    t = trange(num_epochs, desc=\"Training loss\", leave=True)\n",
    "\n",
    "    for epoch in t:\n",
    "            loss_epoch = train(model, train_quantized_loader, optimizer,criterion)\n",
    "            #test_acc = test(model, test_quantized_loader)\n",
    "            #t.set_description(\"Training loss = %f test accuracy = %f\" % (np.mean(loss_epoch), test_acc))\n",
    "            t.refresh() # to show immediately the update           \n",
    "            running_loss.append(loss_epoch)\n",
    "            #running_test_acc.append(test_acc)\n",
    "            \n",
    "    # Save the Brevitas model to disk\n",
    "    torch.save(model.state_dict(), \"state_dict__150_150_class_test.pth\")\n",
    "    \n",
    "    \n",
    "if training == False:\n",
    "    if str(device) == 'cpu':\n",
    "        trained_state_dict = torch.load(\"state_dict__224_224_class_pruned_dataset.pth\", map_location=torch.device('cpu'))\n",
    "    else:\n",
    "        trained_state_dict = torch.load(\"state_dict__224_224_class_pruned_dataset.pth\")\n",
    "    model.load_state_dict(trained_state_dict, strict=False)"
   ]
  },
  {
   "cell_type": "code",
   "execution_count": 326,
   "id": "1b6b595e",
   "metadata": {},
   "outputs": [
    {
     "name": "stdout",
     "output_type": "stream",
     "text": [
      "RECT:  30 10 50 80\n"
     ]
    },
    {
     "data": {
      "image/png": "[encoded data removed]",
      "text/plain": [
       "<Figure size 432x288 with 1 Axes>"
      ]
     },
     "metadata": {
      "needs_background": "light"
     },
     "output_type": "display_data"
    }
   ],
   "source": [
    "## testing\n",
    "\n",
    "#print(torch.cuda.memory_summary(device=None, abbreviated=False))\n",
    "import matplotlib.pyplot as plt\n",
    "import matplotlib.patches as patches\n",
    "import copy\n",
    "\n",
    "it = 0\n",
    "\n",
    "for data in test_quantized_loader:\n",
    "    if training == True:\n",
    "        inputs, target = data[0].to(device), data[1].to(device) \n",
    "        input_img = copy.deepcopy(inputs[0])\n",
    "    if training == False:\n",
    "        inputs, target = data\n",
    "        input_img = copy.deepcopy(inputs[0])\n",
    "    \n",
    "    \n",
    "    \n",
    "    #print(inputs)\n",
    "    #print(\"targets shape\", targets.shape)\n",
    "    #print(\"inputs shape\", inputs.shape)\n",
    "    \n",
    "\n",
    "    if color == 0:\n",
    "        output_orig = model(inputs.float())\n",
    "    else:\n",
    "        output_orig = model(inputs[0].float())\n",
    "    #print(\"ORIG: \", output_orig)\n",
    "    \n",
    "    ot2np = output_orig.cpu().detach().numpy()\n",
    "    #tt2np = targets[it].cpu().detach().numpy()\n",
    "    #print(\"output\", ot2np)\n",
    "    #print(\"target\", tt2np)\n",
    "    \n",
    "\n",
    "    \n",
    "    scaling = 10\n",
    "    \n",
    "    xmin_pred = scaling * np.argmax( ot2np[0][0:(round((dims[0]/10)))], axis=0 )\n",
    "    ymin_pred = scaling * np.argmax( ot2np[0][(round((dims[0]/10))+1):(round((dims[0]/10)*2))], axis=0 )\n",
    "    xmax_pred = scaling * np.argmax( ot2np[0][(round((dims[0]/10)*2)+1):(round((dims[0]/10)*3))], axis=0 )\n",
    "    ymax_pred = scaling * np.argmax( ot2np[0][(round((dims[0]/10)*3)+1):(round((dims[0]/10)*4))], axis=0 )\n",
    "    \n",
    "    #xmin_targ = scaling * np.argmax( tt2np[0:(round((dims[0]/10)))], axis=0 )\n",
    "    #ymin_targ = scaling * np.argmax( tt2np[(round((dims[0]/10))+1):(round((dims[0]/10)*2))], axis=0 )\n",
    "    #xmax_targ = scaling * np.argmax( tt2np[(round((dims[0]/10)*2)+1):(round((dims[0]/10)*3))], axis=0 )\n",
    "    #ymax_targ = scaling * np.argmax( tt2np[(round((dims[0]/10)*3)+1):(round((dims[0]/10)*4))], axis=0 )\n",
    "    \n",
    "    print(\"RECT: \", xmin_pred, ymin_pred, xmax_pred, ymax_pred)\n",
    "    #print(\"TARG: \", xmin_targ, ymin_targ, xmax_targ, ymax_targ)\n",
    "    \n",
    "    input_img = torch.squeeze(input_img,1)\n",
    "    if color == 1:\n",
    "        input_img = torch.squeeze(input_img,0)\n",
    "    \n",
    "    \n",
    "    im = input_img.cpu()\n",
    "    im = np.moveaxis(np.asarray(im),0,2).astype('int32')\n",
    "\n",
    "    # Create figure and axes\n",
    "    fig, ax = plt.subplots()\n",
    "\n",
    "    # Display the image\n",
    "    ax.imshow(im)\n",
    "\n",
    "\n",
    "    \n",
    "    # Create a Rectangle patch\n",
    "    pred_rect = patches.Rectangle((xmin_pred,ymin_pred), abs(xmax_pred-xmin_pred), abs(ymax_pred-ymin_pred), linewidth=2, edgecolor='r', facecolor='none')\n",
    "    #targ_rect = patches.Rectangle((xmin_targ,ymin_targ), abs(xmax_targ-xmin_targ), abs(ymax_targ-ymin_targ), linewidth=2, edgecolor='g', facecolor='none')\n",
    "\n",
    "    # Add the patch to the Axes\n",
    "    ax.add_patch(pred_rect)\n",
    "    #ax.add_patch(targ_rect)\n",
    "\n",
    "    plt.show()\n",
    "    \n",
    "    it += 1\n",
    "    \n",
    "    #break#quit()\n",
    "\n",
    "#print(model(x))\n",
    "#print(y)"
   ]
  },
  {
   "cell_type": "code",
   "execution_count": 327,
   "id": "80dbf4c9",
   "metadata": {},
   "outputs": [
    {
     "name": "stdout",
     "output_type": "stream",
     "text": [
      "ORIG:  [[-3.6934037  -1.3572146  -0.9567251  -2.7663453  -1.7057889  -4.3534703\n",
      "  -5.1025343  -0.19282842 -3.2706656  -3.1000862  -4.8281245   0.57848513\n",
      "   0.72681457 -1.6019585  -2.158194   -3.908482   -1.4684616  -3.144585\n",
      "  -2.9369235   1.1050545  -4.1458087  -0.67489916 -2.9814224  -2.899841\n",
      "  -2.4771025  -0.76389664  0.0074164   1.0531392  -3.389329   -2.543851\n",
      "  -2.017281    1.1940523  -4.776209   -1.3646312  -3.715653   -0.5265696\n",
      "  -1.5352101  -0.79356265  0.10383064 -1.8986173 ]]\n",
      "RECT:  70 80 60 0\n"
     ]
    },
    {
     "data": {
      "image/png": "[encoded data removed]",
      "text/plain": [
       "<Figure size 432x288 with 1 Axes>"
      ]
     },
     "metadata": {
      "needs_background": "light"
     },
     "output_type": "display_data"
    }
   ],
   "source": [
    "# test single images\n",
    "import math\n",
    "import copy\n",
    "import matplotlib.pyplot as plt\n",
    "import matplotlib.patches as patches\n",
    "\n",
    "img = cv2.imread(\"test1.jpg\")\n",
    "img = cv2.cvtColor(img, cv2.COLOR_BGR2RGB) # this converts it into RGB\n",
    "top = math.floor((500 - img.shape[0]) / 2)\n",
    "bottom = math.ceil((500 - img.shape[0]) / 2)\n",
    "left = math.floor((500 - img.shape[1]) / 2)\n",
    "right = math.ceil((500 - img.shape[1]) / 2)\n",
    "img = cv2.copyMakeBorder(img, top, bottom, left, right, cv2.BORDER_CONSTANT)\n",
    "img1 = cv2.resize(img, dims, interpolation = cv2.INTER_AREA)# resize img to fit dims\n",
    "img1 = np.moveaxis(np.asarray(img1), -1, 0)\n",
    "\n",
    "img = cv2.imread(\"test2.jpg\")\n",
    "img = cv2.cvtColor(img, cv2.COLOR_BGR2RGB) # this converts it into RGB\n",
    "top = math.floor((500 - img.shape[0]) / 2)\n",
    "bottom = math.ceil((500 - img.shape[0]) / 2)\n",
    "left = math.floor((500 - img.shape[1]) / 2)\n",
    "right = math.ceil((500 - img.shape[1]) / 2)\n",
    "img = cv2.copyMakeBorder(img, top, bottom, left, right, cv2.BORDER_CONSTANT)\n",
    "img2 = cv2.resize(img, dims, interpolation = cv2.INTER_AREA)# resize img to fit dims\n",
    "img2 = np.moveaxis(np.asarray(img2), -1, 0)\n",
    "#plt.imshow(img2)\n",
    "\n",
    "from torchvision import transforms\n",
    "\n",
    "img1 = torch.from_numpy(img2).clone().detach()\n",
    "img2 = torch.from_numpy(img2).clone().detach()\n",
    "\n",
    "\n",
    "input_img = copy.deepcopy(img1)\n",
    "\n",
    "if training == True:\n",
    "    img1 = img1.to(device)\n",
    "\n",
    "\n",
    "img1 = torch.unsqueeze(img1,0)\n",
    "output_orig = model(img1.float())\n",
    "output_orig = output_orig.cpu().detach().numpy()\n",
    "print(\"ORIG: \", output_orig)\n",
    "#print(int(round(float(output_orig[0][0]))))\n",
    "\n",
    "xmin = scaling * np.argmax( output_orig[0][0:(round((dims[0]/10)))], axis=0 )\n",
    "ymin = scaling * np.argmax( output_orig[0][(round((dims[0]/10))+1):(round((dims[0]/10)*2))], axis=0 )\n",
    "xmax = scaling * np.argmax( output_orig[0][(round((dims[0]/10)*2)+1):(round((dims[0]/10)*3))], axis=0 )\n",
    "ymax = scaling * np.argmax( output_orig[0][(round((dims[0]/10)*3)+1):(round((dims[0]/10)*4))], axis=0 )\n",
    "\n",
    "print(\"RECT: \", xmin, ymin, xmax, ymax)\n",
    "\n",
    "input_img = torch.squeeze(input_img,1)\n",
    "input_img = torch.squeeze(input_img,0)\n",
    "#print(inputs_net)\n",
    "\n",
    "\n",
    "im = input_img.cpu()\n",
    "im = np.moveaxis(np.asarray(im),0,2).astype('int32')\n",
    "\n",
    "# Create figure and axes\n",
    "fig, ax = plt.subplots()\n",
    "\n",
    "# Display the image\n",
    "ax.imshow(im)\n",
    "\n",
    "\n",
    "\n",
    "# Create a Rectangle patch\n",
    "rect = patches.Rectangle((xmin,ymin), abs(xmax-xmin), abs(ymax-ymin), linewidth=2, edgecolor='r', facecolor='none')\n",
    "\n",
    "# Add the patch to the Axes\n",
    "ax.add_patch(rect)\n",
    "\n",
    "plt.show()\n"
   ]
  },
  {
   "cell_type": "code",
   "execution_count": 328,
   "id": "f0f89c3f",
   "metadata": {},
   "outputs": [],
   "source": [
    "# Save the Brevitas model to disk\n",
    "torch.save(model.state_dict(), \"state_dict_self-trained.pth\")"
   ]
  },
  {
   "cell_type": "code",
   "execution_count": 329,
   "id": "2ee9f883",
   "metadata": {},
   "outputs": [
    {
     "data": {
      "text/plain": [
       "(64, 3, 3, 3)"
      ]
     },
     "execution_count": 329,
     "metadata": {},
     "output_type": "execute_result"
    }
   ],
   "source": [
    "from copy import deepcopy\n",
    "\n",
    "modified_model = deepcopy(model)\n",
    "\n",
    "W_orig = modified_model.conv1.weight.data.cpu().detach().numpy()\n",
    "W_orig.shape\n",
    "#W_orig = modified_model[0].weight.data.detach().numpy()\n",
    "#W_orig.shape"
   ]
  },
  {
   "cell_type": "code",
   "execution_count": 330,
   "id": "c128117d",
   "metadata": {},
   "outputs": [],
   "source": [
    "from brevitas.core.quant import QuantType\n",
    "from brevitas.nn import QuantIdentity\n",
    "\n",
    "\n",
    "class CybSecMLPForExport(nn.Module):\n",
    "    def __init__(self, my_pretrained_model):\n",
    "        super(CybSecMLPForExport, self).__init__()\n",
    "        self.pretrained = my_pretrained_model\n",
    "        #self.qnt_output = QuantIdentity(quant_type=QuantType.INT, bit_width=8, min_val=-1.0, max_val=1.0)\n",
    "    \n",
    "    def forward(self, x):\n",
    "        # assume x contains bipolar {-1,1} elems\n",
    "        # shift from {-1,1} -> {0,1} since that is the\n",
    "        # input range for the trained network\n",
    "        #x = (x + torch.tensor([1.0])) / 2.0  \n",
    "        out = self.pretrained(x)\n",
    "        #out = self.qnt_output(out)   # output as {-1,1}     # drop quantized output\n",
    "        return out\n",
    "\n",
    "model_for_export = CybSecMLPForExport(modified_model)"
   ]
  },
  {
   "cell_type": "code",
   "execution_count": 331,
   "id": "5fc55dd3",
   "metadata": {},
   "outputs": [],
   "source": [
    "## Test IoU accuracy of model\n",
    "\n",
    "#https://www.pyimagesearch.com/2016/11/07/intersection-over-union-iou-for-object-detection/\n",
    "def bb_intersection_over_union(boxA, boxB):\n",
    "    # determine the (x, y)-coordinates of the intersection rectangle\n",
    "    xA = max(boxA[0], boxB[0])\n",
    "    yA = max(boxA[1], boxB[1])\n",
    "    xB = min(boxA[2], boxB[2])\n",
    "    yB = min(boxA[3], boxB[3])\n",
    "    \n",
    "    # compute the area of intersection rectangle\n",
    "    interArea = max(0, xB - xA + 1) * max(0, yB - yA + 1)\n",
    "    \n",
    "    # compute the area of both the prediction and ground-truth\n",
    "    # rectangles\n",
    "    boxAArea = (boxA[2] - boxA[0] + 1) * (boxA[3] - boxA[1] + 1)\n",
    "    boxBArea = (boxB[2] - boxB[0] + 1) * (boxB[3] - boxB[1] + 1)\n",
    "    \n",
    "    # compute the intersection over union by taking the intersection\n",
    "    # area and dividing it by the sum of prediction + ground-truth\n",
    "    # areas - the interesection area\n",
    "    iou = interArea / float(boxAArea + boxBArea - interArea)\n",
    "    \n",
    "    # return the intersection over union value\n",
    "    return iou\n",
    "\n",
    "def test_padded_bipolar(model, test_loader):    \n",
    "    # ensure model is in eval mode\n",
    "    model.eval() \n",
    "    y_true = []\n",
    "    y_pred = []\n",
    "   \n",
    "    its = 0\n",
    "    \n",
    "    with torch.no_grad():\n",
    "        for data in test_loader:      \n",
    "        \n",
    "            inputs, target = data\n",
    "            inputs = torch.squeeze(inputs,1)\n",
    "            output_orig = model(inputs)\n",
    "            #print(output_orig)\n",
    "            #print(int(output_orig.size(dim=0)))\n",
    "\n",
    "            pred = torch.zeros((4), dtype=torch.int64)\n",
    "            true = torch.zeros((4), dtype=torch.int64)\n",
    "            for i in range(int(output_orig.size(dim=0))):\n",
    "                its += 1\n",
    "                #print(output_orig.size())    \n",
    "                #print(i)\n",
    "                pred[0] = scaling * np.argmax( output_orig[i][0:(round((dims[0]/10)))], axis=0 )\n",
    "                pred[1] = scaling * np.argmax( output_orig[i][(round((dims[0]/10))+1):(round((dims[0]/10)*2))], axis=0 )\n",
    "                pred[2] = scaling * np.argmax( output_orig[i][(round((dims[0]/10)*2)+1):(round((dims[0]/10)*3))], axis=0 )\n",
    "                pred[3] = scaling * np.argmax( output_orig[i][(round((dims[0]/10)*3)+1):(round((dims[0]/10)*4))], axis=0 )\n",
    "                #print(pred)\n",
    "                true[0] = target[i][0].float()\n",
    "                true[1] = target[i][1].float()\n",
    "                true[2] = target[i][2].float()\n",
    "                true[3] = target[i][3].float()\n",
    "                y_pred.append(pred.tolist())\n",
    "                y_true.append(true.tolist())\n",
    "\n",
    "             \n",
    "    bbox_iou_sum = 0\n",
    "    for i in range(len(y_true)):\n",
    "        bbox_iou_sum += bb_intersection_over_union(y_true[i], y_pred[i])\n",
    "        \n",
    "    bbox_avg = bbox_iou_sum / its\n",
    "    \n",
    "    return bbox_avg"
   ]
  },
  {
   "cell_type": "code",
   "execution_count": 332,
   "id": "3cec4f63",
   "metadata": {},
   "outputs": [
    {
     "data": {
      "text/plain": [
       "0.0"
      ]
     },
     "execution_count": 332,
     "metadata": {},
     "output_type": "execute_result"
    }
   ],
   "source": [
    "test_padded_bipolar(model_for_export, test_quantized_loader)"
   ]
  },
  {
   "cell_type": "markdown",
   "id": "12c34c60",
   "metadata": {},
   "source": [
    "# Export to FINN-ONNX <a id=\"export_finn_onnx\" ></a>\n",
    "\n",
    "\n",
    "[ONNX](https://onnx.ai/) is an open format built to represent machine learning models, and the FINN compiler expects an ONNX model as input. We'll now export our network into ONNX to be imported and used in FINN for the next notebooks. Note that the particular ONNX representation used for FINN differs from standard ONNX, you can read more about this [here](https://finn.readthedocs.io/en/latest/internals.html#intermediate-representation-finn-onnx).\n",
    "\n",
    "You can see below how we export a trained network in Brevitas into a FINN-compatible ONNX representation. Note how we create a `QuantTensor` instance with dummy data to tell Brevitas how our inputs look like, which will be used to set the input quantization annotation on the exported model."
   ]
  },
  {
   "cell_type": "code",
   "execution_count": 333,
   "id": "03bf09fb",
   "metadata": {
    "scrolled": false
   },
   "outputs": [
    {
     "name": "stdout",
     "output_type": "stream",
     "text": [
      "Model saved to cybsec-mlp-ready.onnx\n"
     ]
    }
   ],
   "source": [
    "import brevitas.onnx as bo\n",
    "from brevitas.quant_tensor import QuantTensor\n",
    "\n",
    "ready_model_filename = \"cybsec-mlp-ready.onnx\"\n",
    "input_shape = (1, channels, resized_size, resized_size)\n",
    "# create a QuantTensor instance to mark input as bipolar during export\n",
    "input_a = np.random.randint(0, 1, size=input_shape).astype(np.float32)\n",
    "scale = 1.0\n",
    "input_t = torch.from_numpy(input_a * scale)\n",
    "input_qt = QuantTensor(\n",
    "    input_t, scale=torch.tensor(scale), bit_width=torch.tensor(8.0), signed=False\n",
    ")\n",
    "\n",
    "bo.export_finn_onnx(\n",
    "    model_for_export, export_path=ready_model_filename, input_t=input_qt\n",
    ")\n",
    "\n",
    "print(\"Model saved to %s\" % ready_model_filename)"
   ]
  },
  {
   "cell_type": "markdown",
   "id": "b91ab4f2",
   "metadata": {},
   "source": [
    "# Verify Exported ONNX Model in FINN\n",
    "\n",
    "<font color=\"red\">**Live FINN tutorial:** We recommend clicking **Cell -> Run All** when you start reading this notebook for \"latency hiding\".</font>\n",
    "\n",
    "**Important: This notebook depends on the 1-train-mlp-with-brevitas notebook, because we are using the ONNX model that was exported there. So please make sure the needed .onnx file is generated before you run this notebook.**\n",
    "\n",
    "**Also remember to 'close and halt' any other FINN notebooks, since Netron visualizations use the same port.**\n",
    "\n",
    "In this notebook we will show how to import the network we trained in Brevitas and verify it in the FINN compiler. \n",
    "This verification process can actually be done at various stages in the compiler [as explained in this notebook](../bnn-pynq/tfc_end2end_verification.ipynb) but for this example we'll only consider the first step: verifying the exported high-level FINN-ONNX model.\n",
    "Another goal of this notebook is to introduce you to the concept of *graph transformations* -- we'll be applying some transformations to the graph to make it executable for verification. \n",
    "Once this model is sucessfully verified, we'll generate an FPGA accelerator from it in the next notebook."
   ]
  },
  {
   "cell_type": "code",
   "execution_count": 334,
   "id": "efd0d559",
   "metadata": {},
   "outputs": [],
   "source": [
    "import onnx \n",
    "import torch "
   ]
  },
  {
   "cell_type": "markdown",
   "id": "39f33949",
   "metadata": {},
   "source": [
    "**This is important -- always import onnx before torch**. This is a workaround for a [known bug](https://github.com/onnx/onnx/issues/2394)."
   ]
  },
  {
   "cell_type": "markdown",
   "id": "629d0ab5",
   "metadata": {},
   "source": [
    "# 1. Import model into FINN with ModelWrapper <a id=\"brevitas_import_visualization\"></a>\n",
    "\n",
    "Now that we have the model in .onnx format, we can work with it using FINN. To import it into FINN, we'll use the [`ModelWrapper`](https://finn.readthedocs.io/en/latest/source_code/finn.core.html#finn.core.modelwrapper.ModelWrapper). It is a wrapper around the ONNX model which provides several helper functions to make it easier to work with the model."
   ]
  },
  {
   "cell_type": "code",
   "execution_count": 335,
   "id": "fdd08d20",
   "metadata": {},
   "outputs": [],
   "source": [
    "from finn.core.modelwrapper import ModelWrapper\n",
    "\n",
    "ready_model_filename = \"cybsec-mlp-ready.onnx\"\n",
    "model_for_sim = ModelWrapper(ready_model_filename)"
   ]
  },
  {
   "cell_type": "markdown",
   "id": "751b37f5",
   "metadata": {},
   "source": [
    "# 2. Network preparation: Tidy-up transformations <a id=\"network_preparations\"></a>\n",
    "\n",
    "Before running the verification, we need to prepare our FINN-ONNX model. In particular, all the intermediate tensors need to have statically defined shapes. To do this, we apply some graph transformations to the model like a kind of \"tidy-up\" to make it easier to process. \n",
    "\n",
    "**Graph transformations in FINN.** The whole FINN compiler is built around the idea of transformations, which gradually transform the model into a synthesizable hardware description. Although FINN offers functionality that automatically calls a standard sequence of transformations (covered in the next notebook), you can also manually call individual transformations (like we do here), as well as adding your own transformations, to create custom flows. You can read more about these transformations in [this notebook](../bnn-pynq/tfc_end2end_example.ipynb)."
   ]
  },
  {
   "cell_type": "code",
   "execution_count": 336,
   "id": "c2a02066",
   "metadata": {},
   "outputs": [],
   "source": [
    "from finn.transformation.general import GiveReadableTensorNames, GiveUniqueNodeNames, RemoveStaticGraphInputs\n",
    "from finn.transformation.infer_shapes import InferShapes\n",
    "from finn.transformation.infer_datatypes import InferDataTypes\n",
    "from finn.transformation.fold_constants import FoldConstants\n",
    "\n",
    "model_for_sim = model_for_sim.transform(InferShapes())\n",
    "model_for_sim = model_for_sim.transform(FoldConstants())\n",
    "model_for_sim = model_for_sim.transform(GiveUniqueNodeNames())\n",
    "model_for_sim = model_for_sim.transform(GiveReadableTensorNames())\n",
    "model_for_sim = model_for_sim.transform(InferDataTypes())\n",
    "model_for_sim = model_for_sim.transform(RemoveStaticGraphInputs())\n",
    "\n",
    "verif_model_filename = \"cybsec-mlp-verification.onnx\"\n",
    "model_for_sim.save(verif_model_filename)"
   ]
  },
  {
   "cell_type": "markdown",
   "id": "f83ca88d",
   "metadata": {},
   "source": [
    "**Would the FINN compiler still work if we didn't do this?** The compilation step in the next notebook applies these transformations internally and would work fine, but we're going to use FINN's verification capabilities below and these require the tidy-up transformations."
   ]
  },
  {
   "cell_type": "markdown",
   "id": "8b0c65ca",
   "metadata": {},
   "source": [
    "# 3. Load the Dataset and the Brevitas Model <a id=\"load_dataset\"></a>\n",
    "\n",
    "We'll use some example data from the quantized UNSW-NB15 dataset (from the previous notebook) to use as inputs for the verification. "
   ]
  },
  {
   "cell_type": "code",
   "execution_count": 337,
   "id": "92b34437",
   "metadata": {},
   "outputs": [
    {
     "name": "stdout",
     "output_type": "stream",
     "text": [
      "tensor([[[[[0., 0., 0.,  ..., 0., 0., 0.],\n",
      "           [0., 0., 0.,  ..., 0., 0., 0.],\n",
      "           [0., 0., 0.,  ..., 0., 0., 0.],\n",
      "           ...,\n",
      "           [0., 0., 0.,  ..., 0., 0., 0.],\n",
      "           [0., 0., 0.,  ..., 0., 0., 0.],\n",
      "           [0., 0., 0.,  ..., 0., 0., 0.]],\n",
      "\n",
      "          [[0., 0., 0.,  ..., 0., 0., 0.],\n",
      "           [0., 0., 0.,  ..., 0., 0., 0.],\n",
      "           [0., 0., 0.,  ..., 0., 0., 0.],\n",
      "           ...,\n",
      "           [0., 0., 0.,  ..., 0., 0., 0.],\n",
      "           [0., 0., 0.,  ..., 0., 0., 0.],\n",
      "           [0., 0., 0.,  ..., 0., 0., 0.]],\n",
      "\n",
      "          [[0., 0., 0.,  ..., 0., 0., 0.],\n",
      "           [0., 0., 0.,  ..., 0., 0., 0.],\n",
      "           [0., 0., 0.,  ..., 0., 0., 0.],\n",
      "           ...,\n",
      "           [0., 0., 0.,  ..., 0., 0., 0.],\n",
      "           [0., 0., 0.,  ..., 0., 0., 0.],\n",
      "           [0., 0., 0.,  ..., 0., 0., 0.]]]]])\n",
      "torch.FloatTensor\n",
      "torch.Size([1, 1, 3, 100, 100])\n"
     ]
    }
   ],
   "source": [
    "import numpy as np\n",
    "from torch.utils.data import TensorDataset\n",
    "\n",
    "n_verification_inputs = batch_size\n",
    "dataloader_iterator = iter(test_quantized_loader)\n",
    "input_tensor, labels = next(dataloader_iterator) #get_preqnt_dataset(\".\", False)\n",
    "print(input_tensor)\n",
    "print(input_tensor.type())\n",
    "print(input_tensor.shape)\n"
   ]
  },
  {
   "cell_type": "markdown",
   "id": "70430f19",
   "metadata": {},
   "source": [
    "Let's also bring up the MLP we trained in Brevitas from the previous notebook. We'll compare its outputs to what is generated by FINN."
   ]
  },
  {
   "cell_type": "code",
   "execution_count": 338,
   "id": "cc775be9",
   "metadata": {},
   "outputs": [
    {
     "data": {
      "text/plain": [
       "<All keys matched successfully>"
      ]
     },
     "execution_count": 338,
     "metadata": {},
     "output_type": "execute_result"
    }
   ],
   "source": [
    "brevitas_model = model\n",
    "\n",
    "\n",
    "# replace this with your trained network checkpoint if you're not\n",
    "# using the pretrained weights\n",
    "#trained_state_dict = torch.load(\"state_dict.pth\")[\"models_state_dict\"][0]\n",
    "# Uncomment the following line if you previously chose to train the network yourself\n",
    "trained_state_dict = torch.load(\"state_dict_self-trained.pth\")\n",
    "\n",
    "brevitas_model.load_state_dict(trained_state_dict, strict=False)"
   ]
  },
  {
   "cell_type": "code",
   "execution_count": 339,
   "id": "c5f86e06",
   "metadata": {},
   "outputs": [],
   "source": [
    "def inference_with_brevitas(current_inp):\n",
    "    brevitas_output = brevitas_model.forward(current_inp)\n",
    "    \"\"\"# apply sigmoid + threshold\n",
    "    brevitas_output = torch.sigmoid(brevitas_output)\n",
    "    brevitas_output = (brevitas_output.detach().numpy() > 0.5) * 1\n",
    "    # convert output to bipolar\n",
    "    brevitas_output = 2*brevitas_output - 1\"\"\"\n",
    "    return brevitas_output"
   ]
  },
  {
   "cell_type": "markdown",
   "id": "ca399fbe",
   "metadata": {},
   "source": [
    "# 4. Compare FINN & Brevitas execution <a id=\"compare_brevitas\"></a>"
   ]
  },
  {
   "cell_type": "markdown",
   "id": "1bc99247",
   "metadata": {},
   "source": [
    "Let's make helper functions to execute the same input with Brevitas and FINN. For FINN, we'll use the [`finn.core.onnx_exec`](https://finn.readthedocs.io/en/latest/source_code/finn.core.html#finn.core.onnx_exec.execute_onnx) function to execute the exported FINN-ONNX on the inputs. Note that this ONNX execution is for verification only; not for accelerated execution.\n",
    "\n",
    "Recall that the quantized values from the dataset are 593-bit binary {0, 1} vectors whereas our exported model takes 600-bit bipolar {-1, +1} vectors, so we'll have to preprocess it a bit before we can use it for verifying the ONNX model."
   ]
  },
  {
   "cell_type": "code",
   "execution_count": 340,
   "id": "204e605c",
   "metadata": {},
   "outputs": [],
   "source": [
    "import finn.core.onnx_exec as oxe\n",
    "\n",
    "def inference_with_finn_onnx(current_inp):\n",
    "    finnonnx_in_tensor_name = model_for_sim.graph.input[0].name\n",
    "    finnonnx_model_in_shape = model_for_sim.get_tensor_shape(finnonnx_in_tensor_name)\n",
    "    finnonnx_out_tensor_name = model_for_sim.graph.output[0].name\n",
    "    # convert input to numpy for FINN\n",
    "    current_inp = current_inp.detach().numpy()\n",
    "    # add padding and re-scale to bipolar\n",
    "    current_inp = np.asarray(current_inp)\n",
    "    #current_inp = 2*current_inp-1\n",
    "    # reshape to expected input (add 1 for batch dimension)\n",
    "    current_inp = current_inp.reshape(finnonnx_model_in_shape)\n",
    "    # create the input dictionary\n",
    "    input_dict = {finnonnx_in_tensor_name : current_inp} \n",
    "    # run with FINN's execute_onnx\n",
    "    output_dict = oxe.execute_onnx(model_for_sim, input_dict)\n",
    "    #get the output tensor\n",
    "    finn_output = output_dict[finnonnx_out_tensor_name] \n",
    "    return finn_output"
   ]
  },
  {
   "cell_type": "code",
   "execution_count": 341,
   "id": "9fd9fd01",
   "metadata": {},
   "outputs": [
    {
     "name": "stdout",
     "output_type": "stream",
     "text": [
      "Previous run results deleted!\n"
     ]
    }
   ],
   "source": [
    "import finn.builder.build_dataflow as build\n",
    "import finn.builder.build_dataflow_config as build_cfg\n",
    "import os\n",
    "import shutil\n",
    "\n",
    "model_file = \"cybsec-mlp-ready.onnx\"\n",
    "\n",
    "estimates_output_dir = \"output_estimates_only\"\n",
    "\n",
    "#Delete previous run results if exist\n",
    "if os.path.exists(estimates_output_dir):\n",
    "    shutil.rmtree(estimates_output_dir)\n",
    "    print(\"Previous run results deleted!\")\n",
    "\n",
    "\n",
    "cfg_estimates = build.DataflowBuildConfig(\n",
    "    output_dir          = estimates_output_dir,\n",
    "    mvau_wwidth_max     = 80,\n",
    "    target_fps          = 10,\n",
    "    synth_clk_period_ns = 10.0,\n",
    "    fpga_part           = \"xczu3eg-sbva484-1-i\",\n",
    "    steps               = build_cfg.estimate_only_dataflow_steps,\n",
    "    generate_outputs=[\n",
    "        build_cfg.DataflowOutputType.ESTIMATE_REPORTS,\n",
    "    ]\n",
    ")"
   ]
  },
  {
   "cell_type": "code",
   "execution_count": 342,
   "id": "984fbf2e",
   "metadata": {},
   "outputs": [
    {
     "name": "stdout",
     "output_type": "stream",
     "text": [
      "Building dataflow accelerator from cybsec-mlp-ready.onnx\n",
      "Intermediate outputs will be generated in /tmp/finn_dev_nm\n",
      "Final outputs will be generated in output_estimates_only\n",
      "Build log is at output_estimates_only/build_dataflow.log\n",
      "Running step: step_qonnx_to_finn [1/8]\n",
      "Running step: step_tidy_up [2/8]\n",
      "Running step: step_streamline [3/8]\n",
      "Running step: step_convert_to_hls [4/8]\n"
     ]
    },
    {
     "name": "stderr",
     "output_type": "stream",
     "text": [
      "Traceback (most recent call last):\n",
      "  File \"/workspace/finn/src/finn/builder/build_dataflow.py\", line 166, in build_dataflow_cfg\n",
      "    model = transform_step(model, cfg)\n",
      "  File \"/workspace/finn/src/finn/builder/build_dataflow_steps.py\", line 310, in step_create_dataflow_partition\n",
      "    parent_model = model.transform(\n",
      "  File \"/workspace/finn-base/src/finn/core/modelwrapper.py\", line 141, in transform\n",
      "    (transformed_model, model_was_changed) = transformation.apply(\n",
      "  File \"/workspace/finn/src/finn/transformation/fpgadataflow/create_dataflow_partition.py\", line 78, in apply\n",
      "    parent_model = model.transform(\n",
      "  File \"/workspace/finn-base/src/finn/core/modelwrapper.py\", line 141, in transform\n",
      "    (transformed_model, model_was_changed) = transformation.apply(\n",
      "  File \"/workspace/finn-base/src/finn/transformation/create_generic_partitions.py\", line 124, in apply\n",
      "    assert (\n",
      "AssertionError: cycle-free graph violated: partition depends on itself\n"
     ]
    },
    {
     "name": "stdout",
     "output_type": "stream",
     "text": [
      "Running step: step_create_dataflow_partition [5/8]\n",
      "> \u001b[0;32m/workspace/finn-base/src/finn/transformation/create_generic_partitions.py\u001b[0m(124)\u001b[0;36mapply\u001b[0;34m()\u001b[0m\n",
      "\u001b[0;32m    122 \u001b[0;31m                \u001b[0;32mfor\u001b[0m \u001b[0mnode\u001b[0m \u001b[0;32min\u001b[0m \u001b[0mto_check\u001b[0m\u001b[0;34m:\u001b[0m\u001b[0;34m\u001b[0m\u001b[0;34m\u001b[0m\u001b[0m\n",
      "\u001b[0m\u001b[0;32m    123 \u001b[0;31m                    \u001b[0;32mif\u001b[0m \u001b[0mnode\u001b[0m \u001b[0;32mis\u001b[0m \u001b[0;32mnot\u001b[0m \u001b[0;32mNone\u001b[0m\u001b[0;34m:\u001b[0m\u001b[0;34m\u001b[0m\u001b[0;34m\u001b[0m\u001b[0m\n",
      "\u001b[0m\u001b[0;32m--> 124 \u001b[0;31m                        assert (\n",
      "\u001b[0m\u001b[0;32m    125 \u001b[0;31m                            \u001b[0mself\u001b[0m\u001b[0;34m.\u001b[0m\u001b[0mpartitioning\u001b[0m\u001b[0;34m(\u001b[0m\u001b[0mnode\u001b[0m\u001b[0;34m)\u001b[0m \u001b[0;34m!=\u001b[0m \u001b[0mpartition_id\u001b[0m\u001b[0;34m\u001b[0m\u001b[0;34m\u001b[0m\u001b[0m\n",
      "\u001b[0m\u001b[0;32m    126 \u001b[0;31m                        ), \"\"\"cycle-free graph violated: partition depends on itself\"\"\"\n",
      "\u001b[0m\n",
      "--KeyboardInterrupt--\n",
      "\n",
      "KeyboardInterrupt: Interrupted by user\n",
      "Build failed\n",
      "CPU times: user 7.06 s, sys: 119 ms, total: 7.18 s\n",
      "Wall time: 1min 42s\n"
     ]
    },
    {
     "data": {
      "text/plain": [
       "-1"
      ]
     },
     "execution_count": 342,
     "metadata": {},
     "output_type": "execute_result"
    }
   ],
   "source": [
    "%%time\n",
    "build.build_dataflow_cfg(model_file, cfg_estimates)"
   ]
  },
  {
   "cell_type": "markdown",
   "id": "b25a8e4a",
   "metadata": {},
   "source": [
    "We'll now examine the generated outputs from this build. If we look under the outputs directory, we'll find a subfolder with the generated estimate reports."
   ]
  },
  {
   "cell_type": "code",
   "execution_count": 208,
   "id": "c3bc63ca",
   "metadata": {},
   "outputs": [
    {
     "name": "stdout",
     "output_type": "stream",
     "text": [
      "auto_folding_config.json  intermediate_models  report  time_per_step.json\r\n"
     ]
    }
   ],
   "source": [
    "! ls {estimates_output_dir}"
   ]
  },
  {
   "cell_type": "code",
   "execution_count": 209,
   "id": "d9953c76",
   "metadata": {},
   "outputs": [
    {
     "name": "stdout",
     "output_type": "stream",
     "text": [
      "estimate_layer_config_alternatives.json  estimate_network_performance.json\r\n",
      "estimate_layer_cycles.json\t\t op_and_param_counts.json\r\n",
      "estimate_layer_resources.json\r\n"
     ]
    }
   ],
   "source": [
    "! ls {estimates_output_dir}/report"
   ]
  },
  {
   "cell_type": "markdown",
   "id": "60623b8f",
   "metadata": {},
   "source": [
    "We see that various reports have been generated as .json files. Let's examine the contents of the `estimate_network_performance.json` for starters. Here, we can see the analytical estimates for the performance and latency."
   ]
  },
  {
   "cell_type": "code",
   "execution_count": 210,
   "id": "0d2a508f",
   "metadata": {},
   "outputs": [
    {
     "name": "stdout",
     "output_type": "stream",
     "text": [
      "{\r\n",
      "  \"critical_path_cycles\": 62349362,\r\n",
      "  \"max_cycles\": 9633792,\r\n",
      "  \"max_cycles_node_name\": \"StreamingFCLayer_Batch_4\",\r\n",
      "  \"estimated_throughput_fps\": 10.380128613945578,\r\n",
      "  \"estimated_latency_ns\": 623493620.0\r\n",
      "}"
     ]
    }
   ],
   "source": [
    "! cat {estimates_output_dir}/report/estimate_network_performance.json"
   ]
  },
  {
   "cell_type": "markdown",
   "id": "f8c110af",
   "metadata": {},
   "source": [
    "Since all of these reports are .json files, we can easily load them into Python for further processing. This can be useful if you are building your own design automation tools on top of FINN. Let's define a helper function and look at the `estimate_layer_cycles.json` report."
   ]
  },
  {
   "cell_type": "code",
   "execution_count": 211,
   "id": "6c66e45e",
   "metadata": {},
   "outputs": [],
   "source": [
    "import json\n",
    "def read_json_dict(filename):\n",
    "    with open(filename, \"r\") as f:\n",
    "        ret = json.load(f)\n",
    "    return ret"
   ]
  },
  {
   "cell_type": "code",
   "execution_count": 212,
   "id": "a474eb1f",
   "metadata": {},
   "outputs": [
    {
     "data": {
      "text/plain": [
       "{'Thresholding_Batch_0': 67500,\n",
       " 'ConvolutionInputGenerator_0': 592758,\n",
       " 'StreamingFCLayer_Batch_0': 4205568,\n",
       " 'StreamingMaxPool_Batch_0': 32856,\n",
       " 'ConvolutionInputGenerator_1': 3000192,\n",
       " 'StreamingFCLayer_Batch_1': 7962624,\n",
       " 'StreamingMaxPool_Batch_1': 7776,\n",
       " 'ConvolutionInputGenerator_2': 1345536,\n",
       " 'StreamingFCLayer_Batch_2': 9469952,\n",
       " 'ConvolutionInputGenerator_3': 2385408,\n",
       " 'StreamingFCLayer_Batch_3': 8388608,\n",
       " 'StreamingMaxPool_Batch_2': 1536,\n",
       " 'ConvolutionInputGenerator_4': 463872,\n",
       " 'StreamingFCLayer_Batch_4': 9633792,\n",
       " 'ConvolutionInputGenerator_5': 342528,\n",
       " 'StreamingFCLayer_Batch_5': 9437184,\n",
       " 'StreamingMaxPool_Batch_3': 216,\n",
       " 'StreamingFCLayer_Batch_6': 4718592,\n",
       " 'StreamingFCLayer_Batch_7': 262144,\n",
       " 'StreamingFCLayer_Batch_8': 30720}"
      ]
     },
     "execution_count": 212,
     "metadata": {},
     "output_type": "execute_result"
    }
   ],
   "source": [
    "read_json_dict(estimates_output_dir + \"/report/estimate_layer_cycles.json\")"
   ]
  },
  {
   "cell_type": "markdown",
   "id": "51b00738",
   "metadata": {},
   "source": [
    "Here, we can see the estimated number of clock cycles each layer will take. Recall that all of these layers will be running in parallel, and the slowest layer will determine the overall throughput of the entire neural network. FINN attempts to parallelize each layer such that they all take a similar number of cycles, and less than the corresponding number of cycles that would be required to meet `target_fps`. Additionally by summing up all layer cycle estimates one can obtain an estimate for the overall latency of the whole network. \n",
    "\n",
    "Finally, we can see the layer-by-layer resource estimates in the `estimate_layer_resources.json` report:"
   ]
  },
  {
   "cell_type": "code",
   "execution_count": 213,
   "id": "181a0183",
   "metadata": {},
   "outputs": [
    {
     "data": {
      "text/plain": [
       "{'Thresholding_Batch_0': {'BRAM_18K': 0,\n",
       "  'BRAM_efficiency': 1,\n",
       "  'LUT': 16,\n",
       "  'URAM': 0,\n",
       "  'URAM_efficiency': 1,\n",
       "  'DSP': 0},\n",
       " 'ConvolutionInputGenerator_0': {'BRAM_18K': 0,\n",
       "  'BRAM_efficiency': 1,\n",
       "  'LUT': 428,\n",
       "  'URAM': 0,\n",
       "  'URAM_efficiency': 1,\n",
       "  'DSP': 0},\n",
       " 'StreamingFCLayer_Batch_0': {'BRAM_18K': 1,\n",
       "  'BRAM_efficiency': 0.1875,\n",
       "  'LUT': 507,\n",
       "  'URAM': 0,\n",
       "  'URAM_efficiency': 1,\n",
       "  'DSP': 0},\n",
       " 'StreamingMaxPool_Batch_0': {'BRAM_18K': 0,\n",
       "  'BRAM_efficiency': 1,\n",
       "  'LUT': 0,\n",
       "  'URAM': 0,\n",
       "  'URAM_efficiency': 1,\n",
       "  'DSP': 0},\n",
       " 'ConvolutionInputGenerator_1': {'BRAM_18K': 0,\n",
       "  'BRAM_efficiency': 1,\n",
       "  'LUT': 596,\n",
       "  'URAM': 0,\n",
       "  'URAM_efficiency': 1,\n",
       "  'DSP': 0},\n",
       " 'StreamingFCLayer_Batch_1': {'BRAM_18K': 12,\n",
       "  'BRAM_efficiency': 0.6666666666666666,\n",
       "  'LUT': 829,\n",
       "  'URAM': 0,\n",
       "  'URAM_efficiency': 1,\n",
       "  'DSP': 0},\n",
       " 'StreamingMaxPool_Batch_1': {'BRAM_18K': 0,\n",
       "  'BRAM_efficiency': 1,\n",
       "  'LUT': 0,\n",
       "  'URAM': 0,\n",
       "  'URAM_efficiency': 1,\n",
       "  'DSP': 0},\n",
       " 'ConvolutionInputGenerator_2': {'BRAM_18K': 0,\n",
       "  'BRAM_efficiency': 1,\n",
       "  'LUT': 588,\n",
       "  'URAM': 0,\n",
       "  'URAM_efficiency': 1,\n",
       "  'DSP': 0},\n",
       " 'StreamingFCLayer_Batch_2': {'BRAM_18K': 32,\n",
       "  'BRAM_efficiency': 1.0,\n",
       "  'LUT': 745,\n",
       "  'URAM': 0,\n",
       "  'URAM_efficiency': 1,\n",
       "  'DSP': 0},\n",
       " 'ConvolutionInputGenerator_3': {'BRAM_18K': 0,\n",
       "  'BRAM_efficiency': 1,\n",
       "  'LUT': 844,\n",
       "  'URAM': 0,\n",
       "  'URAM_efficiency': 1,\n",
       "  'DSP': 0},\n",
       " 'StreamingFCLayer_Batch_3': {'BRAM_18K': 64,\n",
       "  'BRAM_efficiency': 1.0,\n",
       "  'LUT': 1138,\n",
       "  'URAM': 0,\n",
       "  'URAM_efficiency': 1,\n",
       "  'DSP': 0},\n",
       " 'StreamingMaxPool_Batch_2': {'BRAM_18K': 0,\n",
       "  'BRAM_efficiency': 1,\n",
       "  'LUT': 0,\n",
       "  'URAM': 0,\n",
       "  'URAM_efficiency': 1,\n",
       "  'DSP': 0},\n",
       " 'ConvolutionInputGenerator_4': {'BRAM_18K': 0,\n",
       "  'BRAM_efficiency': 1,\n",
       "  'LUT': 556,\n",
       "  'URAM': 0,\n",
       "  'URAM_efficiency': 1,\n",
       "  'DSP': 0},\n",
       " 'StreamingFCLayer_Batch_4': {'BRAM_18K': 96,\n",
       "  'BRAM_efficiency': 0.6666666666666666,\n",
       "  'LUT': 514,\n",
       "  'URAM': 0,\n",
       "  'URAM_efficiency': 1,\n",
       "  'DSP': 0},\n",
       " 'ConvolutionInputGenerator_5': {'BRAM_18K': 0,\n",
       "  'BRAM_efficiency': 1,\n",
       "  'LUT': 524,\n",
       "  'URAM': 0,\n",
       "  'URAM_efficiency': 1,\n",
       "  'DSP': 0},\n",
       " 'StreamingFCLayer_Batch_5': {'BRAM_18K': 64,\n",
       "  'BRAM_efficiency': 1.0,\n",
       "  'LUT': 484,\n",
       "  'URAM': 0,\n",
       "  'URAM_efficiency': 1,\n",
       "  'DSP': 0},\n",
       " 'StreamingMaxPool_Batch_3': {'BRAM_18K': 0,\n",
       "  'BRAM_efficiency': 1,\n",
       "  'LUT': 0,\n",
       "  'URAM': 0,\n",
       "  'URAM_efficiency': 1,\n",
       "  'DSP': 0},\n",
       " 'StreamingFCLayer_Batch_6': {'BRAM_18K': 576,\n",
       "  'BRAM_efficiency': 0.8888888888888888,\n",
       "  'LUT': 493,\n",
       "  'URAM': 0,\n",
       "  'URAM_efficiency': 1,\n",
       "  'DSP': 0},\n",
       " 'StreamingFCLayer_Batch_7': {'BRAM_18K': 32,\n",
       "  'BRAM_efficiency': 0.8888888888888888,\n",
       "  'LUT': 438,\n",
       "  'URAM': 0,\n",
       "  'URAM_efficiency': 1,\n",
       "  'DSP': 0},\n",
       " 'StreamingFCLayer_Batch_8': {'BRAM_18K': 4,\n",
       "  'BRAM_efficiency': 0.8333333333333334,\n",
       "  'LUT': 319,\n",
       "  'URAM': 0,\n",
       "  'URAM_efficiency': 1,\n",
       "  'DSP': 0},\n",
       " 'total': {'BRAM_18K': 881.0, 'LUT': 9019.0, 'URAM': 0.0, 'DSP': 0.0}}"
      ]
     },
     "execution_count": 213,
     "metadata": {},
     "output_type": "execute_result"
    }
   ],
   "source": [
    "read_json_dict(estimates_output_dir + \"/report/estimate_layer_resources.json\")"
   ]
  },
  {
   "cell_type": "markdown",
   "id": "b159a77e",
   "metadata": {},
   "source": [
    "This particular report is useful to determine whether the current configuration will fit into a particular FPGA. If you see that the resource requirements are too high for the FPGA you had in mind, you should consider lowering the `target_fps`.\n",
    "\n",
    "**Note that the analytical models tend to over-estimate how much resources are needed, since they can't capture the effects of various synthesis optimizations.**"
   ]
  },
  {
   "cell_type": "markdown",
   "id": "9e39d30d",
   "metadata": {},
   "source": [
    "## Launch a Build: Stitched IP, out-of-context synth and rtlsim Performance <a id=\"build_ip_synth_rtlsim\"></a>\n",
    "\n",
    "Once we have a configuration that gives satisfactory estimates, we can move on to generating the accelerator. We can do this in different ways depending on how we want to integrate the accelerator into a larger system. For instance, if we have a larger streaming system built in Vivado or if we'd like to re-use this generated accelerator as an IP component in other projects, the `STITCHED_IP` output product is a good choice. We can also use the `OOC_SYNTH` output product to get post-synthesis resource and clock frequency numbers for our accelerator.\n",
    "\n",
    "<font color=\"red\">**Live FINN tutorial:** These next builds will take about 10 minutes to complete since multiple calls to Vivado and a call to RTL simulation are involved. While this is running, you can examine the generated files with noVNC -- it is running on **(your AWS URL):6080/vnc.html**\n",
    "\n",
    "* Once the `step_hls_codegen [8/16]` below is completed, you can view the generated HLS code under its own folder for each layer: `/tmp/finn_dev_ubuntu/code_gen_ipgen_StreamingFCLayer_Batch_XXXXXX`\n",
    "    \n",
    "* Once the `step_create_stitched_ip [11/16]` below is completed, you can view the generated stitched IP in Vivado under `/home/ubuntu/finn/notebooks/end2end_example/cybersecurity/output_ipstitch_ooc_rtlsim/stitched_ip`\n",
    "</font> "
   ]
  },
  {
   "cell_type": "code",
   "execution_count": 99,
   "id": "c6873f76",
   "metadata": {},
   "outputs": [
    {
     "name": "stdout",
     "output_type": "stream",
     "text": [
      "Previous run results deleted!\n"
     ]
    }
   ],
   "source": [
    "import finn.builder.build_dataflow as build\n",
    "import finn.builder.build_dataflow_config as build_cfg\n",
    "import os\n",
    "import shutil\n",
    "\n",
    "model_file = \"cybsec-mlp-ready.onnx\"\n",
    "\n",
    "rtlsim_output_dir = \"output_ipstitch_ooc_rtlsim\"\n",
    "\n",
    "#Delete previous run results if exist\n",
    "if os.path.exists(rtlsim_output_dir):\n",
    "    shutil.rmtree(rtlsim_output_dir)\n",
    "    print(\"Previous run results deleted!\")\n",
    "\n",
    "cfg_stitched_ip = build.DataflowBuildConfig(\n",
    "    output_dir          = rtlsim_output_dir,\n",
    "    mvau_wwidth_max     = 80,\n",
    "    target_fps          = 1000000,\n",
    "    synth_clk_period_ns = 10.0,\n",
    "    fpga_part           = \"xczu3eg-sbva484-1-i\",\n",
    "    generate_outputs=[\n",
    "        build_cfg.DataflowOutputType.STITCHED_IP,\n",
    "        build_cfg.DataflowOutputType.RTLSIM_PERFORMANCE,\n",
    "        build_cfg.DataflowOutputType.OOC_SYNTH,\n",
    "    ]\n",
    ")"
   ]
  },
  {
   "cell_type": "code",
   "execution_count": 101,
   "id": "2af384cc",
   "metadata": {},
   "outputs": [
    {
     "name": "stdout",
     "output_type": "stream",
     "text": [
      "Building dataflow accelerator from cybsec-mlp-ready.onnx\n",
      "Intermediate outputs will be generated in /tmp/finn_dev_nm\n",
      "Final outputs will be generated in output_ipstitch_ooc_rtlsim\n",
      "Build log is at output_ipstitch_ooc_rtlsim/build_dataflow.log\n",
      "Running step: step_qonnx_to_finn [1/17]\n",
      "Running step: step_tidy_up [2/17]\n",
      "Running step: step_streamline [3/17]\n",
      "Running step: step_convert_to_hls [4/17]\n",
      "Running step: step_create_dataflow_partition [5/17]\n",
      "Running step: step_target_fps_parallelization [6/17]\n",
      "Running step: step_apply_folding_config [7/17]\n",
      "Running step: step_generate_estimate_reports [8/17]\n",
      "Running step: step_hls_codegen [9/17]\n",
      "Running step: step_hls_ipgen [10/17]\n"
     ]
    },
    {
     "name": "stderr",
     "output_type": "stream",
     "text": [
      "multiprocessing.pool.RemoteTraceback: \n",
      "\"\"\"\n",
      "Traceback (most recent call last):\n",
      "  File \"/opt/conda/lib/python3.8/multiprocessing/pool.py\", line 125, in worker\n",
      "    result = (True, func(*args, **kwds))\n",
      "  File \"/opt/conda/lib/python3.8/multiprocessing/pool.py\", line 48, in mapstar\n",
      "    return list(map(*args))\n",
      "  File \"/workspace/finn/src/finn/transformation/fpgadataflow/hlssynth_ip.py\", line 69, in applyNodeLocal\n",
      "    inst.ipgen_singlenode_code()\n",
      "  File \"/workspace/finn/src/finn/custom_op/fpgadataflow/hlscustomop.py\", line 360, in ipgen_singlenode_code\n",
      "    assert os.path.isdir(\n",
      "AssertionError: IPGen failed: /tmp/finn_dev_nm/code_gen_ipgen_StreamingFCLayer_Batch_3_pt6ehma6/project_StreamingFCLayer_Batch_3/sol1/impl/ip not found. Check log under /tmp/finn_dev_nm/code_gen_ipgen_StreamingFCLayer_Batch_3_pt6ehma6\n",
      "\"\"\"\n",
      "\n",
      "The above exception was the direct cause of the following exception:\n",
      "\n",
      "Traceback (most recent call last):\n",
      "  File \"/workspace/finn/src/finn/builder/build_dataflow.py\", line 166, in build_dataflow_cfg\n",
      "    model = transform_step(model, cfg)\n",
      "  File \"/workspace/finn/src/finn/builder/build_dataflow_steps.py\", line 426, in step_hls_ipgen\n",
      "    model = model.transform(HLSSynthIP())\n",
      "  File \"/workspace/finn-base/src/finn/core/modelwrapper.py\", line 141, in transform\n",
      "    (transformed_model, model_was_changed) = transformation.apply(\n",
      "  File \"/workspace/finn-base/src/finn/transformation/base.py\", line 105, in apply\n",
      "    new_nodes_and_bool = p.map(self.applyNodeLocal, old_nodes, chunksize=1)\n",
      "  File \"/opt/conda/lib/python3.8/multiprocessing/pool.py\", line 364, in map\n",
      "    return self._map_async(func, iterable, mapstar, chunksize).get()\n",
      "  File \"/opt/conda/lib/python3.8/multiprocessing/pool.py\", line 771, in get\n",
      "    raise self._value\n",
      "AssertionError: IPGen failed: /tmp/finn_dev_nm/code_gen_ipgen_StreamingFCLayer_Batch_3_pt6ehma6/project_StreamingFCLayer_Batch_3/sol1/impl/ip not found. Check log under /tmp/finn_dev_nm/code_gen_ipgen_StreamingFCLayer_Batch_3_pt6ehma6\n"
     ]
    },
    {
     "name": "stdout",
     "output_type": "stream",
     "text": [
      "> \u001b[0;32m/opt/conda/lib/python3.8/multiprocessing/pool.py\u001b[0m(771)\u001b[0;36mget\u001b[0;34m()\u001b[0m\n",
      "\u001b[0;32m    769 \u001b[0;31m            \u001b[0;32mreturn\u001b[0m \u001b[0mself\u001b[0m\u001b[0;34m.\u001b[0m\u001b[0m_value\u001b[0m\u001b[0;34m\u001b[0m\u001b[0;34m\u001b[0m\u001b[0m\n",
      "\u001b[0m\u001b[0;32m    770 \u001b[0;31m        \u001b[0;32melse\u001b[0m\u001b[0;34m:\u001b[0m\u001b[0;34m\u001b[0m\u001b[0;34m\u001b[0m\u001b[0m\n",
      "\u001b[0m\u001b[0;32m--> 771 \u001b[0;31m            \u001b[0;32mraise\u001b[0m \u001b[0mself\u001b[0m\u001b[0;34m.\u001b[0m\u001b[0m_value\u001b[0m\u001b[0;34m\u001b[0m\u001b[0;34m\u001b[0m\u001b[0m\n",
      "\u001b[0m\u001b[0;32m    772 \u001b[0;31m\u001b[0;34m\u001b[0m\u001b[0m\n",
      "\u001b[0m\u001b[0;32m    773 \u001b[0;31m    \u001b[0;32mdef\u001b[0m \u001b[0m_set\u001b[0m\u001b[0;34m(\u001b[0m\u001b[0mself\u001b[0m\u001b[0;34m,\u001b[0m \u001b[0mi\u001b[0m\u001b[0;34m,\u001b[0m \u001b[0mobj\u001b[0m\u001b[0;34m)\u001b[0m\u001b[0;34m:\u001b[0m\u001b[0;34m\u001b[0m\u001b[0;34m\u001b[0m\u001b[0m\n",
      "\u001b[0m\n",
      "--KeyboardInterrupt--\n",
      "\n",
      "KeyboardInterrupt: Interrupted by user\n",
      "Build failed\n",
      "CPU times: user 3min 17s, sys: 767 ms, total: 3min 18s\n",
      "Wall time: 365d 11min 5s\n"
     ]
    },
    {
     "data": {
      "text/plain": [
       "-1"
      ]
     },
     "execution_count": 101,
     "metadata": {},
     "output_type": "execute_result"
    }
   ],
   "source": [
    "%%time\n",
    "build.build_dataflow_cfg(model_file, cfg_stitched_ip)"
   ]
  },
  {
   "cell_type": "markdown",
   "id": "a088bc15",
   "metadata": {},
   "source": [
    "Why is e.g. `step_synthesize_bitfile` listed above even though we didn't ask for a bitfile in the output products? This is because we're using the default set of build steps, which includes `step_synthesize_bitfile`. Since its output product is not selected, this step will do nothing."
   ]
  },
  {
   "cell_type": "markdown",
   "id": "ba1463ad",
   "metadata": {},
   "source": [
    "Among the output products, we will find the accelerator exported as a stitched IP block design:"
   ]
  },
  {
   "cell_type": "code",
   "execution_count": 297,
   "id": "81bf3380",
   "metadata": {},
   "outputs": [
    {
     "name": "stdout",
     "output_type": "stream",
     "text": [
      "all_verilog_srcs.txt\t\t       finn_vivado_stitch_proj.xpr\r\n",
      "finn_vivado_stitch_proj.cache\t       ip\r\n",
      "finn_vivado_stitch_proj.gen\t       make_project.sh\r\n",
      "finn_vivado_stitch_proj.hw\t       make_project.tcl\r\n",
      "finn_vivado_stitch_proj.ip_user_files  vivado.jou\r\n",
      "finn_vivado_stitch_proj.srcs\t       vivado.log\r\n"
     ]
    }
   ],
   "source": [
    "! ls {rtlsim_output_dir}/stitched_ip"
   ]
  },
  {
   "cell_type": "markdown",
   "id": "248a51dd",
   "metadata": {},
   "source": [
    "We also have a few reports generated by these output products, different from the ones generated by `ESTIMATE_REPORTS`."
   ]
  },
  {
   "cell_type": "code",
   "execution_count": 298,
   "id": "5fc7fb16",
   "metadata": {},
   "outputs": [
    {
     "name": "stdout",
     "output_type": "stream",
     "text": [
      "estimate_layer_resources_hls.json  rtlsim_performance.json\r\n",
      "ooc_synth_and_timing.json\r\n"
     ]
    }
   ],
   "source": [
    "! ls {rtlsim_output_dir}/report"
   ]
  },
  {
   "cell_type": "markdown",
   "id": "696e15da",
   "metadata": {},
   "source": [
    "In `ooc_synth_and_timing.json` we can find the post-synthesis and maximum clock frequency estimate for the accelerator. Note that the clock frequency estimate here tends to be optimistic, since out-of-context synthesis is less constrained."
   ]
  },
  {
   "cell_type": "code",
   "execution_count": 299,
   "id": "4cd071cb",
   "metadata": {},
   "outputs": [
    {
     "name": "stdout",
     "output_type": "stream",
     "text": [
      "{\r\n",
      "  \"vivado_proj_folder\": \"/tmp/finn_dev_nm/synth_out_of_context_x6s1ci28/results_finn_design_wrapper\",\r\n",
      "  \"LUT\": 6037.0,\r\n",
      "  \"FF\": 7483.0,\r\n",
      "  \"DSP\": 0.0,\r\n",
      "  \"BRAM\": 7.0,\r\n",
      "  \"WNS\": 3.688,\r\n",
      "  \"\": 0,\r\n",
      "  \"fmax_mhz\": 158.42839036755387,\r\n",
      "  \"estimated_throughput_fps\": 15654.979285331408\r\n",
      "}"
     ]
    }
   ],
   "source": [
    "! cat {rtlsim_output_dir}/report/ooc_synth_and_timing.json"
   ]
  },
  {
   "cell_type": "markdown",
   "id": "396b43b9",
   "metadata": {},
   "source": [
    "In `rtlsim_performance.json` we can find the steady-state throughput and latency for the accelerator, as obtained by rtlsim. If the DRAM bandwidth numbers reported here are below what the hardware platform is capable of (i.e. the accelerator is not memory-bound), you can expect the same steady-state throughput (excluding any software/driver overheads) in real hardware."
   ]
  },
  {
   "cell_type": "code",
   "execution_count": 300,
   "id": "de62ccc9",
   "metadata": {},
   "outputs": [
    {
     "name": "stdout",
     "output_type": "stream",
     "text": [
      "{\r\n",
      "  \"cycles\": 34287,\r\n",
      "  \"runtime[ms]\": 0.34287,\r\n",
      "  \"throughput[images/s]\": 2916.557295768075,\r\n",
      "  \"DRAM_in_bandwidth[Mb/s]\": 1.6799370023624114,\r\n",
      "  \"DRAM_out_bandwidth[Mb/s]\": 0.0583311459153615,\r\n",
      "  \"fclk[mhz]\": 100.0,\r\n",
      "  \"N\": 1,\r\n",
      "  \"latency_cycles\": 34287\r\n",
      "}"
     ]
    }
   ],
   "source": [
    "! cat {rtlsim_output_dir}/report/rtlsim_performance.json"
   ]
  },
  {
   "cell_type": "markdown",
   "id": "3c5ddf45",
   "metadata": {},
   "source": [
    "Finally, let's have a look at `final_hw_config.json`. This is the node-by-node hardware configuration determined by the FINN compiler, including FIFO depths, parallelization settings (PE/SIMD) and others. If you want to optimize your build further (the \"advanced\" method we mentioned under \"Configuring the performance\"), you can use this .json file as the `folding_config_file` for a new run to use it as a starting point for further exploration and optimizations."
   ]
  },
  {
   "cell_type": "code",
   "execution_count": 301,
   "id": "3d5411de",
   "metadata": {},
   "outputs": [
    {
     "name": "stdout",
     "output_type": "stream",
     "text": [
      "{\r\n",
      "  \"Defaults\": {},\r\n",
      "  \"StreamingFIFO_0\": {\r\n",
      "    \"ram_style\": \"auto\",\r\n",
      "    \"depth\": 2,\r\n",
      "    \"impl_style\": \"rtl\"\r\n",
      "  },\r\n",
      "  \"Thresholding_Batch_0\": {\r\n",
      "    \"PE\": 1,\r\n",
      "    \"ram_style\": \"distributed\",\r\n",
      "    \"mem_mode\": \"const\",\r\n",
      "    \"runtime_writeable_weights\": 0\r\n",
      "  },\r\n",
      "  \"StreamingFIFO_1\": {\r\n",
      "    \"ram_style\": \"auto\",\r\n",
      "    \"depth\": 128,\r\n",
      "    \"impl_style\": \"rtl\"\r\n",
      "  },\r\n",
      "  \"ConvolutionInputGenerator_0\": {\r\n",
      "    \"SIMD\": 1,\r\n",
      "    \"ram_style\": \"distributed\"\r\n",
      "  },\r\n",
      "  \"StreamingDataWidthConverter_Batch_0\": {\r\n",
      "    \"impl_style\": \"hls\"\r\n",
      "  },\r\n",
      "  \"StreamingFCLayer_Batch_0\": {\r\n",
      "    \"PE\": 1,\r\n",
      "    \"SIMD\": 25,\r\n",
      "    \"ram_style\": \"auto\",\r\n",
      "    \"resType\": \"lut\",\r\n",
      "    \"mem_mode\": \"decoupled\",\r\n",
      "    \"runtime_writeable_weights\": 0\r\n",
      "  },\r\n",
      "  \"StreamingDataWidthConverter_Batch_1\": {\r\n",
      "    \"impl_style\": \"hls\"\r\n",
      "  },\r\n",
      "  \"StreamingFIFO_6\": {\r\n",
      "    \"ram_style\": \"auto\",\r\n",
      "    \"depth\": 32,\r\n",
      "    \"impl_style\": \"rtl\"\r\n",
      "  },\r\n",
      "  \"StreamingDataWidthConverter_Batch_2\": {\r\n",
      "    \"impl_style\": \"hls\"\r\n",
      "  },\r\n",
      "  \"StreamingFIFO_7\": {\r\n",
      "    \"ram_style\": \"auto\",\r\n",
      "    \"depth\": 64,\r\n",
      "    \"impl_style\": \"rtl\"\r\n",
      "  },\r\n",
      "  \"ConvolutionInputGenerator_1\": {\r\n",
      "    \"SIMD\": 1,\r\n",
      "    \"ram_style\": \"distributed\"\r\n",
      "  },\r\n",
      "  \"StreamingDataWidthConverter_Batch_3\": {\r\n",
      "    \"impl_style\": \"hls\"\r\n",
      "  },\r\n",
      "  \"StreamingFIFO_9\": {\r\n",
      "    \"ram_style\": \"auto\",\r\n",
      "    \"depth\": 256,\r\n",
      "    \"impl_style\": \"rtl\"\r\n",
      "  },\r\n",
      "  \"StreamingFCLayer_Batch_1\": {\r\n",
      "    \"PE\": 1,\r\n",
      "    \"SIMD\": 10,\r\n",
      "    \"ram_style\": \"auto\",\r\n",
      "    \"resType\": \"lut\",\r\n",
      "    \"mem_mode\": \"decoupled\",\r\n",
      "    \"runtime_writeable_weights\": 0\r\n",
      "  },\r\n",
      "  \"StreamingDataWidthConverter_Batch_4\": {\r\n",
      "    \"impl_style\": \"hls\"\r\n",
      "  },\r\n",
      "  \"StreamingDataWidthConverter_Batch_5\": {\r\n",
      "    \"impl_style\": \"hls\"\r\n",
      "  },\r\n",
      "  \"StreamingFIFO_13\": {\r\n",
      "    \"ram_style\": \"auto\",\r\n",
      "    \"depth\": 64,\r\n",
      "    \"impl_style\": \"rtl\"\r\n",
      "  },\r\n",
      "  \"StreamingFCLayer_Batch_2\": {\r\n",
      "    \"PE\": 1,\r\n",
      "    \"SIMD\": 2,\r\n",
      "    \"ram_style\": \"auto\",\r\n",
      "    \"resType\": \"lut\",\r\n",
      "    \"mem_mode\": \"decoupled\",\r\n",
      "    \"runtime_writeable_weights\": 0\r\n",
      "  },\r\n",
      "  \"StreamingFIFO_14\": {\r\n",
      "    \"ram_style\": \"auto\",\r\n",
      "    \"depth\": 128,\r\n",
      "    \"impl_style\": \"rtl\"\r\n",
      "  },\r\n",
      "  \"StreamingFCLayer_Batch_3\": {\r\n",
      "    \"PE\": 1,\r\n",
      "    \"SIMD\": 1,\r\n",
      "    \"ram_style\": \"auto\",\r\n",
      "    \"resType\": \"lut\",\r\n",
      "    \"mem_mode\": \"decoupled\",\r\n",
      "    \"runtime_writeable_weights\": 0\r\n",
      "  },\r\n",
      "  \"StreamingFCLayer_Batch_4\": {\r\n",
      "    \"PE\": 1,\r\n",
      "    \"SIMD\": 1,\r\n",
      "    \"ram_style\": \"auto\",\r\n",
      "    \"resType\": \"lut\",\r\n",
      "    \"mem_mode\": \"decoupled\",\r\n",
      "    \"runtime_writeable_weights\": 0\r\n",
      "  }\r\n",
      "}"
     ]
    }
   ],
   "source": [
    "! cat {rtlsim_output_dir}/final_hw_config.json"
   ]
  },
  {
   "cell_type": "markdown",
   "id": "c3ac53ea",
   "metadata": {},
   "source": [
    "## (Optional) Launch a Build: PYNQ Bitfile and Driver <a id=\"build_bitfile_driver\"></a>\n",
    "\n",
    "<font color=\"red\">**Live FINN tutorial:** This section is not included in the hands-on tutorial due to the bitfile synthesis time (15-20 min). If you own a PYNQ board, we encourage you to uncomment the cells below to try it out on your own after the tutorial.</font>"
   ]
  },
  {
   "cell_type": "code",
   "execution_count": 17,
   "id": "eea850ff",
   "metadata": {},
   "outputs": [],
   "source": [
    "import finn.builder.build_dataflow as build\n",
    "import finn.builder.build_dataflow_config as build_cfg\n",
    "import os\n",
    "import shutil\n",
    "\n",
    "model_file = \"cybsec-mlp-ready.onnx\"\n",
    "\n",
    "final_output_dir = \"output_final\"\n",
    "\n",
    "#Delete previous run results if exist\n",
    "if os.path.exists(final_output_dir):\n",
    "    shutil.rmtree(final_output_dir)\n",
    "    print(\"Previous run results deleted!\")\n",
    "\n",
    "cfg = build.DataflowBuildConfig(\n",
    "    output_dir          = final_output_dir,\n",
    "    mvau_wwidth_max     = 80,\n",
    "    target_fps          = 1000000,\n",
    "    synth_clk_period_ns = 10.0,\n",
    "    board               = \"Pynq-Z1\",\n",
    "    shell_flow_type     = build_cfg.ShellFlowType.VIVADO_ZYNQ,\n",
    "    generate_outputs=[\n",
    "        build_cfg.DataflowOutputType.BITFILE,\n",
    "        build_cfg.DataflowOutputType.PYNQ_DRIVER,\n",
    "        build_cfg.DataflowOutputType.DEPLOYMENT_PACKAGE,\n",
    "    ]\n",
    ")"
   ]
  },
  {
   "cell_type": "code",
   "execution_count": 18,
   "id": "b62fcad0",
   "metadata": {},
   "outputs": [
    {
     "name": "stdout",
     "output_type": "stream",
     "text": [
      "Building dataflow accelerator from cybsec-mlp-ready.onnx\n",
      "Intermediate outputs will be generated in /tmp/finn_dev_ubuntu\n",
      "Final outputs will be generated in output_final\n",
      "Build log is at output_final/build_dataflow.log\n",
      "Running step: step_tidy_up [1/16]\n",
      "Running step: step_streamline [2/16]\n",
      "Running step: step_convert_to_hls [3/16]\n",
      "Running step: step_create_dataflow_partition [4/16]\n",
      "Running step: step_target_fps_parallelization [5/16]\n",
      "Running step: step_apply_folding_config [6/16]\n",
      "Running step: step_generate_estimate_reports [7/16]\n",
      "Running step: step_hls_codegen [8/16]\n",
      "Running step: step_hls_ipgen [9/16]\n",
      "Running step: step_set_fifo_depths [10/16]\n",
      "Running step: step_create_stitched_ip [11/16]\n",
      "Running step: step_measure_rtlsim_performance [12/16]\n",
      "Running step: step_make_pynq_driver [13/16]\n",
      "Running step: step_out_of_context_synthesis [14/16]\n",
      "Running step: step_synthesize_bitfile [15/16]\n",
      "Running step: step_deployment_package [16/16]\n",
      "Completed successfully\n",
      "CPU times: user 4.47 s, sys: 766 ms, total: 5.24 s\n",
      "Wall time: 22min 13s\n"
     ]
    },
    {
     "data": {
      "text/plain": [
       "0"
      ]
     },
     "execution_count": 18,
     "metadata": {},
     "output_type": "execute_result"
    }
   ],
   "source": [
    "#%%time\n",
    "#build.build_dataflow_cfg(model_file, cfg)"
   ]
  },
  {
   "cell_type": "markdown",
   "id": "38a5f675",
   "metadata": {},
   "source": [
    "For our final build, the output products include the bitfile (and the accompanying .hwh file, also needed to execute correctly on PYNQ for Zynq platforms):"
   ]
  },
  {
   "cell_type": "code",
   "execution_count": 19,
   "id": "00712caf",
   "metadata": {},
   "outputs": [
    {
     "name": "stdout",
     "output_type": "stream",
     "text": [
      "finn-accel.bit\tfinn-accel.hwh\r\n"
     ]
    }
   ],
   "source": [
    "#! ls {final_output_dir}/bitfile"
   ]
  },
  {
   "cell_type": "markdown",
   "id": "5ed778b7",
   "metadata": {},
   "source": [
    "The generated Python driver lets us execute the accelerator on PYNQ platforms with simply numpy i/o. You can find some notebooks showing how to use FINN-generated accelerators at runtime in the [finn-examples](https://github.com/Xilinx/finn-examples) repository."
   ]
  },
  {
   "cell_type": "code",
   "execution_count": 20,
   "id": "78c14916",
   "metadata": {},
   "outputs": [
    {
     "name": "stdout",
     "output_type": "stream",
     "text": [
      "driver.py  driver_base.py  finn  runtime_weights  validate.py\r\n"
     ]
    }
   ],
   "source": [
    "#! ls {final_output_dir}/driver"
   ]
  },
  {
   "cell_type": "markdown",
   "id": "8ea5bc60",
   "metadata": {},
   "source": [
    "The reports folder contains the post-synthesis resource and timing reports:"
   ]
  },
  {
   "cell_type": "code",
   "execution_count": 21,
   "id": "ad6ddd70",
   "metadata": {},
   "outputs": [
    {
     "name": "stdout",
     "output_type": "stream",
     "text": [
      "estimate_layer_resources_hls.json  post_synth_resources.xml\r\n",
      "post_route_timing.rpt\r\n"
     ]
    }
   ],
   "source": [
    "#! ls {final_output_dir}/report"
   ]
  },
  {
   "cell_type": "markdown",
   "id": "786442c6",
   "metadata": {},
   "source": [
    "Finally, we have the `deploy` folder which contains everything you need to copy onto the target board to get the accelerator running:"
   ]
  },
  {
   "cell_type": "code",
   "execution_count": 22,
   "id": "b57597f8",
   "metadata": {},
   "outputs": [
    {
     "name": "stdout",
     "output_type": "stream",
     "text": [
      "bitfile  driver\r\n"
     ]
    }
   ],
   "source": [
    "#! ls {final_output_dir}/deploy"
   ]
  },
  {
   "cell_type": "markdown",
   "id": "054321b0",
   "metadata": {},
   "source": [
    "## (Optional) Run on PYNQ board <a id=\"run_on_pynq\"></a>\n",
    "\n",
    "<font color=\"red\">**Live FINN tutorial:** This section is not included in the hands-on tutorial due to the bitfile synthesis time (15-20 min) of the previous section. If you own a PYNQ board, we encourage you to uncomment the cells below to try it out on your own after the tutorial.</font>\n",
    "\n",
    "To test the accelerator on the board, we'll put a copy of the dataset and a premade Python script that validates the accuracy into the `driver` folder, then make a zip archive of the whole deployment folder."
   ]
  },
  {
   "cell_type": "code",
   "execution_count": 23,
   "id": "7a5c1b09",
   "metadata": {},
   "outputs": [],
   "source": [
    "#! cp unsw_nb15_binarized.npz {final_output_dir}/deploy/driver"
   ]
  },
  {
   "cell_type": "code",
   "execution_count": 24,
   "id": "ce5d2d15",
   "metadata": {},
   "outputs": [],
   "source": [
    "#! cp validate-unsw-nb15.py {final_output_dir}/deploy/driver"
   ]
  },
  {
   "cell_type": "code",
   "execution_count": 25,
   "id": "a87e7ee3",
   "metadata": {},
   "outputs": [
    {
     "name": "stdout",
     "output_type": "stream",
     "text": [
      "driver.py\tfinn\t\t unsw_nb15_binarized.npz  validate.py\r\n",
      "driver_base.py\truntime_weights  validate-unsw-nb15.py\r\n"
     ]
    }
   ],
   "source": [
    "#! ls {final_output_dir}/deploy/driver"
   ]
  },
  {
   "cell_type": "code",
   "execution_count": 26,
   "id": "270c9d44",
   "metadata": {},
   "outputs": [
    {
     "data": {
      "text/plain": [
       "'/workspace/finn/notebooks/end2end_example/cybersecurity/deploy-on-pynq.zip'"
      ]
     },
     "execution_count": 26,
     "metadata": {},
     "output_type": "execute_result"
    }
   ],
   "source": [
    "#from shutil import make_archive\n",
    "#make_archive('deploy-on-pynq', 'zip', final_output_dir+\"/deploy\")"
   ]
  },
  {
   "cell_type": "markdown",
   "id": "d6ed5c31",
   "metadata": {},
   "source": [
    "You can now download the created zipfile (**File -> Open**, mark the checkbox next to the `deploy-on-pynq.zip` and select Download from the toolbar), then copy it to your PYNQ board (for instance via `scp` or `rsync`). Then, run the following commands **on the PYNQ board** to extract the archive and run the validation:"
   ]
  },
  {
   "cell_type": "markdown",
   "id": "b6d80145",
   "metadata": {},
   "source": [
    "```shell\n",
    "unzip deploy-on-pynq.zip -d finn-cybsec-mlp-demo\n",
    "cd finn-cybsec-mlp-demo/driver\n",
    "sudo python3.6 -m pip install bitstring\n",
    "sudo python3.6 validate-unsw-nb15.py --batchsize 1000\n",
    "```"
   ]
  },
  {
   "cell_type": "markdown",
   "id": "dbe5d0e9",
   "metadata": {},
   "source": [
    "You should see `Final accuracy: 91.868293` at the end. You may have noticed that the validation doesn't *quite* run at 1M inferences per second. This is because of the Python packing/unpacking and data movement overheads. To see this in more detail, the generated driver includes a benchmarking mode that shows the runtime breakdown:"
   ]
  },
  {
   "cell_type": "markdown",
   "id": "0c64c68e",
   "metadata": {},
   "source": [
    "```shell\n",
    "sudo python3.6 driver.py --exec_mode throughput_test --bitfile ../bitfile/finn-accel.bit --batchsize 1000\n",
    "cat nw_metrics.txt\n",
    "```"
   ]
  },
  {
   "cell_type": "markdown",
   "id": "b464c999",
   "metadata": {},
   "source": [
    "```{'runtime[ms]': 1.0602474212646484,\n",
    " 'throughput[images/s]': 943176.0737575893,\n",
    " 'DRAM_in_bandwidth[Mb/s]': 70.7382055318192,\n",
    " 'DRAM_out_bandwidth[Mb/s]': 0.9431760737575894,\n",
    " 'fclk[mhz]': 100.0,\n",
    " 'batch_size': 1000,\n",
    " 'fold_input[ms]': 9.679794311523438e-05,\n",
    " 'pack_input[ms]': 0.060115814208984375,\n",
    " 'copy_input_data_to_device[ms]': 0.002428770065307617,\n",
    " 'copy_output_data_from_device[ms]': 0.0005249977111816406,\n",
    " 'unpack_output[ms]': 0.3773000240325928,\n",
    " 'unfold_output[ms]': 6.818771362304688e-05}```"
   ]
  },
  {
   "cell_type": "markdown",
   "id": "2faddcf6",
   "metadata": {},
   "source": [
    "Here, the various `pack_input/unpack_output` calls show the overhead of packing/unpacking the inputs/outputs to convert from numpy arrays to the bit-contiguous data representation our accelerator expects. The `copy_input_data_to_device` and `copy_output_data_from_device` indicate the cost of moving the data between the CPU and accelerator memories. These overheads can dominate the execution time when running with small batch sizes.\n",
    "\n",
    "Finally, we can see that `throughput[images/s]`, which is the pure hardware throughput without any software and data movement overheads, is close to 1M inferences per second."
   ]
  },
  {
   "cell_type": "code",
   "execution_count": null,
   "id": "45de7dcb",
   "metadata": {},
   "outputs": [],
   "source": []
  },
  {
   "cell_type": "code",
   "execution_count": null,
   "id": "a95a73cd",
   "metadata": {},
   "outputs": [],
   "source": []
  },
  {
   "cell_type": "code",
   "execution_count": null,
   "id": "8943522c",
   "metadata": {},
   "outputs": [],
   "source": []
  },
  {
   "cell_type": "code",
   "execution_count": null,
   "id": "a2c2af33",
   "metadata": {},
   "outputs": [],
   "source": []
  }
 ],
 "metadata": {
  "kernelspec": {
   "display_name": "Python 3",
   "language": "python",
   "name": "python3"
  },
  "language_info": {
   "codemirror_mode": {
    "name": "ipython",
    "version": 3
   },
   "file_extension": ".py",
   "mimetype": "text/x-python",
   "name": "python",
   "nbconvert_exporter": "python",
   "pygments_lexer": "ipython3",
   "version": "3.8.5"
  }
 },
 "nbformat": 4,
 "nbformat_minor": 5
}
