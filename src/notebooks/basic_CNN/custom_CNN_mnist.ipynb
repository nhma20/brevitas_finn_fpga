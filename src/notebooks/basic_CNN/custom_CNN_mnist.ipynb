{
 "cells": [
  {
   "cell_type": "markdown",
   "id": "3271ecbb",
   "metadata": {},
   "source": [
    "# Train a Quantized CNN on MNIST with Brevitas"
   ]
  },
  {
   "cell_type": "markdown",
   "id": "af6107dd",
   "metadata": {},
   "source": [
    "<font color=\"red\">**Live FINN tutorial:** We recommend clicking **Cell -> Run All** when you start reading this notebook for \"latency hiding\".</font>"
   ]
  },
  {
   "cell_type": "markdown",
   "id": "54a5f4f7",
   "metadata": {},
   "source": [
    "In this notebook, we will show how to create, train and export a quantized Multi Layer Perceptron (MLP) with quantized weights and activations with [Brevitas](https://github.com/Xilinx/brevitas).\n",
    "\n",
    "**You won't need a GPU to train the neural net.** This MLP will be small enough to train on a modern x86 CPU, so no GPU is required to follow this tutorial  Alternatively, we provide pre-trained parameters for the MLP if you want to skip the training entirely.\n"
   ]
  },
  {
   "cell_type": "markdown",
   "id": "582a5672",
   "metadata": {},
   "source": [
    "## A quick introduction to the task and the dataset\n",
    "\n",
    "*Performance considerations:* FPGAs are commonly used for implementing high-performance packet processing systems that still provide a degree of programmability. To avoid introducing bottlenecks on the network, the DNN implementation must be capable of detecting malicious ones at line rate, which can be millions of packets per second, and is expected to increase further as next-generation networking solutions provide increased\n",
    "throughput. This is a good reason to consider FPGA acceleration for this particular use-case."
   ]
  },
  {
   "cell_type": "markdown",
   "id": "bf25a51c",
   "metadata": {},
   "source": [
    "## Outline\n",
    "-------------\n",
    "\n",
    "* [Load Dataset](#load_dataset) \n",
    "* [Define the Quantized MLP Model](#define_quantized_mlp)\n",
    "* [Define Train and Test  Methods](#train_test)\n",
    "    * [(Option 1) Train the Model from Scratch](#train_scratch)\n",
    "    * [(Option 2) Load Pre-Trained Parameters](#load_pretrained)\n",
    "* [Network Surgery Before Export](#network_surgery)\n",
    "* [Export to FINN-ONNX](#export_finn_onnx)"
   ]
  },
  {
   "cell_type": "code",
   "execution_count": 1,
   "id": "8326f55e",
   "metadata": {},
   "outputs": [
    {
     "data": {
      "text/plain": [
       "'\\nalabaster==0.7.12\\nargon2-cffi==21.3.0\\nargon2-cffi-bindings==21.2.0\\nattrs==19.3.0\\nBabel==2.9.1\\nbackcall==0.2.0\\nbeautifulsoup4 @ file:///home/linux1/recipes/ci/beautifulsoup4_1610988766420/work\\nbitstring==3.1.7\\nbleach==4.1.0\\n-e git+https://github.com/Xilinx/brevitas.git@a5b71d6de1389d3e7db898fef72e014842670f03#egg=brevitas\\nbrotlipy==0.7.0\\ncachetools==4.2.4\\ncertifi==2021.10.8\\ncffi @ file:///tmp/build/80754af9/cffi_1605538068321/work\\ncfgv==3.3.1\\nchardet @ file:///tmp/build/80754af9/chardet_1605303185383/work\\nclize==4.1.1\\nconda==4.9.2\\nconda-build==3.21.4\\nconda-package-handling @ file:///tmp/build/80754af9/conda-package-handling_1603018141399/work\\ncryptography @ file:///tmp/build/80754af9/cryptography_1605544487601/work\\ncycler==0.11.0\\ndataclasses-json==0.5.2\\n-e git+https://github.com/fbcotter/dataset_loading.git@5b9faa226e5f7c857579d31cdd9acde8cdfb816f#egg=dataset_loading\\ndeap==1.3.1\\ndecorator==4.4.2\\ndefusedxml==0.7.1\\ndependencies==2.0.1\\ndistlib==0.3.4\\ndnspython==2.1.0\\ndocrep==0.2.7\\ndocutils==0.18.1\\nentrypoints==0.3\\nexecnet==1.9.0\\nfilelock==3.4.2\\n-e git+https://github.com/Xilinx/finn.git@955747f1784b1afecd1bd1cc2c33cb283f78afca#egg=finn\\n-e git+https://github.com/Xilinx/finn-base.git@7cd7e00ba6709a85073ba22beeb5827e684fe085#egg=finn_base\\n-e git+https://github.com/Xilinx/finn-experimental.git@af6102769226b82b639f243dc36f065340991513#egg=finn_experimental\\nfuture==0.18.2\\nfuture-annotations==1.0.0\\nglob2 @ file:///home/linux1/recipes/ci/glob2_1610991677669/work\\ngoogle-auth==2.3.3\\ngoogle-auth-oauthlib==0.4.6\\ngspread==3.6.0\\nidentify==2.4.2\\nidna @ file:///tmp/build/80754af9/idna_1593446292537/work\\nimagesize==1.3.0\\nimportlib-resources==5.4.0\\niniconfig==1.1.1\\nipykernel==5.5.5\\nipython @ file:///tmp/build/80754af9/ipython_1610724799192/work\\nipython-genutils @ file:///tmp/build/80754af9/ipython_genutils_1606773439826/work\\nipywidgets==7.6.5\\njedi @ file:///tmp/build/80754af9/jedi_1606932564285/work\\nJinja2 @ file:///home/linux1/recipes/ci/jinja2_1610990516718/work\\njoblib==1.1.0\\njsonschema==4.3.3\\njupyter==1.0.0\\njupyter-client==7.1.0\\njupyter-console==6.4.0\\njupyter-core==4.9.1\\njupyterlab-pygments==0.1.2\\njupyterlab-widgets==1.0.2\\nkiwisolver==1.3.2\\nlibarchive-c @ file:///home/linux1/recipes/ci/python-libarchive-c_1610974153025/work\\nMarkupSafe==1.1.1\\nmarshmallow==3.14.1\\nmarshmallow-enum==1.5.1\\nmatplotlib==3.3.1\\nmip==1.13.0\\nmistune==0.8.4\\nmkl-fft==1.2.0\\nmkl-random==1.1.1\\nmkl-service==2.3.0\\nmypy-extensions==0.4.3\\nnbclient==0.5.9\\nnbconvert==6.4.0\\nnbformat==5.1.3\\nnest-asyncio==1.5.4\\nnetron==5.4.9\\nnetworkx==2.6.3\\nnodeenv==1.6.0\\nnotebook==6.4.6\\nnumpy==1.22.0\\noauthlib==3.1.1\\nod==1.0\\nolefile==0.46\\nonnx==1.7.0\\nonnxoptimizer==0.2.6\\nonnxruntime==1.4.0\\nopencv-python==4.5.5.62\\npackaging==21.3\\npandas==1.1.5\\npandocfilters==1.5.0\\nparso==0.7.0\\npexpect @ file:///tmp/build/80754af9/pexpect_1605563209008/work\\npickleshare @ file:///tmp/build/80754af9/pickleshare_1606932040724/work\\nPillow==9.0.0\\npkginfo==1.7.0\\nplatformdirs==2.4.1\\npluggy==1.0.0\\npre-commit==2.6.0\\nprometheus-client==0.12.0\\nprompt-toolkit @ file:///tmp/build/80754af9/prompt-toolkit_1602688806899/work\\nprotobuf==3.19.1\\npsutil @ file:///tmp/build/80754af9/psutil_1598370257551/work\\nptyprocess @ file:///tmp/build/80754af9/ptyprocess_1609355006118/work/dist/ptyprocess-0.7.0-py2.py3-none-any.whl\\npy==1.11.0\\npyasn1==0.4.8\\npyasn1-modules==0.2.8\\npycosat==0.6.3\\npycparser @ file:///tmp/build/80754af9/pycparser_1594388511720/work\\nPygments==2.4.1\\npyOpenSSL @ file:///tmp/build/80754af9/pyopenssl_1605545627475/work\\npyparsing==3.0.6\\npyrsistent==0.18.0\\nPyScaffold==3.2.1\\nPySocks @ file:///tmp/build/80754af9/pysocks_1605305779399/work\\npytest==6.2.5\\npytest-dependency==0.5.1\\npytest-forked==1.4.0\\npytest-parallel==0.1.0\\npytest-xdist==2.4.0\\npython-dateutil==2.8.2\\npython-etcd==0.4.5\\npytz @ file:///tmp/build/80754af9/pytz_1608922264688/work\\n-e git+https://github.com/maltanar/pyverilator.git@0c3eb9343500fc1352a02c020a736c8c2db47e8e#egg=PyVerilator\\nPyYAML==5.3.1\\npyzmq==22.3.0\\n-e git+https://github.com/fastmachinelearning/qonnx.git@9f9eff95227cc57aadc6eafcbd44b7acda89f067#egg=qonnx\\nqtconsole==5.2.2\\nQtPy==2.0.0\\nrequests @ file:///tmp/build/80754af9/requests_1592841827918/work\\nrequests-oauthlib==1.3.0\\nrsa==4.8\\nruamel-yaml==0.15.87\\nscikit-learn==0.24.1\\nscipy==1.5.2\\nSend2Trash==1.8.0\\nsetproctitle==1.2.2\\nsetupext-janitor==1.1.2\\nsigtools==2.0.3\\nsix==1.16.0\\nsnowballstemmer==2.2.0\\nsoupsieve @ file:///tmp/build/80754af9/soupsieve_1607965878077/work\\nSphinx==3.1.2\\nsphinx-rtd-theme==0.5.0\\nsphinxcontrib-applehelp==1.0.2\\nsphinxcontrib-devhelp==1.0.2\\nsphinxcontrib-htmlhelp==2.0.0\\nsphinxcontrib-jsmath==1.0.1\\nsphinxcontrib-qthelp==1.0.3\\nsphinxcontrib-serializinghtml==1.1.5\\nstringcase==1.2.0\\ntblib==1.7.0\\ntclwrapper==0.0.1\\nterminado==0.12.1\\ntestpath==0.5.0\\nthreadpoolctl==3.0.0\\ntokenize-rt==4.2.1\\ntoml==0.10.2\\ntoposort==1.5\\ntorch==1.7.1\\ntorchelastic==0.2.1\\ntorchvision==0.8.2\\ntornado==6.1\\ntqdm==4.31.1\\ntraitlets @ file:///tmp/build/80754af9/traitlets_1602787416690/work\\ntyping-extensions @ file:///tmp/build/80754af9/typing_extensions_1598376058250/work\\ntyping-inspect==0.7.1\\nurllib3 @ file:///tmp/build/80754af9/urllib3_1603305693037/work\\nvcdvcd==1.0.5\\nvirtualenv==20.13.0\\nwcwidth @ file:///tmp/build/80754af9/wcwidth_1593447189090/work\\nwebencodings==0.5.1\\nwget==3.2\\nwidgetsnbextension==3.5.2\\nzipp==3.7.0\\n'"
      ]
     },
     "execution_count": 1,
     "metadata": {},
     "output_type": "execute_result"
    }
   ],
   "source": [
    "# Working setup:\n",
    "# Ubuntu 20.04.3, Vitis tools 2020.2\n",
    "\n",
    "# Commit: 955747f1784b1afecd1bd1cc2c33cb283f78afca \n",
    "# Of: https://github.com/Xilinx/finn.git (refs/remotes/origin/feature/vitis_hls)\n",
    "\n",
    "import os\n",
    " \n",
    "# printing environment variables\n",
    "#print(os.environ)\n",
    "\"\"\"\n",
    "environ({'LOCALHOST_URL': 'localhost', 'LC_ALL': 'en_US.UTF-8', 'LD_LIBRARY_PATH': '/tmp/home_dir/.local/lib/python3.8/site-packages/cv2/../../lib64:/opt/xilinx/xrt/lib:/usr/local/nvidia/lib:/usr/local/nvidia/lib64', 'XILINX_VITIS': '/tools/Xilinx/Vitis/2020.2', 'LANG': 'en_US.UTF-8', 'TZ': 'Europe/Dublin', 'PYNQ_USERNAME': 'xilinx', 'HOSTNAME': 'finn_dev_nm', 'FINN_ROOT': '/workspace/finn', 'VIVADO_IP_CACHE': '/tmp/finn_dev_nm/vivado_ip_cache', 'NETRON_PORT': '8081', 'NVIDIA_VISIBLE_DEVICES': 'all', 'XILINX_XRT': '/opt/xilinx/xrt', 'XILINX_VIVADO': '/tools/Xilinx/Vivado/2020.2', 'VITIS_PATH': '/tools/Xilinx/Vitis/2020.2', 'PYNQ_BOARD': 'Pynq-Z1', 'HLS_PATH': '/tools/Xilinx/Vitis_HLS/2020.2', 'PWD': '/workspace/finn', 'XILINX_HLS': '/tools/Xilinx/Vitis_HLS/2020.2', 'HOME': '/tmp/home_dir', 'JUPYTER_PORT': '8888', 'PYNQ_IP': '', 'PYNQ_TARGET_DIR': '/home/xilinx/finn_dev_nm', 'VIVADO_PATH': '/tools/Xilinx/Vivado/2020.2', 'SHELL': '/bin/bash', 'TERM': 'xterm-color', 'NVIDIA_DRIVER_CAPABILITIES': 'compute,utility', 'SHLVL': '0', 'LANGUAGE': 'en_US:en', 'PYTHONPATH': '/opt/xilinx/xrt/python:', 'PYNQ_PASSWORD': 'xilinx', 'NUM_DEFAULT_WORKERS': '4', 'FINN_BUILD_DIR': '/tmp/finn_dev_nm', 'PATH': '/tools/Xilinx/Vitis_HLS/2020.2/bin:/tools/Xilinx/Vivado/2020.2/bin:/tools/Xilinx/Vitis/2020.2/bin:/tools/Xilinx/Vitis/2020.2/gnu/microblaze/lin/bin:/tools/Xilinx/Vitis/2020.2/gnu/arm/lin/bin:/tools/Xilinx/Vitis/2020.2/gnu/microblaze/linux_toolchain/lin64_le/bin:/tools/Xilinx/Vitis/2020.2/gnu/aarch32/lin/gcc-arm-linux-gnueabi/bin:/tools/Xilinx/Vitis/2020.2/gnu/aarch32/lin/gcc-arm-none-eabi/bin:/tools/Xilinx/Vitis/2020.2/gnu/aarch64/lin/aarch64-linux/bin:/tools/Xilinx/Vitis/2020.2/gnu/aarch64/lin/aarch64-none/bin:/tools/Xilinx/Vitis/2020.2/gnu/armr5/lin/gcc-arm-none-eabi/bin:/tools/Xilinx/Vitis/2020.2/tps/lnx64/cmake-3.3.2/bin:/tools/Xilinx/Vitis/2020.2/aietools/bin:/opt/xilinx/xrt/bin:/tools/Xilinx/Vitis_HLS/2020.2/bin:/tools/Xilinx/Vivado/2020.2/bin:/tools/Xilinx/Vitis/2020.2/bin:/tools/Xilinx/Vitis/2020.2/gnu/microblaze/lin/bin:/tools/Xilinx/Vitis/2020.2/gnu/arm/lin/bin:/tools/Xilinx/Vitis/2020.2/gnu/microblaze/linux_toolchain/lin64_le/bin:/tools/Xilinx/Vitis/2020.2/gnu/aarch32/lin/gcc-arm-linux-gnueabi/bin:/tools/Xilinx/Vitis/2020.2/gnu/aarch32/lin/gcc-arm-none-eabi/bin:/tools/Xilinx/Vitis/2020.2/gnu/aarch64/lin/aarch64-linux/bin:/tools/Xilinx/Vitis/2020.2/gnu/aarch64/lin/aarch64-none/bin:/tools/Xilinx/Vitis/2020.2/gnu/armr5/lin/gcc-arm-none-eabi/bin:/tools/Xilinx/Vitis/2020.2/tps/lnx64/cmake-3.3.2/bin:/tools/Xilinx/Vitis/2020.2/aietools/bin:/opt/conda/bin:/usr/local/sbin:/usr/local/bin:/usr/sbin:/usr/bin:/sbin:/bin:/workspace/oh-my-xilinx', 'PS1': '\\\\[\\\\033[1;36m\\\\]\\\\u\\\\[\\\\033[1;31m\\\\]@\\\\[\\\\033[1;32m\\\\]\\\\h:\\\\[\\\\033[1;35m\\\\]\\\\w\\\\[\\\\033[1;31m\\\\]\\\\$\\\\[\\\\033[0m\\\\] ', 'OHMYXILINX': '/workspace/oh-my-xilinx', 'JPY_PARENT_PID': '7', 'CLICOLOR': '1', 'PAGER': 'cat', 'GIT_PAGER': 'cat', 'MPLBACKEND': 'module://ipykernel.pylab.backend_inline', 'QT_QPA_PLATFORM_PLUGIN_PATH': '/tmp/home_dir/.local/lib/python3.8/site-packages/cv2/qt/plugins', 'QT_QPA_FONTDIR': '/tmp/home_dir/.local/lib/python3.8/site-packages/cv2/qt/fonts', 'KMP_DUPLICATE_LIB_OK': 'True', 'KMP_INIT_AT_FORK': 'FALSE', 'LIVENESS_THRESHOLD': '-1'})\n",
    "\"\"\"\n",
    "#!pip freeze\n",
    "\"\"\"\n",
    "alabaster==0.7.12\n",
    "argon2-cffi==21.3.0\n",
    "argon2-cffi-bindings==21.2.0\n",
    "attrs==19.3.0\n",
    "Babel==2.9.1\n",
    "backcall==0.2.0\n",
    "beautifulsoup4 @ file:///home/linux1/recipes/ci/beautifulsoup4_1610988766420/work\n",
    "bitstring==3.1.7\n",
    "bleach==4.1.0\n",
    "-e git+https://github.com/Xilinx/brevitas.git@a5b71d6de1389d3e7db898fef72e014842670f03#egg=brevitas\n",
    "brotlipy==0.7.0\n",
    "cachetools==4.2.4\n",
    "certifi==2021.10.8\n",
    "cffi @ file:///tmp/build/80754af9/cffi_1605538068321/work\n",
    "cfgv==3.3.1\n",
    "chardet @ file:///tmp/build/80754af9/chardet_1605303185383/work\n",
    "clize==4.1.1\n",
    "conda==4.9.2\n",
    "conda-build==3.21.4\n",
    "conda-package-handling @ file:///tmp/build/80754af9/conda-package-handling_1603018141399/work\n",
    "cryptography @ file:///tmp/build/80754af9/cryptography_1605544487601/work\n",
    "cycler==0.11.0\n",
    "dataclasses-json==0.5.2\n",
    "-e git+https://github.com/fbcotter/dataset_loading.git@5b9faa226e5f7c857579d31cdd9acde8cdfb816f#egg=dataset_loading\n",
    "deap==1.3.1\n",
    "decorator==4.4.2\n",
    "defusedxml==0.7.1\n",
    "dependencies==2.0.1\n",
    "distlib==0.3.4\n",
    "dnspython==2.1.0\n",
    "docrep==0.2.7\n",
    "docutils==0.18.1\n",
    "entrypoints==0.3\n",
    "execnet==1.9.0\n",
    "filelock==3.4.2\n",
    "-e git+https://github.com/Xilinx/finn.git@955747f1784b1afecd1bd1cc2c33cb283f78afca#egg=finn\n",
    "-e git+https://github.com/Xilinx/finn-base.git@7cd7e00ba6709a85073ba22beeb5827e684fe085#egg=finn_base\n",
    "-e git+https://github.com/Xilinx/finn-experimental.git@af6102769226b82b639f243dc36f065340991513#egg=finn_experimental\n",
    "future==0.18.2\n",
    "future-annotations==1.0.0\n",
    "glob2 @ file:///home/linux1/recipes/ci/glob2_1610991677669/work\n",
    "google-auth==2.3.3\n",
    "google-auth-oauthlib==0.4.6\n",
    "gspread==3.6.0\n",
    "identify==2.4.2\n",
    "idna @ file:///tmp/build/80754af9/idna_1593446292537/work\n",
    "imagesize==1.3.0\n",
    "importlib-resources==5.4.0\n",
    "iniconfig==1.1.1\n",
    "ipykernel==5.5.5\n",
    "ipython @ file:///tmp/build/80754af9/ipython_1610724799192/work\n",
    "ipython-genutils @ file:///tmp/build/80754af9/ipython_genutils_1606773439826/work\n",
    "ipywidgets==7.6.5\n",
    "jedi @ file:///tmp/build/80754af9/jedi_1606932564285/work\n",
    "Jinja2 @ file:///home/linux1/recipes/ci/jinja2_1610990516718/work\n",
    "joblib==1.1.0\n",
    "jsonschema==4.3.3\n",
    "jupyter==1.0.0\n",
    "jupyter-client==7.1.0\n",
    "jupyter-console==6.4.0\n",
    "jupyter-core==4.9.1\n",
    "jupyterlab-pygments==0.1.2\n",
    "jupyterlab-widgets==1.0.2\n",
    "kiwisolver==1.3.2\n",
    "libarchive-c @ file:///home/linux1/recipes/ci/python-libarchive-c_1610974153025/work\n",
    "MarkupSafe==1.1.1\n",
    "marshmallow==3.14.1\n",
    "marshmallow-enum==1.5.1\n",
    "matplotlib==3.3.1\n",
    "mip==1.13.0\n",
    "mistune==0.8.4\n",
    "mkl-fft==1.2.0\n",
    "mkl-random==1.1.1\n",
    "mkl-service==2.3.0\n",
    "mypy-extensions==0.4.3\n",
    "nbclient==0.5.9\n",
    "nbconvert==6.4.0\n",
    "nbformat==5.1.3\n",
    "nest-asyncio==1.5.4\n",
    "netron==5.4.9\n",
    "networkx==2.6.3\n",
    "nodeenv==1.6.0\n",
    "notebook==6.4.6\n",
    "numpy==1.22.0\n",
    "oauthlib==3.1.1\n",
    "od==1.0\n",
    "olefile==0.46\n",
    "onnx==1.7.0\n",
    "onnxoptimizer==0.2.6\n",
    "onnxruntime==1.4.0\n",
    "opencv-python==4.5.5.62\n",
    "packaging==21.3\n",
    "pandas==1.1.5\n",
    "pandocfilters==1.5.0\n",
    "parso==0.7.0\n",
    "pexpect @ file:///tmp/build/80754af9/pexpect_1605563209008/work\n",
    "pickleshare @ file:///tmp/build/80754af9/pickleshare_1606932040724/work\n",
    "Pillow==9.0.0\n",
    "pkginfo==1.7.0\n",
    "platformdirs==2.4.1\n",
    "pluggy==1.0.0\n",
    "pre-commit==2.6.0\n",
    "prometheus-client==0.12.0\n",
    "prompt-toolkit @ file:///tmp/build/80754af9/prompt-toolkit_1602688806899/work\n",
    "protobuf==3.19.1\n",
    "psutil @ file:///tmp/build/80754af9/psutil_1598370257551/work\n",
    "ptyprocess @ file:///tmp/build/80754af9/ptyprocess_1609355006118/work/dist/ptyprocess-0.7.0-py2.py3-none-any.whl\n",
    "py==1.11.0\n",
    "pyasn1==0.4.8\n",
    "pyasn1-modules==0.2.8\n",
    "pycosat==0.6.3\n",
    "pycparser @ file:///tmp/build/80754af9/pycparser_1594388511720/work\n",
    "Pygments==2.4.1\n",
    "pyOpenSSL @ file:///tmp/build/80754af9/pyopenssl_1605545627475/work\n",
    "pyparsing==3.0.6\n",
    "pyrsistent==0.18.0\n",
    "PyScaffold==3.2.1\n",
    "PySocks @ file:///tmp/build/80754af9/pysocks_1605305779399/work\n",
    "pytest==6.2.5\n",
    "pytest-dependency==0.5.1\n",
    "pytest-forked==1.4.0\n",
    "pytest-parallel==0.1.0\n",
    "pytest-xdist==2.4.0\n",
    "python-dateutil==2.8.2\n",
    "python-etcd==0.4.5\n",
    "pytz @ file:///tmp/build/80754af9/pytz_1608922264688/work\n",
    "-e git+https://github.com/maltanar/pyverilator.git@0c3eb9343500fc1352a02c020a736c8c2db47e8e#egg=PyVerilator\n",
    "PyYAML==5.3.1\n",
    "pyzmq==22.3.0\n",
    "-e git+https://github.com/fastmachinelearning/qonnx.git@9f9eff95227cc57aadc6eafcbd44b7acda89f067#egg=qonnx\n",
    "qtconsole==5.2.2\n",
    "QtPy==2.0.0\n",
    "requests @ file:///tmp/build/80754af9/requests_1592841827918/work\n",
    "requests-oauthlib==1.3.0\n",
    "rsa==4.8\n",
    "ruamel-yaml==0.15.87\n",
    "scikit-learn==0.24.1\n",
    "scipy==1.5.2\n",
    "Send2Trash==1.8.0\n",
    "setproctitle==1.2.2\n",
    "setupext-janitor==1.1.2\n",
    "sigtools==2.0.3\n",
    "six==1.16.0\n",
    "snowballstemmer==2.2.0\n",
    "soupsieve @ file:///tmp/build/80754af9/soupsieve_1607965878077/work\n",
    "Sphinx==3.1.2\n",
    "sphinx-rtd-theme==0.5.0\n",
    "sphinxcontrib-applehelp==1.0.2\n",
    "sphinxcontrib-devhelp==1.0.2\n",
    "sphinxcontrib-htmlhelp==2.0.0\n",
    "sphinxcontrib-jsmath==1.0.1\n",
    "sphinxcontrib-qthelp==1.0.3\n",
    "sphinxcontrib-serializinghtml==1.1.5\n",
    "stringcase==1.2.0\n",
    "tblib==1.7.0\n",
    "tclwrapper==0.0.1\n",
    "terminado==0.12.1\n",
    "testpath==0.5.0\n",
    "threadpoolctl==3.0.0\n",
    "tokenize-rt==4.2.1\n",
    "toml==0.10.2\n",
    "toposort==1.5\n",
    "torch==1.7.1\n",
    "torchelastic==0.2.1\n",
    "torchvision==0.8.2\n",
    "tornado==6.1\n",
    "tqdm==4.31.1\n",
    "traitlets @ file:///tmp/build/80754af9/traitlets_1602787416690/work\n",
    "typing-extensions @ file:///tmp/build/80754af9/typing_extensions_1598376058250/work\n",
    "typing-inspect==0.7.1\n",
    "urllib3 @ file:///tmp/build/80754af9/urllib3_1603305693037/work\n",
    "vcdvcd==1.0.5\n",
    "virtualenv==20.13.0\n",
    "wcwidth @ file:///tmp/build/80754af9/wcwidth_1593447189090/work\n",
    "webencodings==0.5.1\n",
    "wget==3.2\n",
    "widgetsnbextension==3.5.2\n",
    "zipp==3.7.0\n",
    "\"\"\""
   ]
  },
  {
   "cell_type": "code",
   "execution_count": 1,
   "id": "34932d63",
   "metadata": {},
   "outputs": [],
   "source": [
    "import onnx\n",
    "import torch"
   ]
  },
  {
   "cell_type": "markdown",
   "id": "b44525e5",
   "metadata": {},
   "source": [
    "**This is important -- always import onnx before torch**. This is a workaround for a [known bug](https://github.com/onnx/onnx/issues/2394)."
   ]
  },
  {
   "cell_type": "markdown",
   "id": "52d214ce",
   "metadata": {},
   "source": [
    "## Set up DataLoader\n",
    "\n",
    "Following either option, we now have access to the quantized dataset. We will wrap the dataset in a PyTorch `DataLoader` for easier access in batches."
   ]
  },
  {
   "cell_type": "code",
   "execution_count": 2,
   "id": "a0a7d39c",
   "metadata": {},
   "outputs": [
    {
     "name": "stdout",
     "output_type": "stream",
     "text": [
      "Loading dataset\n",
      "Input shape for 1 batch: torch.Size([100, 1, 24, 24])\n",
      "Label shape for 1 batch: torch.Size([100])\n",
      "torch.FloatTensor\n",
      "torch.LongTensor\n",
      "torch.Size([1, 24, 24])\n",
      "torch.Size([])\n",
      "Dataset loaded\n"
     ]
    }
   ],
   "source": [
    "## Load MNIST dataset\n",
    "import numpy as np\n",
    "import cv2\n",
    "import os\n",
    "import struct\n",
    "from torch.utils.data import DataLoader, Dataset\n",
    "from torch.utils.data import TensorDataset\n",
    "\n",
    "\n",
    "print(\"Loading dataset\")\n",
    "\n",
    "dataset_dir = \"../MNIST_Dataset_JPG\"\n",
    "\n",
    "train_images = []\n",
    "train_labels = []\n",
    "test_images = []\n",
    "test_labels = []\n",
    "\n",
    "dims = (24,24) # dimensions of images to train/test with\n",
    "\n",
    "for j in range(2): # train and test\t\n",
    "    for i in range(10): # 0 to 9\n",
    "        if j == 0:\n",
    "            read_folder = dataset_dir + '/MNIST_JPG_training/' + str(i) + '/'\n",
    "        if j == 1:\n",
    "            read_folder = dataset_dir + '/MNIST_JPG_testing/' + str(i) + '/'\n",
    "        for filename in os.listdir(read_folder):\n",
    "            img = cv2.imread(os.path.join(read_folder,filename),0) # read img as grayscale\n",
    "            img = cv2.resize(img, dims, interpolation = cv2.INTER_AREA)\t# resize img to fit dims\n",
    "            if img is not None:\n",
    "                if j == 0:\n",
    "                    #train_images.append(img) # normalize pixel vals to be between 0 - 1\n",
    "                    train_images.append(np.asarray(img).astype('float32'))\n",
    "                    train_labels.append(np.asarray(i).astype('float32'))\n",
    "                if j == 1:\n",
    "                    test_images.append(np.asarray(img).astype('float32'))\n",
    "                    test_labels.append(np.asarray(i).astype('float32'))\n",
    "\n",
    "## Convert to numpy arrays, flatten images - change dimensions from Nx10x10 to Nx100\n",
    "train_images = np.asarray(train_images).astype('float32')\n",
    "test_images = np.asarray(test_images).astype('float32')\n",
    "train_labels = np.asarray(train_labels).astype('float32')\n",
    "test_labels = np.asarray(test_labels).astype('float32')\n",
    "\n",
    "       \n",
    "# dataset loaders\n",
    "batch_size = 100\n",
    "\n",
    "inputs  = torch.unsqueeze(torch.from_numpy(train_images).clone().detach(), 1)\n",
    "#inputs  = torch.from_numpy(train_images).clone().detach()\n",
    "targets = torch.from_numpy(train_labels).clone().detach().type(torch.LongTensor)\n",
    "dataset = TensorDataset(inputs, targets)\n",
    "train_quantized_loader = DataLoader(dataset, batch_size, shuffle = True)\n",
    "\n",
    "inputs  = torch.unsqueeze(torch.from_numpy(test_images).clone().detach(), 1)\n",
    "#inputs  = torch.from_numpy(test_images).clone().detach()\n",
    "targets = torch.from_numpy(test_labels).clone().detach().type(torch.LongTensor)\n",
    "dataset = TensorDataset(inputs, targets)\n",
    "test_quantized_loader = DataLoader(dataset, batch_size, shuffle = True)\n",
    "\n",
    "count = 0\n",
    "for x,y in train_quantized_loader:\n",
    "    print(\"Input shape for 1 batch: \" + str(x.shape))\n",
    "    print(\"Label shape for 1 batch: \" + str(y.shape))\n",
    "    count += 1\n",
    "    if count == 1:\n",
    "        print(x[0].type())\n",
    "        print(y[0].type())\n",
    "        print(x[0].shape)\n",
    "        print(y[0].shape)\n",
    "        break        \n",
    "        \n",
    "print(\"Dataset loaded\")"
   ]
  },
  {
   "cell_type": "markdown",
   "id": "045c1c70",
   "metadata": {},
   "source": [
    "# Define the Quantized MLP Model <a id='define_quantized_mlp'></a>\n",
    "\n",
    "We'll now define an MLP model that will be trained to perform inference with quantized weights and activations.\n",
    "For this, we'll use the quantization-aware training (QAT) capabilities offered by [Brevitas](https://github.com/Xilinx/brevitas).\n",
    "\n",
    "Our MLP will have four fully-connected (FC) layers in total: three hidden layers with 64 neurons, and a final output layer with a single output, all using 2-bit weights. We'll use 2-bit quantized ReLU activation functions, and apply batch normalization between each FC layer and its activation.\n",
    "\n",
    "In case you'd like to experiment with different quantization settings or topology parameters, we'll define all these topology settings as variables."
   ]
  },
  {
   "cell_type": "code",
   "execution_count": 3,
   "id": "1423ec37",
   "metadata": {},
   "outputs": [
    {
     "data": {
      "text/plain": [
       "'\\ndefq = QuantLinear(input_size, hidden1, bias=True, weight_bit_width=weight_bit_width)\\n\\n#print(x[0])\\n#print(p)\\n#out = defq(p)\\nout = defq(x[0])\\nprint(out)\\n\\nit = iter(test_quantized_loader)\\nx,y = next(it)\\nprint(x)\\nprint(x.shape)\\nprint(x.type())'"
      ]
     },
     "execution_count": 3,
     "metadata": {},
     "output_type": "execute_result"
    }
   ],
   "source": [
    "#input_size = 576 #593      \n",
    "#hidden1 = 64      \n",
    "#hidden2 = 64\n",
    "#hidden3 = 64\n",
    "weight_bit_width = 2\n",
    "act_bit_width = 2\n",
    "num_classes = 10    \n",
    "\n",
    "\n",
    "#it = iter(train_quantized_loader)\n",
    "#x,y = next(it)\n",
    "\n",
    "#x = torch.unsqueeze(x, 1)\n",
    "\n",
    "\n",
    "#from brevitas.quant.scaled_int import Int8ActPerTensorFloat\n",
    "\n",
    "\n",
    "#default_quant_conv = QuantConv2d(\n",
    "#    in_channels=1, out_channels=3, kernel_size=(3,3), bias=False, \n",
    "#    output_quant=Int8ActPerTensorFloat, return_quant_tensor=True)\n",
    "\n",
    "\n",
    "#from brevitas.nn import QuantConv2d\n",
    "\"\"\"default_quant_conv = QuantConv2d(\n",
    "    in_channels=1, out_channels=3, kernel_size=(3,3), bias=False)\"\"\"\n",
    "\n",
    "#p = torch.randn(1, 1, 24, 24)\n",
    "#print(p)\n",
    "\n",
    "#out = default_quant_conv(p)\n",
    "#out = default_quant_conv(x[0])\n",
    "#out = default_quant_conv(x)\n",
    "#print(out)\n",
    "\n",
    "\"\"\"\n",
    "defq = QuantLinear(input_size, hidden1, bias=True, weight_bit_width=weight_bit_width)\n",
    "\n",
    "#print(x[0])\n",
    "#print(p)\n",
    "#out = defq(p)\n",
    "out = defq(x[0])\n",
    "print(out)\n",
    "\n",
    "it = iter(test_quantized_loader)\n",
    "x,y = next(it)\n",
    "print(x)\n",
    "print(x.shape)\n",
    "print(x.type())\"\"\""
   ]
  },
  {
   "cell_type": "markdown",
   "id": "2154a0b0",
   "metadata": {},
   "source": [
    "Now we can define our MLP using the layer primitives provided by Brevitas:"
   ]
  },
  {
   "cell_type": "code",
   "execution_count": 4,
   "id": "40c8d251",
   "metadata": {},
   "outputs": [],
   "source": [
    "from brevitas.quant.scaled_int import Int8ActPerTensorFloat\n",
    "from brevitas.nn import QuantLinear, QuantReLU, QuantIdentity, QuantMaxPool2d, QuantConv2d\n",
    "from brevitas.quant import Int8Bias as BiasQuant\n",
    "import torch.nn as nn\n",
    "from torch.nn import Module\n",
    "import torch.nn.functional as F\n",
    "\n",
    "# Setting seeds for reproducibility\n",
    "torch.manual_seed(0)\n",
    "\n",
    "\n",
    "\n",
    "class LowPrecisionLeNet(Module):\n",
    "    def __init__(self):\n",
    "        super(LowPrecisionLeNet, self).__init__()\n",
    "        self.quant_inp = QuantIdentity(\n",
    "            bit_width=4, return_quant_tensor=True)\n",
    "        self.conv1 = QuantConv2d(\n",
    "            1, 6, 5, weight_bit_width=3, bias_quant=BiasQuant, return_quant_tensor=True)\n",
    "        self.relu1 = QuantReLU(\n",
    "            bit_width=4, return_quant_tensor=True)\n",
    "        self.conv2 = QuantConv2d(\n",
    "            6, 16, 5, weight_bit_width=3, bias_quant=BiasQuant, return_quant_tensor=True)\n",
    "        self.relu2 = QuantReLU(\n",
    "            bit_width=4, return_quant_tensor=True)\n",
    "        self.fc1   = QuantLinear(\n",
    "            16*9, 120, bias=True, weight_bit_width=3, bias_quant=BiasQuant, return_quant_tensor=True)\n",
    "        \n",
    "        self.batchnorm1 = nn.BatchNorm1d(120)\n",
    "        \n",
    "        self.dropout1 = nn.Dropout(p=0.5)\n",
    "        self.relu3 = QuantReLU(\n",
    "            bit_width=4, return_quant_tensor=True)\n",
    "        self.fc2   = QuantLinear(\n",
    "            120, 84, bias=True, weight_bit_width=3, bias_quant=BiasQuant, return_quant_tensor=True)\n",
    "        \n",
    "        self.batchnorm2 = nn.BatchNorm1d(84)\n",
    "        \n",
    "        self.dropout2 = nn.Dropout(p=0.5)\n",
    "        self.relu4 = QuantReLU(\n",
    "            bit_width=4, return_quant_tensor=True)\n",
    "        self.fc3   = QuantLinear(\n",
    "            84, 10, bias=False, weight_bit_width=3)\n",
    "\n",
    "\n",
    "    def forward(self, x):\n",
    "        out = self.quant_inp(x)\n",
    "        out = self.conv1(out)\n",
    "        out = self.relu1(out)\n",
    "        out = F.max_pool2d(out, 2)\n",
    "        out = self.conv2(out)\n",
    "        out = self.relu2(out)\n",
    "        out = F.max_pool2d(out, 2)\n",
    "        out = out.reshape(out.shape[0], -1)\n",
    "        out = self.fc1(out)\n",
    "        out = self.batchnorm1(out)\n",
    "        out = self.dropout1(out)\n",
    "        out = self.relu3(out)\n",
    "        out = self.fc2(out)\n",
    "        out = self.batchnorm2(out)\n",
    "        out = self.dropout2(out)\n",
    "        out = self.relu4(out)\n",
    "        out = self.fc3(out)\n",
    "        return out\n",
    "\n",
    "model = LowPrecisionLeNet()"
   ]
  },
  {
   "cell_type": "markdown",
   "id": "791d102d",
   "metadata": {},
   "source": [
    "Note that the MLP's output is not yet quantized. Even though we want the final output of our MLP to be a binary (0/1) value indicating the classification, we've only defined a single-neuron FC layer as the output. While training the network we'll pass that output through a sigmoid function as part of the loss criterion, which [gives better numerical stability](https://pytorch.org/docs/stable/generated/torch.nn.BCEWithLogitsLoss.html). Later on, after we're done training the network, we'll add a quantization node at the end before we export it to FINN."
   ]
  },
  {
   "cell_type": "markdown",
   "id": "ec83110c",
   "metadata": {},
   "source": [
    "# Define Train and Test  Methods  <a id='train_test'></a>\n",
    "The train and test methods will use a `DataLoader`, which feeds the model with a new predefined batch of training data in each iteration, until the entire training data is fed to the model. Each repetition of this process is called an `epoch`."
   ]
  },
  {
   "cell_type": "code",
   "execution_count": 5,
   "id": "11ec0162",
   "metadata": {},
   "outputs": [],
   "source": [
    "def train(model, train_loader, optimizer, criterion):\n",
    "    losses = []\n",
    "    # ensure model is in training mode\n",
    "    model.train()    \n",
    "    \n",
    "    for i, data in enumerate(train_loader, 0):        \n",
    "        inputs, target = data\n",
    "        optimizer.zero_grad()   \n",
    "                \n",
    "        # forward pass\n",
    "        output = model(inputs.float())\n",
    "        loss = criterion(output, target)# target.unsqueeze(1))\n",
    "        \n",
    "        # backward pass + run optimizer to update weights\n",
    "        loss.backward()\n",
    "        optimizer.step()\n",
    "        \n",
    "        # keep track of loss value\n",
    "        losses.append(loss.data.numpy()) \n",
    "           \n",
    "    return losses"
   ]
  },
  {
   "cell_type": "code",
   "execution_count": 6,
   "id": "c2d3b0bd",
   "metadata": {},
   "outputs": [],
   "source": [
    "import torch\n",
    "from sklearn.metrics import accuracy_score\n",
    "\n",
    "def test(model, test_loader):    \n",
    "    # ensure model is in eval mode\n",
    "    model.eval() \n",
    "    y_true = []\n",
    "    y_pred = []\n",
    "   \n",
    "    with torch.no_grad():\n",
    "        for data in test_loader:\n",
    "            inputs, target = data\n",
    "            output_orig = model(inputs.float())\n",
    "            # run the output through sigmoid\n",
    "            #print(target)\n",
    "            #print(output_orig)\n",
    "            #print(output_orig.shape)\n",
    "            #print(output_orig.type())\n",
    "            pred = torch.zeros([100], dtype=torch.int64)\n",
    "            for i in range(batch_size):\n",
    "                pred[i] = torch.argmax(output_orig[i])\n",
    "            #pred = output_orig\n",
    "            #print(pred)\n",
    "            #print(target)\n",
    "            # compare against a threshold of 0.5 to generate 0/1\n",
    "            #pred = (output.detach().numpy() > 0.5) * 1\n",
    "            #target = target.float()\n",
    "            y_true.extend(target.tolist()) \n",
    "            y_pred.extend(pred.reshape(-1).tolist())\n",
    "            \n",
    "            #print(y_true)\n",
    "            #print(y_pred)\n",
    "        \n",
    "    return accuracy_score(y_true, y_pred)"
   ]
  },
  {
   "cell_type": "markdown",
   "id": "d36d5964",
   "metadata": {},
   "source": [
    "# Train the QNN <a id=\"train_qnn\"></a>\n",
    "\n",
    "We provide two options for training below: you can opt for training the model from scratch (slower) or use a pre-trained model (faster). The first option will give more insight into how the training process works, while the second option will likely give better accuracy."
   ]
  },
  {
   "cell_type": "markdown",
   "id": "570874f4",
   "metadata": {},
   "source": [
    "## (Option 1, slower) Train the Model from Scratch <a id=\"train_scratch\"></a>\n"
   ]
  },
  {
   "cell_type": "markdown",
   "id": "1f01a1f5",
   "metadata": {},
   "source": [
    "Before we start training our MLP we need to define some hyperparameters. Moreover, in order to monitor the loss function evolution over epochs, we need to define a method for it. As mentioned earlier, we'll use a loss criterion which applies a sigmoid function during the training phase (`BCEWithLogitsLoss`). For the testing phase, we're manually computing the sigmoid and thresholding at 0.5."
   ]
  },
  {
   "cell_type": "code",
   "execution_count": 9,
   "id": "bcaf8229",
   "metadata": {},
   "outputs": [],
   "source": [
    "num_epochs = 10\n",
    "lr = 0.0007 \n",
    "\n",
    "def display_loss_plot(losses, title=\"Training loss\", xlabel=\"Iterations\", ylabel=\"Loss\"):\n",
    "    x_axis = [i for i in range(len(losses))]\n",
    "    plt.plot(x_axis,losses)\n",
    "    plt.title(title)\n",
    "    plt.xlabel(xlabel)\n",
    "    plt.ylabel(ylabel)\n",
    "    plt.show()"
   ]
  },
  {
   "cell_type": "code",
   "execution_count": 10,
   "id": "3e53adb5",
   "metadata": {},
   "outputs": [],
   "source": [
    "# loss criterion and optimizer\n",
    "criterion = nn.CrossEntropyLoss() #nn.BCEWithLogitsLoss()\n",
    "optimizer = torch.optim.Adam(model.parameters(), lr=lr, betas=(0.9, 0.999))"
   ]
  },
  {
   "cell_type": "code",
   "execution_count": 11,
   "id": "7e60f392",
   "metadata": {
    "scrolled": true
   },
   "outputs": [
    {
     "name": "stderr",
     "output_type": "stream",
     "text": [
      "Training loss:   0%|          | 0/10 [00:00<?, ?it/s]/opt/conda/lib/python3.8/site-packages/torch/autograd/__init__.py:130: UserWarning: CUDA initialization: Found no NVIDIA driver on your system. Please check that you have an NVIDIA GPU and installed a driver from http://www.nvidia.com/Download/index.aspx (Triggered internally at  /opt/conda/conda-bld/pytorch_1607370172916/work/c10/cuda/CUDAFunctions.cpp:100.)\n",
      "  Variable._execution_engine.run_backward(\n",
      "Training loss = 0.088722 test accuracy = 0.986300: 100%|██████████| 10/10 [01:26<00:00,  8.66s/it]\n"
     ]
    }
   ],
   "source": [
    "import numpy as np\n",
    "from sklearn.metrics import accuracy_score\n",
    "from tqdm import tqdm, trange\n",
    "\n",
    "\n",
    "training = True\n",
    "\n",
    "\n",
    "# Setting seeds for reproducibility\n",
    "torch.manual_seed(0)\n",
    "np.random.seed(0)\n",
    "\n",
    "running_loss = []\n",
    "running_test_acc = []\n",
    "t = trange(num_epochs, desc=\"Training loss\", leave=True)\n",
    "if training == True:\n",
    "    for epoch in t:\n",
    "            loss_epoch = train(model, train_quantized_loader, optimizer,criterion)\n",
    "            test_acc = test(model, test_quantized_loader)\n",
    "            t.set_description(\"Training loss = %f test accuracy = %f\" % (np.mean(loss_epoch), test_acc))\n",
    "            t.refresh() # to show immediately the update           \n",
    "            running_loss.append(loss_epoch)\n",
    "            running_test_acc.append(test_acc)"
   ]
  },
  {
   "cell_type": "code",
   "execution_count": 12,
   "id": "57c13a8c",
   "metadata": {
    "scrolled": true
   },
   "outputs": [
    {
     "data": {
      "image/png": "[encoded data removed]",
      "text/plain": [
       "<Figure size 432x288 with 1 Axes>"
      ]
     },
     "metadata": {
      "needs_background": "light"
     },
     "output_type": "display_data"
    }
   ],
   "source": [
    "if training == True:\n",
    "    %matplotlib inline\n",
    "    import matplotlib.pyplot as plt\n",
    "\n",
    "    loss_per_epoch = [np.mean(loss_per_epoch) for loss_per_epoch in running_loss]\n",
    "    display_loss_plot(loss_per_epoch)"
   ]
  },
  {
   "cell_type": "code",
   "execution_count": 13,
   "id": "f395bfc5",
   "metadata": {},
   "outputs": [
    {
     "data": {
      "image/png": "[encoded data removed]",
      "text/plain": [
       "<Figure size 432x288 with 1 Axes>"
      ]
     },
     "metadata": {
      "needs_background": "light"
     },
     "output_type": "display_data"
    }
   ],
   "source": [
    "if training == True:    \n",
    "    acc_per_epoch = [np.mean(acc_per_epoch) for acc_per_epoch in running_test_acc]\n",
    "    display_loss_plot(acc_per_epoch, title=\"Test accuracy\", ylabel=\"Accuracy [%]\")"
   ]
  },
  {
   "cell_type": "code",
   "execution_count": 14,
   "id": "41d26bdd",
   "metadata": {},
   "outputs": [
    {
     "data": {
      "text/plain": [
       "0.9863"
      ]
     },
     "execution_count": 14,
     "metadata": {},
     "output_type": "execute_result"
    }
   ],
   "source": [
    "test(model, test_quantized_loader)"
   ]
  },
  {
   "cell_type": "code",
   "execution_count": 15,
   "id": "f0f89c3f",
   "metadata": {},
   "outputs": [],
   "source": [
    "if training == True:\n",
    "    # Save the Brevitas model to disk\n",
    "    torch.save(model.state_dict(), \"state_dict_self-trained.pth\")"
   ]
  },
  {
   "cell_type": "markdown",
   "id": "b2af5611",
   "metadata": {},
   "source": [
    "## (Option 2, faster) Load Pre-Trained Parameters <a id=\"load_pretrained\"></a>\n",
    "\n",
    "Instead of training from scratch, you can also use pre-trained parameters we provide here. These parameters should achieve ~91.9% test accuracy."
   ]
  },
  {
   "cell_type": "code",
   "execution_count": 15,
   "id": "152b5249",
   "metadata": {},
   "outputs": [],
   "source": [
    "#import torch\n",
    "if training == False:  \n",
    "    trained_state_dict = torch.load(\"state_dict_self-trained.pth\")\n",
    "\n",
    "    model.load_state_dict(trained_state_dict, strict=False)"
   ]
  },
  {
   "cell_type": "code",
   "execution_count": 16,
   "id": "f12c1cb5",
   "metadata": {
    "scrolled": true
   },
   "outputs": [
    {
     "data": {
      "text/plain": [
       "0.9863"
      ]
     },
     "execution_count": 16,
     "metadata": {},
     "output_type": "execute_result"
    }
   ],
   "source": [
    "test(model, test_quantized_loader)"
   ]
  },
  {
   "cell_type": "markdown",
   "id": "bb331d02",
   "metadata": {},
   "source": [
    "# Network Surgery Before Export <a id=\"network_surgery\"></a>\n",
    "\n",
    "Sometimes, it's desirable to make some changes to our trained network prior to export (this is known in general as \"network surgery\"). This depends on the model and is not generally necessary, but in this case we want to make a couple of changes to get better results with FINN."
   ]
  },
  {
   "cell_type": "markdown",
   "id": "0780e8d3",
   "metadata": {},
   "source": [
    "Let's start by padding the input. Our input vectors are 593-bit, which will make folding (parallelization) for the first layer a bit tricky since 593 is a prime number. So we'll pad the weight matrix of the first layer with seven 0-valued columns to work with an input size of 600 instead. When using the modified network we'll similarly provide inputs padded to 600 bits."
   ]
  },
  {
   "cell_type": "code",
   "execution_count": 17,
   "id": "2ee9f883",
   "metadata": {},
   "outputs": [
    {
     "data": {
      "text/plain": [
       "(6, 1, 5, 5)"
      ]
     },
     "execution_count": 17,
     "metadata": {},
     "output_type": "execute_result"
    }
   ],
   "source": [
    "from copy import deepcopy\n",
    "\n",
    "modified_model = deepcopy(model)\n",
    "\n",
    "W_orig = modified_model.conv1.weight.data.detach().numpy()\n",
    "W_orig.shape\n",
    "#W_orig = modified_model[0].weight.data.detach().numpy()\n",
    "#W_orig.shape"
   ]
  },
  {
   "cell_type": "code",
   "execution_count": 18,
   "id": "cde25dc0",
   "metadata": {},
   "outputs": [],
   "source": [
    "import numpy as np\n",
    "\n",
    "# pad the second (593-sized) dimensions with 24 zeroes at the end\n",
    "#global padding_in\n",
    "#padding_in = 24\n",
    "#W_new = np.pad(W_orig, [(0,0), (0,padding_in)])\n",
    "#W_new.shape"
   ]
  },
  {
   "cell_type": "code",
   "execution_count": 19,
   "id": "59d785c3",
   "metadata": {},
   "outputs": [],
   "source": [
    "#modified_model[0].weight.data = torch.from_numpy(W_new)\n",
    "#modified_model[0].weight.shape\n",
    "#print(modified_model[0].weight[0])"
   ]
  },
  {
   "cell_type": "code",
   "execution_count": 20,
   "id": "9bccee8b",
   "metadata": {},
   "outputs": [],
   "source": [
    "from brevitas.core.quant import QuantType\n",
    "from brevitas.nn import QuantIdentity\n",
    "\n",
    "\n",
    "class CybSecMLPForExport(nn.Module):\n",
    "    def __init__(self, my_pretrained_model):\n",
    "        super(CybSecMLPForExport, self).__init__()\n",
    "        self.pretrained = my_pretrained_model\n",
    "        #self.qnt_output = QuantIdentity(quant_type=QuantType.INT, bit_width=8, min_val=-1.0, max_val=1.0)\n",
    "    \n",
    "    def forward(self, x):\n",
    "        # assume x contains bipolar {-1,1} elems\n",
    "        # shift from {-1,1} -> {0,1} since that is the\n",
    "        # input range for the trained network\n",
    "        #x = (x + torch.tensor([1.0])) / 2.0  \n",
    "        out = self.pretrained(x)\n",
    "        #out = self.qnt_output(out)   # output as {-1,1}     # drop quantized output\n",
    "        return out\n",
    "\n",
    "model_for_export = CybSecMLPForExport(modified_model)"
   ]
  },
  {
   "cell_type": "code",
   "execution_count": 21,
   "id": "5fc55dd3",
   "metadata": {},
   "outputs": [],
   "source": [
    "def test_padded_bipolar(model, test_loader):    \n",
    "    # ensure model is in eval mode\n",
    "    model.eval() \n",
    "    y_true = []\n",
    "    y_pred = []\n",
    "   \n",
    "    with torch.no_grad():\n",
    "        for data in test_loader:      \n",
    "        \n",
    "            inputs, target = data\n",
    "            inputs = np.asarray(inputs)\n",
    "            #input_padded = np.pad(inputs, [(0,0), (0,padding_in)], constant_values=0)\n",
    "            #print(input_padded[0])\n",
    "            output_orig = model(torch.from_numpy(inputs).clone().detach())   \n",
    "            # run the output through sigmoid\n",
    "            #print(target)\n",
    "            #print(output_orig)\n",
    "            #print(output_orig.shape)\n",
    "            #print(output_orig.type())\n",
    "            pred = torch.zeros([100], dtype=torch.int64)\n",
    "            for i in range(batch_size):\n",
    "                pred[i] = torch.argmax(output_orig[i])\n",
    "            #pred = output_orig\n",
    "            #print(pred)\n",
    "            #print(target)\n",
    "            # compare against a threshold of 0.5 to generate 0/1\n",
    "            #pred = (output.detach().numpy() > 0.5) * 1\n",
    "            #target = target.float()\n",
    "            y_true.extend(target.tolist()) \n",
    "            y_pred.extend(pred.reshape(-1).tolist())\n",
    "            \n",
    "            #print(y_true)\n",
    "            #print(y_pred)\n",
    "        \n",
    "        \n",
    "        \n",
    "        \n",
    "    return accuracy_score(y_true, y_pred)"
   ]
  },
  {
   "cell_type": "code",
   "execution_count": 22,
   "id": "3cec4f63",
   "metadata": {},
   "outputs": [
    {
     "data": {
      "text/plain": [
       "0.9863"
      ]
     },
     "execution_count": 22,
     "metadata": {},
     "output_type": "execute_result"
    }
   ],
   "source": [
    "test_padded_bipolar(model_for_export, test_quantized_loader)"
   ]
  },
  {
   "cell_type": "markdown",
   "id": "12c34c60",
   "metadata": {},
   "source": [
    "# Export to FINN-ONNX <a id=\"export_finn_onnx\" ></a>\n",
    "\n",
    "\n",
    "[ONNX](https://onnx.ai/) is an open format built to represent machine learning models, and the FINN compiler expects an ONNX model as input. We'll now export our network into ONNX to be imported and used in FINN for the next notebooks. Note that the particular ONNX representation used for FINN differs from standard ONNX, you can read more about this [here](https://finn.readthedocs.io/en/latest/internals.html#intermediate-representation-finn-onnx).\n",
    "\n",
    "You can see below how we export a trained network in Brevitas into a FINN-compatible ONNX representation. Note how we create a `QuantTensor` instance with dummy data to tell Brevitas how our inputs look like, which will be used to set the input quantization annotation on the exported model."
   ]
  },
  {
   "cell_type": "code",
   "execution_count": 23,
   "id": "03bf09fb",
   "metadata": {
    "scrolled": false
   },
   "outputs": [
    {
     "name": "stdout",
     "output_type": "stream",
     "text": [
      "Model saved to cybsec-mlp-ready.onnx\n"
     ]
    }
   ],
   "source": [
    "import brevitas.onnx as bo\n",
    "from brevitas.quant_tensor import QuantTensor\n",
    "\n",
    "ready_model_filename = \"cybsec-mlp-ready.onnx\"\n",
    "input_shape = (1, 1, 24, 24)\n",
    "# create a QuantTensor instance to mark input as bipolar during export\n",
    "input_a = np.random.randint(0, 1, size=input_shape).astype(np.float32)\n",
    "scale = 1.0\n",
    "input_t = torch.from_numpy(input_a * scale)\n",
    "input_qt = QuantTensor(\n",
    "    input_t, scale=torch.tensor(scale), bit_width=torch.tensor(8.0), signed=False\n",
    ")\n",
    "\n",
    "bo.export_finn_onnx(\n",
    "    model_for_export, export_path=ready_model_filename, input_t=input_qt\n",
    ")\n",
    "\n",
    "print(\"Model saved to %s\" % ready_model_filename)"
   ]
  },
  {
   "cell_type": "markdown",
   "id": "04f9545d",
   "metadata": {},
   "source": [
    "## View the Exported ONNX in Netron\n",
    "\n",
    "Let's examine the exported ONNX model with [Netron](https://github.com/lutzroeder/netron), which is a visualizer for neural networks and allows interactive investigation of network properties. For example, you can click on the individual nodes and view the properties. Particular things of note:\n",
    "\n",
    "* The input tensor \"0\" is annotated with `quantization: finn_datatype: BIPOLAR`\n",
    "* The input preprocessing (x + 1) / 2 is exported as part of the network (initial `Add` and `Div` layers)\n",
    "* Brevitas `QuantLinear` layers are exported to ONNX as `MatMul`. We've exported the padded version; shape of the first MatMul node's weight parameter is 600x64\n",
    "* The weight parameters (second inputs) for MatMul nodes are annotated with `quantization: finn_datatype: INT2`\n",
    "* The quantized activations are exported as `MultiThreshold` nodes with `domain=finn.custom_op.general`\n",
    "* There's a final `MultiThreshold` node with threshold=0 to produce the final bipolar output (this is the `qnt_output` from `CybSecMLPForExport`"
   ]
  },
  {
   "cell_type": "code",
   "execution_count": 24,
   "id": "538bc8c4",
   "metadata": {},
   "outputs": [],
   "source": [
    "#from finn.util.visualization import showInNetron\n",
    "\n",
    "#showInNetron(ready_model_filename)"
   ]
  },
  {
   "cell_type": "markdown",
   "id": "141d37e9",
   "metadata": {},
   "source": [
    "## That's it! <a id=\"thats_it\" ></a>\n",
    "You created, trained and tested a quantized MLP that is ready to be loaded into FINN, congratulations! You can now proceed to the next notebook."
   ]
  },
  {
   "cell_type": "markdown",
   "id": "b91ab4f2",
   "metadata": {},
   "source": [
    "# Verify Exported ONNX Model in FINN\n",
    "\n",
    "<font color=\"red\">**Live FINN tutorial:** We recommend clicking **Cell -> Run All** when you start reading this notebook for \"latency hiding\".</font>\n",
    "\n",
    "**Important: This notebook depends on the 1-train-mlp-with-brevitas notebook, because we are using the ONNX model that was exported there. So please make sure the needed .onnx file is generated before you run this notebook.**\n",
    "\n",
    "**Also remember to 'close and halt' any other FINN notebooks, since Netron visualizations use the same port.**\n",
    "\n",
    "In this notebook we will show how to import the network we trained in Brevitas and verify it in the FINN compiler. \n",
    "This verification process can actually be done at various stages in the compiler [as explained in this notebook](../bnn-pynq/tfc_end2end_verification.ipynb) but for this example we'll only consider the first step: verifying the exported high-level FINN-ONNX model.\n",
    "Another goal of this notebook is to introduce you to the concept of *graph transformations* -- we'll be applying some transformations to the graph to make it executable for verification. \n",
    "Once this model is sucessfully verified, we'll generate an FPGA accelerator from it in the next notebook."
   ]
  },
  {
   "cell_type": "code",
   "execution_count": 25,
   "id": "efd0d559",
   "metadata": {},
   "outputs": [],
   "source": [
    "import onnx \n",
    "import torch "
   ]
  },
  {
   "cell_type": "markdown",
   "id": "39f33949",
   "metadata": {},
   "source": [
    "**This is important -- always import onnx before torch**. This is a workaround for a [known bug](https://github.com/onnx/onnx/issues/2394)."
   ]
  },
  {
   "cell_type": "markdown",
   "id": "3422fb26",
   "metadata": {},
   "source": [
    "## Outline\n",
    "-------------\n",
    "1. [Import model into FINN with ModelWrapper](#brevitas_import_visualization)\n",
    "2. [Network preparations: Tidy-up transformations](#network_preparations)\n",
    "3. [Load the dataset and Brevitas model](#load_dataset) \n",
    "4. [Compare FINN and Brevitas execution](#compare_brevitas)"
   ]
  },
  {
   "cell_type": "markdown",
   "id": "629d0ab5",
   "metadata": {},
   "source": [
    "# 1. Import model into FINN with ModelWrapper <a id=\"brevitas_import_visualization\"></a>\n",
    "\n",
    "Now that we have the model in .onnx format, we can work with it using FINN. To import it into FINN, we'll use the [`ModelWrapper`](https://finn.readthedocs.io/en/latest/source_code/finn.core.html#finn.core.modelwrapper.ModelWrapper). It is a wrapper around the ONNX model which provides several helper functions to make it easier to work with the model."
   ]
  },
  {
   "cell_type": "code",
   "execution_count": 26,
   "id": "fdd08d20",
   "metadata": {},
   "outputs": [],
   "source": [
    "from finn.core.modelwrapper import ModelWrapper\n",
    "\n",
    "ready_model_filename = \"cybsec-mlp-ready.onnx\"\n",
    "model_for_sim = ModelWrapper(ready_model_filename)"
   ]
  },
  {
   "cell_type": "markdown",
   "id": "b7baea26",
   "metadata": {},
   "source": [
    "Let's have a look at some of the member functions exposed by `ModelWrapper` to see what kind of information we can extract from it."
   ]
  },
  {
   "cell_type": "code",
   "execution_count": 27,
   "id": "7863e7ad",
   "metadata": {},
   "outputs": [
    {
     "data": {
      "text/plain": [
       "['__class__',\n",
       " '__delattr__',\n",
       " '__dict__',\n",
       " '__dir__',\n",
       " '__doc__',\n",
       " '__eq__',\n",
       " '__format__',\n",
       " '__ge__',\n",
       " '__getattribute__',\n",
       " '__gt__',\n",
       " '__hash__',\n",
       " '__init__',\n",
       " '__init_subclass__',\n",
       " '__le__',\n",
       " '__lt__',\n",
       " '__module__',\n",
       " '__ne__',\n",
       " '__new__',\n",
       " '__reduce__',\n",
       " '__reduce_ex__',\n",
       " '__repr__',\n",
       " '__setattr__',\n",
       " '__sizeof__',\n",
       " '__str__',\n",
       " '__subclasshook__',\n",
       " '__weakref__',\n",
       " '_model_proto',\n",
       " 'analysis',\n",
       " 'check_all_tensor_shapes_specified',\n",
       " 'check_compatibility',\n",
       " 'cleanup',\n",
       " 'find_consumer',\n",
       " 'find_consumers',\n",
       " 'find_direct_predecessors',\n",
       " 'find_direct_successors',\n",
       " 'find_producer',\n",
       " 'find_upstream',\n",
       " 'get_all_tensor_names',\n",
       " 'get_finn_nodes',\n",
       " 'get_initializer',\n",
       " 'get_metadata_prop',\n",
       " 'get_node_index',\n",
       " 'get_nodes_by_op_type',\n",
       " 'get_non_finn_nodes',\n",
       " 'get_tensor_datatype',\n",
       " 'get_tensor_fanout',\n",
       " 'get_tensor_layout',\n",
       " 'get_tensor_shape',\n",
       " 'get_tensor_sparsity',\n",
       " 'get_tensor_valueinfo',\n",
       " 'graph',\n",
       " 'is_fork_node',\n",
       " 'is_join_node',\n",
       " 'make_empty_exec_context',\n",
       " 'make_new_valueinfo_name',\n",
       " 'model',\n",
       " 'rename_tensor',\n",
       " 'save',\n",
       " 'set_initializer',\n",
       " 'set_metadata_prop',\n",
       " 'set_tensor_datatype',\n",
       " 'set_tensor_layout',\n",
       " 'set_tensor_shape',\n",
       " 'set_tensor_sparsity',\n",
       " 'temporary_fix_oldstyle_domain',\n",
       " 'transform']"
      ]
     },
     "execution_count": 27,
     "metadata": {},
     "output_type": "execute_result"
    }
   ],
   "source": [
    "dir(model_for_sim)"
   ]
  },
  {
   "cell_type": "markdown",
   "id": "98f6a32b",
   "metadata": {},
   "source": [
    "Many of these helper functions relate to extracting information about the structure and properties of the ONNX model. You can find out more about examining and manipulating ONNX models programmatically in [this tutorial](../../basics/0_how_to_work_with_onnx.ipynb), but we'll show a few basic functions here. For instance, we can extract the shape and datatype annotation for various tensors in the graph, as well as information related to the operation types associated with each node."
   ]
  },
  {
   "cell_type": "code",
   "execution_count": 28,
   "id": "e56aea85",
   "metadata": {},
   "outputs": [
    {
     "name": "stdout",
     "output_type": "stream",
     "text": [
      "Input tensor name: 0\n",
      "Output tensor name: 104\n",
      "Input tensor shape: [1, 1, 24, 24]\n",
      "Output tensor shape: [1, 10]\n",
      "Input tensor datatype: UINT8\n",
      "Output tensor datatype: FLOAT32\n",
      "List of node operator types in the graph: \n",
      "['Mul', 'MultiThreshold', 'Add', 'Mul', 'Conv', 'Mul', 'Div', 'Add', 'Mul', 'MultiThreshold', 'Mul', 'MaxPool', 'Conv', 'Mul', 'Div', 'Add', 'Mul', 'MultiThreshold', 'Mul', 'MaxPool', 'Shape', 'Gather', 'Unsqueeze', 'Concat', 'Reshape', 'MatMul', 'Mul', 'Div', 'Add', 'Mul', 'BatchNormalization', 'MultiThreshold', 'Mul', 'MatMul', 'Mul', 'Div', 'Add', 'Mul', 'BatchNormalization', 'MultiThreshold', 'Mul', 'MatMul', 'Mul']\n"
     ]
    }
   ],
   "source": [
    "from finn.core.datatype import DataType\n",
    "\n",
    "finnonnx_in_tensor_name = model_for_sim.graph.input[0].name\n",
    "finnonnx_out_tensor_name = model_for_sim.graph.output[0].name\n",
    "print(\"Input tensor name: %s\" % finnonnx_in_tensor_name)\n",
    "print(\"Output tensor name: %s\" % finnonnx_out_tensor_name)\n",
    "finnonnx_model_in_shape = model_for_sim.get_tensor_shape(finnonnx_in_tensor_name)\n",
    "finnonnx_model_out_shape = model_for_sim.get_tensor_shape(finnonnx_out_tensor_name)\n",
    "print(\"Input tensor shape: %s\" % str(finnonnx_model_in_shape))\n",
    "print(\"Output tensor shape: %s\" % str(finnonnx_model_out_shape))\n",
    "finnonnx_model_in_dt = model_for_sim.get_tensor_datatype(finnonnx_in_tensor_name)\n",
    "finnonnx_model_out_dt = model_for_sim.get_tensor_datatype(finnonnx_out_tensor_name)\n",
    "print(\"Input tensor datatype: %s\" % str(finnonnx_model_in_dt.name))\n",
    "print(\"Output tensor datatype: %s\" % str(finnonnx_model_out_dt.name))\n",
    "print(\"List of node operator types in the graph: \")\n",
    "print([x.op_type for x in model_for_sim.graph.node])"
   ]
  },
  {
   "cell_type": "markdown",
   "id": "4dd844e6",
   "metadata": {},
   "source": [
    "Note that the output tensor is (as of yet) marked as a float32 value, even though we know the output is binary. This will be automatically inferred by the compiler in the next step when we run the `InferDataTypes` transformation."
   ]
  },
  {
   "cell_type": "markdown",
   "id": "751b37f5",
   "metadata": {},
   "source": [
    "# 2. Network preparation: Tidy-up transformations <a id=\"network_preparations\"></a>\n",
    "\n",
    "Before running the verification, we need to prepare our FINN-ONNX model. In particular, all the intermediate tensors need to have statically defined shapes. To do this, we apply some graph transformations to the model like a kind of \"tidy-up\" to make it easier to process. \n",
    "\n",
    "**Graph transformations in FINN.** The whole FINN compiler is built around the idea of transformations, which gradually transform the model into a synthesizable hardware description. Although FINN offers functionality that automatically calls a standard sequence of transformations (covered in the next notebook), you can also manually call individual transformations (like we do here), as well as adding your own transformations, to create custom flows. You can read more about these transformations in [this notebook](../bnn-pynq/tfc_end2end_example.ipynb)."
   ]
  },
  {
   "cell_type": "code",
   "execution_count": 29,
   "id": "c2a02066",
   "metadata": {},
   "outputs": [],
   "source": [
    "from finn.transformation.general import GiveReadableTensorNames, GiveUniqueNodeNames, RemoveStaticGraphInputs\n",
    "from finn.transformation.infer_shapes import InferShapes\n",
    "from finn.transformation.infer_datatypes import InferDataTypes\n",
    "from finn.transformation.fold_constants import FoldConstants\n",
    "\n",
    "model_for_sim = model_for_sim.transform(InferShapes())\n",
    "model_for_sim = model_for_sim.transform(FoldConstants())\n",
    "model_for_sim = model_for_sim.transform(GiveUniqueNodeNames())\n",
    "model_for_sim = model_for_sim.transform(GiveReadableTensorNames())\n",
    "model_for_sim = model_for_sim.transform(InferDataTypes())\n",
    "model_for_sim = model_for_sim.transform(RemoveStaticGraphInputs())\n",
    "\n",
    "verif_model_filename = \"cybsec-mlp-verification.onnx\"\n",
    "model_for_sim.save(verif_model_filename)"
   ]
  },
  {
   "cell_type": "markdown",
   "id": "f83ca88d",
   "metadata": {},
   "source": [
    "**Would the FINN compiler still work if we didn't do this?** The compilation step in the next notebook applies these transformations internally and would work fine, but we're going to use FINN's verification capabilities below and these require the tidy-up transformations."
   ]
  },
  {
   "cell_type": "markdown",
   "id": "c93b41d0",
   "metadata": {},
   "source": [
    "Let's view our ready-to-go model after the transformations. Note that all intermediate tensors now have their shapes specified (indicated by numbers next to the arrows going between layers). Additionally, the datatype inference step has propagated quantization annotations to the outputs of `MultiThreshold` layers (expand by clicking the + next to the name of the tensor to see the quantization annotation) and the final output tensor."
   ]
  },
  {
   "cell_type": "code",
   "execution_count": 30,
   "id": "b39b40c4",
   "metadata": {},
   "outputs": [
    {
     "ename": "OSError",
     "evalue": "[Errno 98] Address already in use",
     "output_type": "error",
     "traceback": [
      "\u001b[0;31m---------------------------------------------------------------------------\u001b[0m",
      "\u001b[0;31mOSError\u001b[0m                                   Traceback (most recent call last)",
      "\u001b[0;32m<ipython-input-30-cbacf22bd95b>\u001b[0m in \u001b[0;36m<module>\u001b[0;34m\u001b[0m\n\u001b[1;32m      1\u001b[0m \u001b[0;32mfrom\u001b[0m \u001b[0mfinn\u001b[0m\u001b[0;34m.\u001b[0m\u001b[0mutil\u001b[0m\u001b[0;34m.\u001b[0m\u001b[0mvisualization\u001b[0m \u001b[0;32mimport\u001b[0m \u001b[0mshowInNetron\u001b[0m\u001b[0;34m\u001b[0m\u001b[0;34m\u001b[0m\u001b[0m\n\u001b[1;32m      2\u001b[0m \u001b[0;34m\u001b[0m\u001b[0m\n\u001b[0;32m----> 3\u001b[0;31m \u001b[0mshowInNetron\u001b[0m\u001b[0;34m(\u001b[0m\u001b[0mverif_model_filename\u001b[0m\u001b[0;34m)\u001b[0m\u001b[0;34m\u001b[0m\u001b[0;34m\u001b[0m\u001b[0m\n\u001b[0m",
      "\u001b[0;32m/workspace/finn/src/finn/util/visualization.py\u001b[0m in \u001b[0;36mshowInNetron\u001b[0;34m(model_filename, localhost_url, port)\u001b[0m\n\u001b[1;32m     59\u001b[0m         \u001b[0mport\u001b[0m \u001b[0;34m=\u001b[0m \u001b[0;36m8081\u001b[0m\u001b[0;34m\u001b[0m\u001b[0;34m\u001b[0m\u001b[0m\n\u001b[1;32m     60\u001b[0m     \u001b[0mlocalhost_url\u001b[0m \u001b[0;34m=\u001b[0m \u001b[0mlocalhost_url\u001b[0m \u001b[0;32mor\u001b[0m \u001b[0mos\u001b[0m\u001b[0;34m.\u001b[0m\u001b[0mgetenv\u001b[0m\u001b[0;34m(\u001b[0m\u001b[0;34m\"LOCALHOST_URL\"\u001b[0m\u001b[0;34m,\u001b[0m \u001b[0mdefault\u001b[0m\u001b[0;34m=\u001b[0m\u001b[0;34m\"localhost\"\u001b[0m\u001b[0;34m)\u001b[0m\u001b[0;34m\u001b[0m\u001b[0;34m\u001b[0m\u001b[0m\n\u001b[0;32m---> 61\u001b[0;31m     \u001b[0mnetron\u001b[0m\u001b[0;34m.\u001b[0m\u001b[0mstart\u001b[0m\u001b[0;34m(\u001b[0m\u001b[0mmodel_filename\u001b[0m\u001b[0;34m,\u001b[0m \u001b[0maddress\u001b[0m\u001b[0;34m=\u001b[0m\u001b[0;34m(\u001b[0m\u001b[0;34m\"0.0.0.0\"\u001b[0m\u001b[0;34m,\u001b[0m \u001b[0mport\u001b[0m\u001b[0;34m)\u001b[0m\u001b[0;34m,\u001b[0m \u001b[0mbrowse\u001b[0m\u001b[0;34m=\u001b[0m\u001b[0;32mFalse\u001b[0m\u001b[0;34m)\u001b[0m\u001b[0;34m\u001b[0m\u001b[0;34m\u001b[0m\u001b[0m\n\u001b[0m\u001b[1;32m     62\u001b[0m     \u001b[0;32mreturn\u001b[0m \u001b[0mIFrame\u001b[0m\u001b[0;34m(\u001b[0m\u001b[0msrc\u001b[0m\u001b[0;34m=\u001b[0m\u001b[0;34mf\"http://{localhost_url}:{port}/\"\u001b[0m\u001b[0;34m,\u001b[0m \u001b[0mwidth\u001b[0m\u001b[0;34m=\u001b[0m\u001b[0;34m\"100%\"\u001b[0m\u001b[0;34m,\u001b[0m \u001b[0mheight\u001b[0m\u001b[0;34m=\u001b[0m\u001b[0;36m400\u001b[0m\u001b[0;34m)\u001b[0m\u001b[0;34m\u001b[0m\u001b[0;34m\u001b[0m\u001b[0m\n",
      "\u001b[0;32m/opt/conda/lib/python3.8/site-packages/netron/server.py\u001b[0m in \u001b[0;36mstart\u001b[0;34m(file, address, browse, log)\u001b[0m\n\u001b[1;32m    296\u001b[0m         \u001b[0mA\u001b[0m \u001b[0;34m(\u001b[0m\u001b[0mhost\u001b[0m\u001b[0;34m,\u001b[0m \u001b[0mport\u001b[0m\u001b[0;34m)\u001b[0m \u001b[0maddress\u001b[0m \u001b[0mtuple\u001b[0m\u001b[0;34m.\u001b[0m\u001b[0;34m\u001b[0m\u001b[0;34m\u001b[0m\u001b[0m\n\u001b[1;32m    297\u001b[0m     '''\n\u001b[0;32m--> 298\u001b[0;31m     \u001b[0;32mreturn\u001b[0m \u001b[0mserve\u001b[0m\u001b[0;34m(\u001b[0m\u001b[0mfile\u001b[0m\u001b[0;34m,\u001b[0m \u001b[0;32mNone\u001b[0m\u001b[0;34m,\u001b[0m \u001b[0mbrowse\u001b[0m\u001b[0;34m=\u001b[0m\u001b[0mbrowse\u001b[0m\u001b[0;34m,\u001b[0m \u001b[0maddress\u001b[0m\u001b[0;34m=\u001b[0m\u001b[0maddress\u001b[0m\u001b[0;34m,\u001b[0m \u001b[0mlog\u001b[0m\u001b[0;34m=\u001b[0m\u001b[0mlog\u001b[0m\u001b[0;34m)\u001b[0m\u001b[0;34m\u001b[0m\u001b[0;34m\u001b[0m\u001b[0m\n\u001b[0m",
      "\u001b[0;32m/opt/conda/lib/python3.8/site-packages/netron/server.py\u001b[0m in \u001b[0;36mserve\u001b[0;34m(file, data, address, browse, log)\u001b[0m\n\u001b[1;32m    268\u001b[0m     \u001b[0m_update_thread_list\u001b[0m\u001b[0;34m(\u001b[0m\u001b[0;34m)\u001b[0m\u001b[0;34m\u001b[0m\u001b[0;34m\u001b[0m\u001b[0m\n\u001b[1;32m    269\u001b[0m \u001b[0;34m\u001b[0m\u001b[0m\n\u001b[0;32m--> 270\u001b[0;31m     \u001b[0mthread\u001b[0m \u001b[0;34m=\u001b[0m \u001b[0mHTTPServerThread\u001b[0m\u001b[0;34m(\u001b[0m\u001b[0mdata\u001b[0m\u001b[0;34m,\u001b[0m \u001b[0mfile\u001b[0m\u001b[0;34m,\u001b[0m \u001b[0maddress\u001b[0m\u001b[0;34m,\u001b[0m \u001b[0mlog\u001b[0m\u001b[0;34m)\u001b[0m\u001b[0;34m\u001b[0m\u001b[0;34m\u001b[0m\u001b[0m\n\u001b[0m\u001b[1;32m    271\u001b[0m     \u001b[0mthread\u001b[0m\u001b[0;34m.\u001b[0m\u001b[0mstart\u001b[0m\u001b[0;34m(\u001b[0m\u001b[0;34m)\u001b[0m\u001b[0;34m\u001b[0m\u001b[0;34m\u001b[0m\u001b[0m\n\u001b[1;32m    272\u001b[0m     \u001b[0;32mwhile\u001b[0m \u001b[0;32mnot\u001b[0m \u001b[0mthread\u001b[0m\u001b[0;34m.\u001b[0m\u001b[0malive\u001b[0m\u001b[0;34m(\u001b[0m\u001b[0;34m)\u001b[0m\u001b[0;34m:\u001b[0m\u001b[0;34m\u001b[0m\u001b[0;34m\u001b[0m\u001b[0m\n",
      "\u001b[0;32m/opt/conda/lib/python3.8/site-packages/netron/server.py\u001b[0m in \u001b[0;36m__init__\u001b[0;34m(self, data, file, address, log)\u001b[0m\n\u001b[1;32m    121\u001b[0m         \u001b[0mself\u001b[0m\u001b[0;34m.\u001b[0m\u001b[0murl\u001b[0m \u001b[0;34m=\u001b[0m \u001b[0;34m'http://'\u001b[0m \u001b[0;34m+\u001b[0m \u001b[0maddress\u001b[0m\u001b[0;34m[\u001b[0m\u001b[0;36m0\u001b[0m\u001b[0;34m]\u001b[0m \u001b[0;34m+\u001b[0m \u001b[0;34m':'\u001b[0m \u001b[0;34m+\u001b[0m \u001b[0mstr\u001b[0m\u001b[0;34m(\u001b[0m\u001b[0maddress\u001b[0m\u001b[0;34m[\u001b[0m\u001b[0;36m1\u001b[0m\u001b[0;34m]\u001b[0m\u001b[0;34m)\u001b[0m\u001b[0;34m\u001b[0m\u001b[0;34m\u001b[0m\u001b[0m\n\u001b[1;32m    122\u001b[0m         \u001b[0mself\u001b[0m\u001b[0;34m.\u001b[0m\u001b[0mfile\u001b[0m \u001b[0;34m=\u001b[0m \u001b[0mfile\u001b[0m\u001b[0;34m\u001b[0m\u001b[0;34m\u001b[0m\u001b[0m\n\u001b[0;32m--> 123\u001b[0;31m         \u001b[0mself\u001b[0m\u001b[0;34m.\u001b[0m\u001b[0mserver\u001b[0m \u001b[0;34m=\u001b[0m \u001b[0mThreadedHTTPServer\u001b[0m\u001b[0;34m(\u001b[0m\u001b[0maddress\u001b[0m\u001b[0;34m,\u001b[0m \u001b[0mHTTPRequestHandler\u001b[0m\u001b[0;34m)\u001b[0m\u001b[0;34m\u001b[0m\u001b[0;34m\u001b[0m\u001b[0m\n\u001b[0m\u001b[1;32m    124\u001b[0m         \u001b[0mself\u001b[0m\u001b[0;34m.\u001b[0m\u001b[0mserver\u001b[0m\u001b[0;34m.\u001b[0m\u001b[0mtimeout\u001b[0m \u001b[0;34m=\u001b[0m \u001b[0;36m0.25\u001b[0m\u001b[0;34m\u001b[0m\u001b[0;34m\u001b[0m\u001b[0m\n\u001b[1;32m    125\u001b[0m         \u001b[0;32mif\u001b[0m \u001b[0mfile\u001b[0m\u001b[0;34m:\u001b[0m\u001b[0;34m\u001b[0m\u001b[0;34m\u001b[0m\u001b[0m\n",
      "\u001b[0;32m/opt/conda/lib/python3.8/socketserver.py\u001b[0m in \u001b[0;36m__init__\u001b[0;34m(self, server_address, RequestHandlerClass, bind_and_activate)\u001b[0m\n\u001b[1;32m    450\u001b[0m         \u001b[0;32mif\u001b[0m \u001b[0mbind_and_activate\u001b[0m\u001b[0;34m:\u001b[0m\u001b[0;34m\u001b[0m\u001b[0;34m\u001b[0m\u001b[0m\n\u001b[1;32m    451\u001b[0m             \u001b[0;32mtry\u001b[0m\u001b[0;34m:\u001b[0m\u001b[0;34m\u001b[0m\u001b[0;34m\u001b[0m\u001b[0m\n\u001b[0;32m--> 452\u001b[0;31m                 \u001b[0mself\u001b[0m\u001b[0;34m.\u001b[0m\u001b[0mserver_bind\u001b[0m\u001b[0;34m(\u001b[0m\u001b[0;34m)\u001b[0m\u001b[0;34m\u001b[0m\u001b[0;34m\u001b[0m\u001b[0m\n\u001b[0m\u001b[1;32m    453\u001b[0m                 \u001b[0mself\u001b[0m\u001b[0;34m.\u001b[0m\u001b[0mserver_activate\u001b[0m\u001b[0;34m(\u001b[0m\u001b[0;34m)\u001b[0m\u001b[0;34m\u001b[0m\u001b[0;34m\u001b[0m\u001b[0m\n\u001b[1;32m    454\u001b[0m             \u001b[0;32mexcept\u001b[0m\u001b[0;34m:\u001b[0m\u001b[0;34m\u001b[0m\u001b[0;34m\u001b[0m\u001b[0m\n",
      "\u001b[0;32m/opt/conda/lib/python3.8/http/server.py\u001b[0m in \u001b[0;36mserver_bind\u001b[0;34m(self)\u001b[0m\n\u001b[1;32m    136\u001b[0m     \u001b[0;32mdef\u001b[0m \u001b[0mserver_bind\u001b[0m\u001b[0;34m(\u001b[0m\u001b[0mself\u001b[0m\u001b[0;34m)\u001b[0m\u001b[0;34m:\u001b[0m\u001b[0;34m\u001b[0m\u001b[0;34m\u001b[0m\u001b[0m\n\u001b[1;32m    137\u001b[0m         \u001b[0;34m\"\"\"Override server_bind to store the server name.\"\"\"\u001b[0m\u001b[0;34m\u001b[0m\u001b[0;34m\u001b[0m\u001b[0m\n\u001b[0;32m--> 138\u001b[0;31m         \u001b[0msocketserver\u001b[0m\u001b[0;34m.\u001b[0m\u001b[0mTCPServer\u001b[0m\u001b[0;34m.\u001b[0m\u001b[0mserver_bind\u001b[0m\u001b[0;34m(\u001b[0m\u001b[0mself\u001b[0m\u001b[0;34m)\u001b[0m\u001b[0;34m\u001b[0m\u001b[0;34m\u001b[0m\u001b[0m\n\u001b[0m\u001b[1;32m    139\u001b[0m         \u001b[0mhost\u001b[0m\u001b[0;34m,\u001b[0m \u001b[0mport\u001b[0m \u001b[0;34m=\u001b[0m \u001b[0mself\u001b[0m\u001b[0;34m.\u001b[0m\u001b[0mserver_address\u001b[0m\u001b[0;34m[\u001b[0m\u001b[0;34m:\u001b[0m\u001b[0;36m2\u001b[0m\u001b[0;34m]\u001b[0m\u001b[0;34m\u001b[0m\u001b[0;34m\u001b[0m\u001b[0m\n\u001b[1;32m    140\u001b[0m         \u001b[0mself\u001b[0m\u001b[0;34m.\u001b[0m\u001b[0mserver_name\u001b[0m \u001b[0;34m=\u001b[0m \u001b[0msocket\u001b[0m\u001b[0;34m.\u001b[0m\u001b[0mgetfqdn\u001b[0m\u001b[0;34m(\u001b[0m\u001b[0mhost\u001b[0m\u001b[0;34m)\u001b[0m\u001b[0;34m\u001b[0m\u001b[0;34m\u001b[0m\u001b[0m\n",
      "\u001b[0;32m/opt/conda/lib/python3.8/socketserver.py\u001b[0m in \u001b[0;36mserver_bind\u001b[0;34m(self)\u001b[0m\n\u001b[1;32m    464\u001b[0m         \u001b[0;32mif\u001b[0m \u001b[0mself\u001b[0m\u001b[0;34m.\u001b[0m\u001b[0mallow_reuse_address\u001b[0m\u001b[0;34m:\u001b[0m\u001b[0;34m\u001b[0m\u001b[0;34m\u001b[0m\u001b[0m\n\u001b[1;32m    465\u001b[0m             \u001b[0mself\u001b[0m\u001b[0;34m.\u001b[0m\u001b[0msocket\u001b[0m\u001b[0;34m.\u001b[0m\u001b[0msetsockopt\u001b[0m\u001b[0;34m(\u001b[0m\u001b[0msocket\u001b[0m\u001b[0;34m.\u001b[0m\u001b[0mSOL_SOCKET\u001b[0m\u001b[0;34m,\u001b[0m \u001b[0msocket\u001b[0m\u001b[0;34m.\u001b[0m\u001b[0mSO_REUSEADDR\u001b[0m\u001b[0;34m,\u001b[0m \u001b[0;36m1\u001b[0m\u001b[0;34m)\u001b[0m\u001b[0;34m\u001b[0m\u001b[0;34m\u001b[0m\u001b[0m\n\u001b[0;32m--> 466\u001b[0;31m         \u001b[0mself\u001b[0m\u001b[0;34m.\u001b[0m\u001b[0msocket\u001b[0m\u001b[0;34m.\u001b[0m\u001b[0mbind\u001b[0m\u001b[0;34m(\u001b[0m\u001b[0mself\u001b[0m\u001b[0;34m.\u001b[0m\u001b[0mserver_address\u001b[0m\u001b[0;34m)\u001b[0m\u001b[0;34m\u001b[0m\u001b[0;34m\u001b[0m\u001b[0m\n\u001b[0m\u001b[1;32m    467\u001b[0m         \u001b[0mself\u001b[0m\u001b[0;34m.\u001b[0m\u001b[0mserver_address\u001b[0m \u001b[0;34m=\u001b[0m \u001b[0mself\u001b[0m\u001b[0;34m.\u001b[0m\u001b[0msocket\u001b[0m\u001b[0;34m.\u001b[0m\u001b[0mgetsockname\u001b[0m\u001b[0;34m(\u001b[0m\u001b[0;34m)\u001b[0m\u001b[0;34m\u001b[0m\u001b[0;34m\u001b[0m\u001b[0m\n\u001b[1;32m    468\u001b[0m \u001b[0;34m\u001b[0m\u001b[0m\n",
      "\u001b[0;31mOSError\u001b[0m: [Errno 98] Address already in use"
     ]
    }
   ],
   "source": [
    "from finn.util.visualization import showInNetron\n",
    "\n",
    "showInNetron(verif_model_filename)"
   ]
  },
  {
   "cell_type": "markdown",
   "id": "8b0c65ca",
   "metadata": {},
   "source": [
    "# 3. Load the Dataset and the Brevitas Model <a id=\"load_dataset\"></a>\n",
    "\n",
    "We'll use some example data from the quantized UNSW-NB15 dataset (from the previous notebook) to use as inputs for the verification. "
   ]
  },
  {
   "cell_type": "code",
   "execution_count": 31,
   "id": "92b34437",
   "metadata": {},
   "outputs": [
    {
     "name": "stdout",
     "output_type": "stream",
     "text": [
      "tensor([[[[0., 0., 0.,  ..., 0., 0., 0.],\n",
      "          [0., 0., 0.,  ..., 0., 0., 0.],\n",
      "          [0., 0., 0.,  ..., 0., 0., 0.],\n",
      "          ...,\n",
      "          [0., 0., 0.,  ..., 0., 0., 0.],\n",
      "          [0., 0., 0.,  ..., 0., 0., 0.],\n",
      "          [0., 0., 0.,  ..., 0., 0., 0.]]],\n",
      "\n",
      "\n",
      "        [[[0., 0., 0.,  ..., 0., 0., 0.],\n",
      "          [0., 0., 0.,  ..., 0., 0., 0.],\n",
      "          [0., 0., 0.,  ..., 0., 0., 0.],\n",
      "          ...,\n",
      "          [0., 0., 0.,  ..., 0., 0., 0.],\n",
      "          [0., 0., 0.,  ..., 0., 0., 0.],\n",
      "          [0., 0., 0.,  ..., 0., 0., 0.]]],\n",
      "\n",
      "\n",
      "        [[[0., 0., 0.,  ..., 0., 0., 0.],\n",
      "          [0., 0., 0.,  ..., 0., 0., 0.],\n",
      "          [0., 0., 0.,  ..., 0., 0., 0.],\n",
      "          ...,\n",
      "          [0., 0., 0.,  ..., 0., 0., 0.],\n",
      "          [0., 0., 0.,  ..., 0., 0., 0.],\n",
      "          [0., 0., 0.,  ..., 0., 0., 0.]]],\n",
      "\n",
      "\n",
      "        ...,\n",
      "\n",
      "\n",
      "        [[[0., 0., 0.,  ..., 0., 0., 0.],\n",
      "          [0., 0., 0.,  ..., 0., 0., 0.],\n",
      "          [0., 0., 0.,  ..., 0., 0., 0.],\n",
      "          ...,\n",
      "          [0., 0., 0.,  ..., 0., 0., 0.],\n",
      "          [0., 0., 0.,  ..., 0., 0., 0.],\n",
      "          [0., 0., 0.,  ..., 0., 0., 0.]]],\n",
      "\n",
      "\n",
      "        [[[0., 0., 0.,  ..., 0., 0., 0.],\n",
      "          [0., 0., 0.,  ..., 0., 0., 0.],\n",
      "          [0., 0., 0.,  ..., 0., 0., 0.],\n",
      "          ...,\n",
      "          [0., 0., 0.,  ..., 0., 0., 0.],\n",
      "          [0., 0., 0.,  ..., 0., 0., 0.],\n",
      "          [0., 0., 0.,  ..., 0., 0., 0.]]],\n",
      "\n",
      "\n",
      "        [[[0., 0., 0.,  ..., 0., 0., 0.],\n",
      "          [0., 0., 0.,  ..., 0., 0., 0.],\n",
      "          [0., 0., 0.,  ..., 0., 0., 0.],\n",
      "          ...,\n",
      "          [0., 0., 0.,  ..., 0., 0., 0.],\n",
      "          [0., 0., 0.,  ..., 0., 0., 0.],\n",
      "          [0., 0., 0.,  ..., 0., 0., 0.]]]])\n",
      "torch.FloatTensor\n",
      "torch.Size([100, 1, 24, 24])\n"
     ]
    }
   ],
   "source": [
    "import numpy as np\n",
    "from torch.utils.data import TensorDataset\n",
    "\n",
    "\"\"\"def get_preqnt_dataset(data_dir: str, train: bool):\n",
    "    unsw_nb15_data = np.load(data_dir + \"/unsw_nb15_binarized.npz\")\n",
    "    if train:\n",
    "        partition = \"train\"\n",
    "    else:\n",
    "        partition = \"test\"\n",
    "    part_data = unsw_nb15_data[partition].astype(np.float32)\n",
    "    part_data = torch.from_numpy(part_data)\n",
    "    part_data_in = part_data[:, :-1]\n",
    "    part_data_out = part_data[:, -1]\n",
    "    return TensorDataset(part_data_in, part_data_out)\"\"\"\n",
    "\n",
    "n_verification_inputs = 100\n",
    "dataloader_iterator = iter(test_quantized_loader)\n",
    "input_tensor, labels = next(dataloader_iterator) #get_preqnt_dataset(\".\", False)\n",
    "print(input_tensor)\n",
    "print(input_tensor.type())\n",
    "print(input_tensor.shape)\n"
   ]
  },
  {
   "cell_type": "markdown",
   "id": "70430f19",
   "metadata": {},
   "source": [
    "Let's also bring up the MLP we trained in Brevitas from the previous notebook. We'll compare its outputs to what is generated by FINN."
   ]
  },
  {
   "cell_type": "code",
   "execution_count": 34,
   "id": "cc775be9",
   "metadata": {},
   "outputs": [
    {
     "data": {
      "text/plain": [
       "<All keys matched successfully>"
      ]
     },
     "execution_count": 34,
     "metadata": {},
     "output_type": "execute_result"
    }
   ],
   "source": [
    "from brevitas.nn import QuantLinear, QuantReLU\n",
    "import torch.nn as nn\n",
    "\n",
    "\n",
    "brevitas_model = LowPrecisionLeNet()\n",
    "\n",
    "\n",
    "# replace this with your trained network checkpoint if you're not\n",
    "# using the pretrained weights\n",
    "#trained_state_dict = torch.load(\"state_dict.pth\")[\"models_state_dict\"][0]\n",
    "# Uncomment the following line if you previously chose to train the network yourself\n",
    "trained_state_dict = torch.load(\"state_dict_self-trained.pth\")\n",
    "\n",
    "brevitas_model.load_state_dict(trained_state_dict, strict=False)"
   ]
  },
  {
   "cell_type": "code",
   "execution_count": 35,
   "id": "c5f86e06",
   "metadata": {},
   "outputs": [],
   "source": [
    "def inference_with_brevitas(current_inp):\n",
    "    brevitas_output = brevitas_model.forward(current_inp)\n",
    "    \"\"\"# apply sigmoid + threshold\n",
    "    brevitas_output = torch.sigmoid(brevitas_output)\n",
    "    brevitas_output = (brevitas_output.detach().numpy() > 0.5) * 1\n",
    "    # convert output to bipolar\n",
    "    brevitas_output = 2*brevitas_output - 1\"\"\"\n",
    "    return brevitas_output"
   ]
  },
  {
   "cell_type": "markdown",
   "id": "ca399fbe",
   "metadata": {},
   "source": [
    "# 4. Compare FINN & Brevitas execution <a id=\"compare_brevitas\"></a>"
   ]
  },
  {
   "cell_type": "markdown",
   "id": "1bc99247",
   "metadata": {},
   "source": [
    "Let's make helper functions to execute the same input with Brevitas and FINN. For FINN, we'll use the [`finn.core.onnx_exec`](https://finn.readthedocs.io/en/latest/source_code/finn.core.html#finn.core.onnx_exec.execute_onnx) function to execute the exported FINN-ONNX on the inputs. Note that this ONNX execution is for verification only; not for accelerated execution.\n",
    "\n",
    "Recall that the quantized values from the dataset are 593-bit binary {0, 1} vectors whereas our exported model takes 600-bit bipolar {-1, +1} vectors, so we'll have to preprocess it a bit before we can use it for verifying the ONNX model."
   ]
  },
  {
   "cell_type": "code",
   "execution_count": 36,
   "id": "204e605c",
   "metadata": {},
   "outputs": [],
   "source": [
    "import finn.core.onnx_exec as oxe\n",
    "\n",
    "def inference_with_finn_onnx(current_inp):\n",
    "    finnonnx_in_tensor_name = model_for_sim.graph.input[0].name\n",
    "    finnonnx_model_in_shape = model_for_sim.get_tensor_shape(finnonnx_in_tensor_name)\n",
    "    finnonnx_out_tensor_name = model_for_sim.graph.output[0].name\n",
    "    # convert input to numpy for FINN\n",
    "    current_inp = current_inp.detach().numpy()\n",
    "    # add padding and re-scale to bipolar\n",
    "    current_inp = np.asarray(current_inp)\n",
    "    #current_inp = 2*current_inp-1\n",
    "    # reshape to expected input (add 1 for batch dimension)\n",
    "    current_inp = current_inp.reshape(finnonnx_model_in_shape)\n",
    "    # create the input dictionary\n",
    "    input_dict = {finnonnx_in_tensor_name : current_inp} \n",
    "    # run with FINN's execute_onnx\n",
    "    output_dict = oxe.execute_onnx(model_for_sim, input_dict)\n",
    "    #get the output tensor\n",
    "    finn_output = output_dict[finnonnx_out_tensor_name] \n",
    "    return finn_output"
   ]
  },
  {
   "cell_type": "markdown",
   "id": "48520c33",
   "metadata": {},
   "source": [
    "Now we can call our inference helper functions for each input and compare the outputs."
   ]
  },
  {
   "cell_type": "code",
   "execution_count": 37,
   "id": "e3530a50",
   "metadata": {},
   "outputs": [
    {
     "name": "stderr",
     "output_type": "stream",
     "text": [
      "FINN execution:   0%|          | 0/100 [00:00<?, ?it/s]/workspace/finn-base/src/finn/util/basic.py:385: UserWarning: The values of tensor MultiThreshold_0_out0 can't be represented with the set FINN datatype (INT4), they will be rounded to match the FINN datatype.\n",
      "  warnings.warn(\n"
     ]
    },
    {
     "name": "stdout",
     "output_type": "stream",
     "text": [
      "Brevitas:  3\n"
     ]
    },
    {
     "name": "stderr",
     "output_type": "stream",
     "text": [
      "ok 1 nok 0:   1%|          | 1/100 [00:00<00:21,  4.68it/s]"
     ]
    },
    {
     "name": "stdout",
     "output_type": "stream",
     "text": [
      "FINN:  3\n",
      "Brevitas:  8\n"
     ]
    },
    {
     "name": "stderr",
     "output_type": "stream",
     "text": [
      "ok 2 nok 0:   2%|▏         | 2/100 [00:00<00:20,  4.69it/s]"
     ]
    },
    {
     "name": "stdout",
     "output_type": "stream",
     "text": [
      "FINN:  8\n",
      "Brevitas:  1\n"
     ]
    },
    {
     "name": "stderr",
     "output_type": "stream",
     "text": [
      "ok 3 nok 0:   3%|▎         | 3/100 [00:00<00:20,  4.72it/s]"
     ]
    },
    {
     "name": "stdout",
     "output_type": "stream",
     "text": [
      "FINN:  1\n",
      "Brevitas:  8\n"
     ]
    },
    {
     "name": "stderr",
     "output_type": "stream",
     "text": [
      "ok 4 nok 0:   4%|▍         | 4/100 [00:00<00:20,  4.73it/s]"
     ]
    },
    {
     "name": "stdout",
     "output_type": "stream",
     "text": [
      "FINN:  8\n",
      "Brevitas:  2\n"
     ]
    },
    {
     "name": "stderr",
     "output_type": "stream",
     "text": [
      "ok 5 nok 0:   5%|▌         | 5/100 [00:01<00:20,  4.71it/s]"
     ]
    },
    {
     "name": "stdout",
     "output_type": "stream",
     "text": [
      "FINN:  2\n",
      "Brevitas:  2\n"
     ]
    },
    {
     "name": "stderr",
     "output_type": "stream",
     "text": [
      "ok 6 nok 0:   6%|▌         | 6/100 [00:01<00:19,  4.72it/s]"
     ]
    },
    {
     "name": "stdout",
     "output_type": "stream",
     "text": [
      "FINN:  2\n",
      "Brevitas:  5\n"
     ]
    },
    {
     "name": "stderr",
     "output_type": "stream",
     "text": [
      "ok 7 nok 0:   7%|▋         | 7/100 [00:01<00:19,  4.72it/s]"
     ]
    },
    {
     "name": "stdout",
     "output_type": "stream",
     "text": [
      "FINN:  5\n",
      "Brevitas:  4\n"
     ]
    },
    {
     "name": "stderr",
     "output_type": "stream",
     "text": [
      "ok 8 nok 0:   8%|▊         | 8/100 [00:01<00:19,  4.68it/s]"
     ]
    },
    {
     "name": "stdout",
     "output_type": "stream",
     "text": [
      "FINN:  4\n",
      "Brevitas:  2\n"
     ]
    },
    {
     "name": "stderr",
     "output_type": "stream",
     "text": [
      "ok 9 nok 0:   9%|▉         | 9/100 [00:01<00:20,  4.54it/s]"
     ]
    },
    {
     "name": "stdout",
     "output_type": "stream",
     "text": [
      "FINN:  2\n",
      "Brevitas:  7\n"
     ]
    },
    {
     "name": "stderr",
     "output_type": "stream",
     "text": [
      "ok 10 nok 0:  10%|█         | 10/100 [00:02<00:19,  4.62it/s]"
     ]
    },
    {
     "name": "stdout",
     "output_type": "stream",
     "text": [
      "FINN:  7\n",
      "Brevitas:  4\n"
     ]
    },
    {
     "name": "stderr",
     "output_type": "stream",
     "text": [
      "ok 11 nok 0:  11%|█         | 11/100 [00:02<00:19,  4.64it/s]"
     ]
    },
    {
     "name": "stdout",
     "output_type": "stream",
     "text": [
      "FINN:  4\n",
      "Brevitas:  5\n"
     ]
    },
    {
     "name": "stderr",
     "output_type": "stream",
     "text": [
      "ok 12 nok 0:  12%|█▏        | 12/100 [00:02<00:18,  4.67it/s]"
     ]
    },
    {
     "name": "stdout",
     "output_type": "stream",
     "text": [
      "FINN:  5\n",
      "Brevitas:  3\n"
     ]
    },
    {
     "name": "stderr",
     "output_type": "stream",
     "text": [
      "ok 13 nok 0:  13%|█▎        | 13/100 [00:02<00:18,  4.68it/s]"
     ]
    },
    {
     "name": "stdout",
     "output_type": "stream",
     "text": [
      "FINN:  3\n",
      "Brevitas:  1\n"
     ]
    },
    {
     "name": "stderr",
     "output_type": "stream",
     "text": [
      "ok 14 nok 0:  14%|█▍        | 14/100 [00:02<00:18,  4.70it/s]"
     ]
    },
    {
     "name": "stdout",
     "output_type": "stream",
     "text": [
      "FINN:  1\n",
      "Brevitas:  0\n"
     ]
    },
    {
     "name": "stderr",
     "output_type": "stream",
     "text": [
      "ok 15 nok 0:  15%|█▌        | 15/100 [00:03<00:18,  4.70it/s]"
     ]
    },
    {
     "name": "stdout",
     "output_type": "stream",
     "text": [
      "FINN:  0\n",
      "Brevitas:  4\n"
     ]
    },
    {
     "name": "stderr",
     "output_type": "stream",
     "text": [
      "ok 16 nok 0:  16%|█▌        | 16/100 [00:03<00:17,  4.70it/s]"
     ]
    },
    {
     "name": "stdout",
     "output_type": "stream",
     "text": [
      "FINN:  4\n",
      "Brevitas:  1\n"
     ]
    },
    {
     "name": "stderr",
     "output_type": "stream",
     "text": [
      "ok 17 nok 0:  17%|█▋        | 17/100 [00:03<00:17,  4.74it/s]"
     ]
    },
    {
     "name": "stdout",
     "output_type": "stream",
     "text": [
      "FINN:  1\n",
      "Brevitas:  4\n"
     ]
    },
    {
     "name": "stderr",
     "output_type": "stream",
     "text": [
      "ok 18 nok 0:  18%|█▊        | 18/100 [00:03<00:17,  4.76it/s]"
     ]
    },
    {
     "name": "stdout",
     "output_type": "stream",
     "text": [
      "FINN:  4\n",
      "Brevitas:  3\n"
     ]
    },
    {
     "name": "stderr",
     "output_type": "stream",
     "text": [
      "ok 19 nok 0:  19%|█▉        | 19/100 [00:04<00:16,  4.77it/s]"
     ]
    },
    {
     "name": "stdout",
     "output_type": "stream",
     "text": [
      "FINN:  3\n",
      "Brevitas:  6\n"
     ]
    },
    {
     "name": "stderr",
     "output_type": "stream",
     "text": [
      "ok 20 nok 0:  20%|██        | 20/100 [00:04<00:16,  4.79it/s]"
     ]
    },
    {
     "name": "stdout",
     "output_type": "stream",
     "text": [
      "FINN:  6\n",
      "Brevitas:  7\n"
     ]
    },
    {
     "name": "stderr",
     "output_type": "stream",
     "text": [
      "ok 21 nok 0:  21%|██        | 21/100 [00:04<00:16,  4.79it/s]"
     ]
    },
    {
     "name": "stdout",
     "output_type": "stream",
     "text": [
      "FINN:  7\n",
      "Brevitas:  2\n"
     ]
    },
    {
     "name": "stderr",
     "output_type": "stream",
     "text": [
      "ok 22 nok 0:  22%|██▏       | 22/100 [00:04<00:16,  4.80it/s]"
     ]
    },
    {
     "name": "stdout",
     "output_type": "stream",
     "text": [
      "FINN:  2\n",
      "Brevitas:  8\n"
     ]
    },
    {
     "name": "stderr",
     "output_type": "stream",
     "text": [
      "ok 23 nok 0:  23%|██▎       | 23/100 [00:04<00:15,  4.83it/s]"
     ]
    },
    {
     "name": "stdout",
     "output_type": "stream",
     "text": [
      "FINN:  8\n",
      "Brevitas:  2\n"
     ]
    },
    {
     "name": "stderr",
     "output_type": "stream",
     "text": [
      "ok 24 nok 0:  24%|██▍       | 24/100 [00:05<00:15,  4.84it/s]"
     ]
    },
    {
     "name": "stdout",
     "output_type": "stream",
     "text": [
      "FINN:  2\n",
      "Brevitas:  9\n"
     ]
    },
    {
     "name": "stderr",
     "output_type": "stream",
     "text": [
      "ok 25 nok 0:  25%|██▌       | 25/100 [00:05<00:15,  4.83it/s]"
     ]
    },
    {
     "name": "stdout",
     "output_type": "stream",
     "text": [
      "FINN:  9\n",
      "Brevitas:  8\n"
     ]
    },
    {
     "name": "stderr",
     "output_type": "stream",
     "text": [
      "ok 26 nok 0:  26%|██▌       | 26/100 [00:05<00:15,  4.78it/s]"
     ]
    },
    {
     "name": "stdout",
     "output_type": "stream",
     "text": [
      "FINN:  8\n",
      "Brevitas:  6\n"
     ]
    },
    {
     "name": "stderr",
     "output_type": "stream",
     "text": [
      "ok 27 nok 0:  27%|██▋       | 27/100 [00:05<00:15,  4.78it/s]"
     ]
    },
    {
     "name": "stdout",
     "output_type": "stream",
     "text": [
      "FINN:  6\n",
      "Brevitas:  6\n"
     ]
    },
    {
     "name": "stderr",
     "output_type": "stream",
     "text": [
      "ok 28 nok 0:  28%|██▊       | 28/100 [00:05<00:15,  4.78it/s]"
     ]
    },
    {
     "name": "stdout",
     "output_type": "stream",
     "text": [
      "FINN:  6\n",
      "Brevitas:  2\n"
     ]
    },
    {
     "name": "stderr",
     "output_type": "stream",
     "text": [
      "ok 29 nok 0:  29%|██▉       | 29/100 [00:06<00:14,  4.78it/s]"
     ]
    },
    {
     "name": "stdout",
     "output_type": "stream",
     "text": [
      "FINN:  2\n",
      "Brevitas:  1\n"
     ]
    },
    {
     "name": "stderr",
     "output_type": "stream",
     "text": [
      "ok 30 nok 0:  30%|███       | 30/100 [00:06<00:14,  4.78it/s]"
     ]
    },
    {
     "name": "stdout",
     "output_type": "stream",
     "text": [
      "FINN:  1\n",
      "Brevitas:  8\n"
     ]
    },
    {
     "name": "stderr",
     "output_type": "stream",
     "text": [
      "ok 31 nok 0:  31%|███       | 31/100 [00:06<00:14,  4.79it/s]"
     ]
    },
    {
     "name": "stdout",
     "output_type": "stream",
     "text": [
      "FINN:  8\n",
      "Brevitas:  0\n"
     ]
    },
    {
     "name": "stderr",
     "output_type": "stream",
     "text": [
      "ok 32 nok 0:  32%|███▏      | 32/100 [00:06<00:14,  4.79it/s]"
     ]
    },
    {
     "name": "stdout",
     "output_type": "stream",
     "text": [
      "FINN:  0\n",
      "Brevitas:  6\n"
     ]
    },
    {
     "name": "stderr",
     "output_type": "stream",
     "text": [
      "ok 33 nok 0:  33%|███▎      | 33/100 [00:06<00:13,  4.80it/s]"
     ]
    },
    {
     "name": "stdout",
     "output_type": "stream",
     "text": [
      "FINN:  6\n",
      "Brevitas:  1\n"
     ]
    },
    {
     "name": "stderr",
     "output_type": "stream",
     "text": [
      "ok 34 nok 0:  34%|███▍      | 34/100 [00:07<00:13,  4.82it/s]"
     ]
    },
    {
     "name": "stdout",
     "output_type": "stream",
     "text": [
      "FINN:  1\n",
      "Brevitas:  6\n"
     ]
    },
    {
     "name": "stderr",
     "output_type": "stream",
     "text": [
      "ok 35 nok 0:  35%|███▌      | 35/100 [00:07<00:13,  4.81it/s]"
     ]
    },
    {
     "name": "stdout",
     "output_type": "stream",
     "text": [
      "FINN:  6\n",
      "Brevitas:  3\n"
     ]
    },
    {
     "name": "stderr",
     "output_type": "stream",
     "text": [
      "ok 36 nok 0:  36%|███▌      | 36/100 [00:07<00:13,  4.78it/s]"
     ]
    },
    {
     "name": "stdout",
     "output_type": "stream",
     "text": [
      "FINN:  3\n",
      "Brevitas:  1\n"
     ]
    },
    {
     "name": "stderr",
     "output_type": "stream",
     "text": [
      "ok 37 nok 0:  37%|███▋      | 37/100 [00:07<00:13,  4.81it/s]"
     ]
    },
    {
     "name": "stdout",
     "output_type": "stream",
     "text": [
      "FINN:  1\n",
      "Brevitas:  4\n"
     ]
    },
    {
     "name": "stderr",
     "output_type": "stream",
     "text": [
      "ok 38 nok 0:  38%|███▊      | 38/100 [00:07<00:12,  4.82it/s]"
     ]
    },
    {
     "name": "stdout",
     "output_type": "stream",
     "text": [
      "FINN:  4\n",
      "Brevitas:  8\n"
     ]
    },
    {
     "name": "stderr",
     "output_type": "stream",
     "text": [
      "ok 39 nok 0:  39%|███▉      | 39/100 [00:08<00:12,  4.81it/s]"
     ]
    },
    {
     "name": "stdout",
     "output_type": "stream",
     "text": [
      "FINN:  8\n",
      "Brevitas:  4\n"
     ]
    },
    {
     "name": "stderr",
     "output_type": "stream",
     "text": [
      "ok 40 nok 0:  40%|████      | 40/100 [00:08<00:12,  4.80it/s]"
     ]
    },
    {
     "name": "stdout",
     "output_type": "stream",
     "text": [
      "FINN:  4\n",
      "Brevitas:  2\n"
     ]
    },
    {
     "name": "stderr",
     "output_type": "stream",
     "text": [
      "ok 41 nok 0:  41%|████      | 41/100 [00:08<00:12,  4.80it/s]"
     ]
    },
    {
     "name": "stdout",
     "output_type": "stream",
     "text": [
      "FINN:  2\n",
      "Brevitas:  5\n"
     ]
    },
    {
     "name": "stderr",
     "output_type": "stream",
     "text": [
      "ok 42 nok 0:  42%|████▏     | 42/100 [00:08<00:12,  4.79it/s]"
     ]
    },
    {
     "name": "stdout",
     "output_type": "stream",
     "text": [
      "FINN:  5\n",
      "Brevitas:  4\n"
     ]
    },
    {
     "name": "stderr",
     "output_type": "stream",
     "text": [
      "ok 43 nok 0:  43%|████▎     | 43/100 [00:09<00:11,  4.79it/s]"
     ]
    },
    {
     "name": "stdout",
     "output_type": "stream",
     "text": [
      "FINN:  4\n",
      "Brevitas:  9\n"
     ]
    },
    {
     "name": "stderr",
     "output_type": "stream",
     "text": [
      "ok 44 nok 0:  44%|████▍     | 44/100 [00:09<00:11,  4.78it/s]"
     ]
    },
    {
     "name": "stdout",
     "output_type": "stream",
     "text": [
      "FINN:  9\n",
      "Brevitas:  4\n"
     ]
    },
    {
     "name": "stderr",
     "output_type": "stream",
     "text": [
      "ok 45 nok 0:  45%|████▌     | 45/100 [00:09<00:11,  4.77it/s]"
     ]
    },
    {
     "name": "stdout",
     "output_type": "stream",
     "text": [
      "FINN:  4\n",
      "Brevitas:  7\n"
     ]
    },
    {
     "name": "stderr",
     "output_type": "stream",
     "text": [
      "ok 46 nok 0:  46%|████▌     | 46/100 [00:09<00:11,  4.76it/s]"
     ]
    },
    {
     "name": "stdout",
     "output_type": "stream",
     "text": [
      "FINN:  7\n",
      "Brevitas:  0\n"
     ]
    },
    {
     "name": "stderr",
     "output_type": "stream",
     "text": [
      "ok 47 nok 0:  47%|████▋     | 47/100 [00:09<00:11,  4.75it/s]"
     ]
    },
    {
     "name": "stdout",
     "output_type": "stream",
     "text": [
      "FINN:  0\n",
      "Brevitas:  5\n"
     ]
    },
    {
     "name": "stderr",
     "output_type": "stream",
     "text": [
      "ok 48 nok 0:  48%|████▊     | 48/100 [00:10<00:10,  4.75it/s]"
     ]
    },
    {
     "name": "stdout",
     "output_type": "stream",
     "text": [
      "FINN:  5\n",
      "Brevitas:  4\n"
     ]
    },
    {
     "name": "stderr",
     "output_type": "stream",
     "text": [
      "ok 49 nok 0:  49%|████▉     | 49/100 [00:10<00:10,  4.75it/s]"
     ]
    },
    {
     "name": "stdout",
     "output_type": "stream",
     "text": [
      "FINN:  4\n",
      "Brevitas:  9\n"
     ]
    },
    {
     "name": "stderr",
     "output_type": "stream",
     "text": [
      "ok 50 nok 0:  50%|█████     | 50/100 [00:10<00:10,  4.76it/s]"
     ]
    },
    {
     "name": "stdout",
     "output_type": "stream",
     "text": [
      "FINN:  9\n",
      "Brevitas:  5\n"
     ]
    },
    {
     "name": "stderr",
     "output_type": "stream",
     "text": [
      "ok 51 nok 0:  51%|█████     | 51/100 [00:10<00:10,  4.76it/s]"
     ]
    },
    {
     "name": "stdout",
     "output_type": "stream",
     "text": [
      "FINN:  5\n",
      "Brevitas:  1\n"
     ]
    },
    {
     "name": "stderr",
     "output_type": "stream",
     "text": [
      "ok 52 nok 0:  52%|█████▏    | 52/100 [00:10<00:10,  4.75it/s]"
     ]
    },
    {
     "name": "stdout",
     "output_type": "stream",
     "text": [
      "FINN:  1\n",
      "Brevitas:  5\n"
     ]
    },
    {
     "name": "stderr",
     "output_type": "stream",
     "text": [
      "ok 53 nok 0:  53%|█████▎    | 53/100 [00:11<00:09,  4.75it/s]"
     ]
    },
    {
     "name": "stdout",
     "output_type": "stream",
     "text": [
      "FINN:  5\n",
      "Brevitas:  6\n"
     ]
    },
    {
     "name": "stderr",
     "output_type": "stream",
     "text": [
      "ok 54 nok 0:  54%|█████▍    | 54/100 [00:11<00:09,  4.77it/s]"
     ]
    },
    {
     "name": "stdout",
     "output_type": "stream",
     "text": [
      "FINN:  6\n",
      "Brevitas:  6\n"
     ]
    },
    {
     "name": "stderr",
     "output_type": "stream",
     "text": [
      "ok 55 nok 0:  55%|█████▌    | 55/100 [00:11<00:09,  4.77it/s]"
     ]
    },
    {
     "name": "stdout",
     "output_type": "stream",
     "text": [
      "FINN:  6\n",
      "Brevitas:  4\n"
     ]
    },
    {
     "name": "stderr",
     "output_type": "stream",
     "text": [
      "ok 56 nok 0:  56%|█████▌    | 56/100 [00:11<00:09,  4.74it/s]"
     ]
    },
    {
     "name": "stdout",
     "output_type": "stream",
     "text": [
      "FINN:  4\n",
      "Brevitas:  2\n"
     ]
    },
    {
     "name": "stderr",
     "output_type": "stream",
     "text": [
      "ok 57 nok 0:  57%|█████▋    | 57/100 [00:11<00:09,  4.77it/s]"
     ]
    },
    {
     "name": "stdout",
     "output_type": "stream",
     "text": [
      "FINN:  2\n",
      "Brevitas:  3\n"
     ]
    },
    {
     "name": "stderr",
     "output_type": "stream",
     "text": [
      "ok 58 nok 0:  58%|█████▊    | 58/100 [00:12<00:08,  4.81it/s]"
     ]
    },
    {
     "name": "stdout",
     "output_type": "stream",
     "text": [
      "FINN:  3\n",
      "Brevitas:  4\n"
     ]
    },
    {
     "name": "stderr",
     "output_type": "stream",
     "text": [
      "ok 59 nok 0:  59%|█████▉    | 59/100 [00:12<00:08,  4.83it/s]"
     ]
    },
    {
     "name": "stdout",
     "output_type": "stream",
     "text": [
      "FINN:  4\n",
      "Brevitas:  4\n"
     ]
    },
    {
     "name": "stderr",
     "output_type": "stream",
     "text": [
      "ok 60 nok 0:  60%|██████    | 60/100 [00:12<00:08,  4.85it/s]"
     ]
    },
    {
     "name": "stdout",
     "output_type": "stream",
     "text": [
      "FINN:  4\n",
      "Brevitas:  7\n"
     ]
    },
    {
     "name": "stderr",
     "output_type": "stream",
     "text": [
      "ok 61 nok 0:  61%|██████    | 61/100 [00:12<00:08,  4.84it/s]"
     ]
    },
    {
     "name": "stdout",
     "output_type": "stream",
     "text": [
      "FINN:  7\n",
      "Brevitas:  7\n"
     ]
    },
    {
     "name": "stderr",
     "output_type": "stream",
     "text": [
      "ok 62 nok 0:  62%|██████▏   | 62/100 [00:13<00:07,  4.83it/s]"
     ]
    },
    {
     "name": "stdout",
     "output_type": "stream",
     "text": [
      "FINN:  7\n",
      "Brevitas:  8\n"
     ]
    },
    {
     "name": "stderr",
     "output_type": "stream",
     "text": [
      "ok 63 nok 0:  63%|██████▎   | 63/100 [00:13<00:07,  4.82it/s]"
     ]
    },
    {
     "name": "stdout",
     "output_type": "stream",
     "text": [
      "FINN:  8\n",
      "Brevitas:  5\n"
     ]
    },
    {
     "name": "stderr",
     "output_type": "stream",
     "text": [
      "ok 64 nok 0:  64%|██████▍   | 64/100 [00:13<00:07,  4.82it/s]"
     ]
    },
    {
     "name": "stdout",
     "output_type": "stream",
     "text": [
      "FINN:  5\n",
      "Brevitas:  1\n"
     ]
    },
    {
     "name": "stderr",
     "output_type": "stream",
     "text": [
      "ok 65 nok 0:  65%|██████▌   | 65/100 [00:13<00:07,  4.81it/s]"
     ]
    },
    {
     "name": "stdout",
     "output_type": "stream",
     "text": [
      "FINN:  1\n",
      "Brevitas:  6\n"
     ]
    },
    {
     "name": "stderr",
     "output_type": "stream",
     "text": [
      "ok 66 nok 0:  66%|██████▌   | 66/100 [00:13<00:07,  4.80it/s]"
     ]
    },
    {
     "name": "stdout",
     "output_type": "stream",
     "text": [
      "FINN:  6\n",
      "Brevitas:  6\n"
     ]
    },
    {
     "name": "stderr",
     "output_type": "stream",
     "text": [
      "ok 67 nok 0:  67%|██████▋   | 67/100 [00:14<00:06,  4.82it/s]"
     ]
    },
    {
     "name": "stdout",
     "output_type": "stream",
     "text": [
      "FINN:  6\n",
      "Brevitas:  1\n"
     ]
    },
    {
     "name": "stderr",
     "output_type": "stream",
     "text": [
      "ok 68 nok 0:  68%|██████▊   | 68/100 [00:14<00:06,  4.82it/s]"
     ]
    },
    {
     "name": "stdout",
     "output_type": "stream",
     "text": [
      "FINN:  1\n",
      "Brevitas:  6\n"
     ]
    },
    {
     "name": "stderr",
     "output_type": "stream",
     "text": [
      "ok 69 nok 0:  69%|██████▉   | 69/100 [00:14<00:06,  4.83it/s]"
     ]
    },
    {
     "name": "stdout",
     "output_type": "stream",
     "text": [
      "FINN:  6\n",
      "Brevitas:  7\n"
     ]
    },
    {
     "name": "stderr",
     "output_type": "stream",
     "text": [
      "ok 70 nok 0:  70%|███████   | 70/100 [00:14<00:06,  4.83it/s]"
     ]
    },
    {
     "name": "stdout",
     "output_type": "stream",
     "text": [
      "FINN:  7\n",
      "Brevitas:  5\n"
     ]
    },
    {
     "name": "stderr",
     "output_type": "stream",
     "text": [
      "ok 71 nok 0:  71%|███████   | 71/100 [00:14<00:05,  4.83it/s]"
     ]
    },
    {
     "name": "stdout",
     "output_type": "stream",
     "text": [
      "FINN:  5\n",
      "Brevitas:  1\n"
     ]
    },
    {
     "name": "stderr",
     "output_type": "stream",
     "text": [
      "ok 72 nok 0:  72%|███████▏  | 72/100 [00:15<00:05,  4.84it/s]"
     ]
    },
    {
     "name": "stdout",
     "output_type": "stream",
     "text": [
      "FINN:  1\n",
      "Brevitas:  0\n"
     ]
    },
    {
     "name": "stderr",
     "output_type": "stream",
     "text": [
      "ok 73 nok 0:  73%|███████▎  | 73/100 [00:15<00:05,  4.84it/s]"
     ]
    },
    {
     "name": "stdout",
     "output_type": "stream",
     "text": [
      "FINN:  0\n",
      "Brevitas:  3\n"
     ]
    },
    {
     "name": "stderr",
     "output_type": "stream",
     "text": [
      "ok 74 nok 0:  74%|███████▍  | 74/100 [00:15<00:05,  4.85it/s]"
     ]
    },
    {
     "name": "stdout",
     "output_type": "stream",
     "text": [
      "FINN:  3\n",
      "Brevitas:  3\n"
     ]
    },
    {
     "name": "stderr",
     "output_type": "stream",
     "text": [
      "ok 75 nok 0:  75%|███████▌  | 75/100 [00:15<00:05,  4.87it/s]"
     ]
    },
    {
     "name": "stdout",
     "output_type": "stream",
     "text": [
      "FINN:  3\n",
      "Brevitas:  0\n"
     ]
    },
    {
     "name": "stderr",
     "output_type": "stream",
     "text": [
      "ok 76 nok 0:  76%|███████▌  | 76/100 [00:15<00:04,  4.87it/s]"
     ]
    },
    {
     "name": "stdout",
     "output_type": "stream",
     "text": [
      "FINN:  0\n",
      "Brevitas:  5\n"
     ]
    },
    {
     "name": "stderr",
     "output_type": "stream",
     "text": [
      "ok 77 nok 0:  77%|███████▋  | 77/100 [00:16<00:04,  4.88it/s]"
     ]
    },
    {
     "name": "stdout",
     "output_type": "stream",
     "text": [
      "FINN:  5\n",
      "Brevitas:  9\n"
     ]
    },
    {
     "name": "stderr",
     "output_type": "stream",
     "text": [
      "ok 78 nok 0:  78%|███████▊  | 78/100 [00:16<00:04,  4.88it/s]"
     ]
    },
    {
     "name": "stdout",
     "output_type": "stream",
     "text": [
      "FINN:  9\n",
      "Brevitas:  3\n"
     ]
    },
    {
     "name": "stderr",
     "output_type": "stream",
     "text": [
      "ok 79 nok 0:  79%|███████▉  | 79/100 [00:16<00:04,  4.89it/s]"
     ]
    },
    {
     "name": "stdout",
     "output_type": "stream",
     "text": [
      "FINN:  3\n",
      "Brevitas:  3\n"
     ]
    },
    {
     "name": "stderr",
     "output_type": "stream",
     "text": [
      "ok 80 nok 0:  80%|████████  | 80/100 [00:16<00:04,  4.89it/s]"
     ]
    },
    {
     "name": "stdout",
     "output_type": "stream",
     "text": [
      "FINN:  3\n",
      "Brevitas:  9\n"
     ]
    },
    {
     "name": "stderr",
     "output_type": "stream",
     "text": [
      "ok 81 nok 0:  81%|████████  | 81/100 [00:16<00:03,  4.88it/s]"
     ]
    },
    {
     "name": "stdout",
     "output_type": "stream",
     "text": [
      "FINN:  9\n",
      "Brevitas:  4\n"
     ]
    },
    {
     "name": "stderr",
     "output_type": "stream",
     "text": [
      "ok 82 nok 0:  82%|████████▏ | 82/100 [00:17<00:03,  4.88it/s]"
     ]
    },
    {
     "name": "stdout",
     "output_type": "stream",
     "text": [
      "FINN:  4\n",
      "Brevitas:  1\n"
     ]
    },
    {
     "name": "stderr",
     "output_type": "stream",
     "text": [
      "ok 83 nok 0:  83%|████████▎ | 83/100 [00:17<00:03,  4.87it/s]"
     ]
    },
    {
     "name": "stdout",
     "output_type": "stream",
     "text": [
      "FINN:  1\n",
      "Brevitas:  3\n"
     ]
    },
    {
     "name": "stderr",
     "output_type": "stream",
     "text": [
      "ok 84 nok 0:  84%|████████▍ | 84/100 [00:17<00:03,  4.87it/s]"
     ]
    },
    {
     "name": "stdout",
     "output_type": "stream",
     "text": [
      "FINN:  3\n",
      "Brevitas:  9\n"
     ]
    },
    {
     "name": "stderr",
     "output_type": "stream",
     "text": [
      "ok 85 nok 0:  85%|████████▌ | 85/100 [00:17<00:03,  4.85it/s]"
     ]
    },
    {
     "name": "stdout",
     "output_type": "stream",
     "text": [
      "FINN:  9\n",
      "Brevitas:  5\n"
     ]
    },
    {
     "name": "stderr",
     "output_type": "stream",
     "text": [
      "ok 86 nok 0:  86%|████████▌ | 86/100 [00:17<00:02,  4.85it/s]"
     ]
    },
    {
     "name": "stdout",
     "output_type": "stream",
     "text": [
      "FINN:  5\n",
      "Brevitas:  1\n"
     ]
    },
    {
     "name": "stderr",
     "output_type": "stream",
     "text": [
      "ok 87 nok 0:  87%|████████▋ | 87/100 [00:18<00:02,  4.86it/s]"
     ]
    },
    {
     "name": "stdout",
     "output_type": "stream",
     "text": [
      "FINN:  1\n",
      "Brevitas:  1\n"
     ]
    },
    {
     "name": "stderr",
     "output_type": "stream",
     "text": [
      "ok 88 nok 0:  88%|████████▊ | 88/100 [00:18<00:02,  4.83it/s]"
     ]
    },
    {
     "name": "stdout",
     "output_type": "stream",
     "text": [
      "FINN:  1\n",
      "Brevitas:  5\n"
     ]
    },
    {
     "name": "stderr",
     "output_type": "stream",
     "text": [
      "ok 89 nok 0:  89%|████████▉ | 89/100 [00:18<00:02,  4.85it/s]"
     ]
    },
    {
     "name": "stdout",
     "output_type": "stream",
     "text": [
      "FINN:  5\n",
      "Brevitas:  6\n"
     ]
    },
    {
     "name": "stderr",
     "output_type": "stream",
     "text": [
      "ok 90 nok 0:  90%|█████████ | 90/100 [00:18<00:02,  4.85it/s]"
     ]
    },
    {
     "name": "stdout",
     "output_type": "stream",
     "text": [
      "FINN:  6\n",
      "Brevitas:  4\n"
     ]
    },
    {
     "name": "stderr",
     "output_type": "stream",
     "text": [
      "ok 91 nok 0:  91%|█████████ | 91/100 [00:18<00:01,  4.86it/s]"
     ]
    },
    {
     "name": "stdout",
     "output_type": "stream",
     "text": [
      "FINN:  4\n",
      "Brevitas:  2\n"
     ]
    },
    {
     "name": "stderr",
     "output_type": "stream",
     "text": [
      "ok 92 nok 0:  92%|█████████▏| 92/100 [00:19<00:01,  4.87it/s]"
     ]
    },
    {
     "name": "stdout",
     "output_type": "stream",
     "text": [
      "FINN:  2\n",
      "Brevitas:  9\n"
     ]
    },
    {
     "name": "stderr",
     "output_type": "stream",
     "text": [
      "ok 93 nok 0:  93%|█████████▎| 93/100 [00:19<00:01,  4.85it/s]"
     ]
    },
    {
     "name": "stdout",
     "output_type": "stream",
     "text": [
      "FINN:  9\n",
      "Brevitas:  5\n"
     ]
    },
    {
     "name": "stderr",
     "output_type": "stream",
     "text": [
      "ok 94 nok 0:  94%|█████████▍| 94/100 [00:19<00:01,  4.84it/s]"
     ]
    },
    {
     "name": "stdout",
     "output_type": "stream",
     "text": [
      "FINN:  5\n",
      "Brevitas:  8\n"
     ]
    },
    {
     "name": "stderr",
     "output_type": "stream",
     "text": [
      "ok 95 nok 0:  95%|█████████▌| 95/100 [00:19<00:01,  4.85it/s]"
     ]
    },
    {
     "name": "stdout",
     "output_type": "stream",
     "text": [
      "FINN:  8\n",
      "Brevitas:  6\n"
     ]
    },
    {
     "name": "stderr",
     "output_type": "stream",
     "text": [
      "ok 96 nok 0:  96%|█████████▌| 96/100 [00:20<00:00,  4.86it/s]"
     ]
    },
    {
     "name": "stdout",
     "output_type": "stream",
     "text": [
      "FINN:  6\n",
      "Brevitas:  4\n"
     ]
    },
    {
     "name": "stderr",
     "output_type": "stream",
     "text": [
      "ok 97 nok 0:  97%|█████████▋| 97/100 [00:20<00:00,  4.87it/s]"
     ]
    },
    {
     "name": "stdout",
     "output_type": "stream",
     "text": [
      "FINN:  4\n",
      "Brevitas:  7\n"
     ]
    },
    {
     "name": "stderr",
     "output_type": "stream",
     "text": [
      "ok 98 nok 0:  98%|█████████▊| 98/100 [00:20<00:00,  4.88it/s]"
     ]
    },
    {
     "name": "stdout",
     "output_type": "stream",
     "text": [
      "FINN:  7\n",
      "Brevitas:  9\n"
     ]
    },
    {
     "name": "stderr",
     "output_type": "stream",
     "text": [
      "ok 99 nok 0:  99%|█████████▉| 99/100 [00:20<00:00,  4.88it/s]"
     ]
    },
    {
     "name": "stdout",
     "output_type": "stream",
     "text": [
      "FINN:  9\n",
      "Brevitas:  1\n"
     ]
    },
    {
     "name": "stderr",
     "output_type": "stream",
     "text": [
      "ok 100 nok 0: 100%|██████████| 100/100 [00:20<00:00,  4.87it/s]"
     ]
    },
    {
     "name": "stdout",
     "output_type": "stream",
     "text": [
      "FINN:  1\n"
     ]
    },
    {
     "name": "stderr",
     "output_type": "stream",
     "text": [
      "\n"
     ]
    }
   ],
   "source": [
    "import numpy as np\n",
    "from tqdm import trange\n",
    "\n",
    "verify_range = trange(n_verification_inputs, desc=\"FINN execution\", position=0, leave=True)\n",
    "brevitas_model.eval()\n",
    "\n",
    "ok = 0\n",
    "nok = 0\n",
    "\n",
    "for i in verify_range:\n",
    "    # run in Brevitas with PyTorch tensor\n",
    "    current_inp = torch.unsqueeze(input_tensor[i],1)\n",
    "    brevitas_output = inference_with_brevitas(current_inp)\n",
    "    brevitas_output = np.argmax(np.asarray(brevitas_output.tolist()[0]))\n",
    "    print(\"Brevitas: \", brevitas_output)\n",
    "    finn_output = inference_with_finn_onnx(current_inp)\n",
    "    finn_output = np.argmax(finn_output[0])\n",
    "    print(\"FINN: \", finn_output)\n",
    "    # compare the outputs\n",
    "    ok += 1 if finn_output == brevitas_output else 0\n",
    "    nok += 1 if finn_output != brevitas_output else 0\n",
    "    verify_range.set_description(\"ok %d nok %d\" % (ok, nok))\n",
    "    verify_range.refresh()"
   ]
  },
  {
   "cell_type": "code",
   "execution_count": 38,
   "id": "8f8a7ba6",
   "metadata": {},
   "outputs": [
    {
     "name": "stdout",
     "output_type": "stream",
     "text": [
      "Verification succeeded. Brevitas and FINN-ONNX execution outputs are identical\n"
     ]
    }
   ],
   "source": [
    "if ok == n_verification_inputs:\n",
    "    print(\"Verification succeeded. Brevitas and FINN-ONNX execution outputs are identical\")\n",
    "else:\n",
    "    print(\"Verification failed. Brevitas and FINN-ONNX execution outputs are NOT identical\")"
   ]
  },
  {
   "cell_type": "markdown",
   "id": "51e07542",
   "metadata": {},
   "source": [
    "This concludes our second notebook. In the next one, we'll take the ONNX model we just verified all the way down to FPGA hardware with the FINN compiler."
   ]
  },
  {
   "cell_type": "markdown",
   "id": "db68ea61",
   "metadata": {},
   "source": [
    "# Building the Streaming Dataflow Accelerator\n",
    "\n",
    "<font color=\"red\">**Live FINN tutorial:** We recommend clicking **Cell -> Run All** when you start reading this notebook for \"latency hiding\".</font>\n",
    "\n",
    "**Important: This notebook depends on the 1-train-mlp-with-brevitas notebook because we are using models that were created by that notebook. So please make sure the needed .onnx files are generated prior to running this notebook.**\n",
    "\n",
    "<img align=\"left\" src=\"finn-example.png\" alt=\"drawing\" style=\"margin-right: 20px\" width=\"250\"/>\n",
    "\n",
    "In this notebook, we'll use the FINN compiler generate an FPGA accelerator with a streaming dataflow architecture from our quantized MLP for the cybersecurity task. The key idea in such architectures is to parallelize across layers as well as within layers by dedicating a proportionate amount of compute resources to each layer, illustrated on the figure to the left. You can read more about the general concept in the [FINN](https://arxiv.org/pdf/1612.07119) and [FINN-R](https://dl.acm.org/doi/pdf/10.1145/3242897) papers. This is done by mapping each layer to a Vivado HLS description, parallelizing each layer's implementation to the appropriate degree and using on-chip FIFOs to link up the layers to create the full accelerator.\n",
    "\n",
    "These implementations offer a good balance of performance and flexibility, but building them by hand is difficult and time-consuming. This is where the FINN compiler comes in: it can build streaming dataflow accelerators from an ONNX description to match the desired throughput."
   ]
  },
  {
   "cell_type": "markdown",
   "id": "1b0c12bc",
   "metadata": {},
   "source": [
    "## Outline\n",
    "-------------\n",
    "\n",
    "1. [Introduction to  `build_dataflow` Tool](#intro_build_dataflow) \n",
    "2. [Understanding the Build Configuration: `DataflowBuildConfig`](#underst_build_conf)     \n",
    "    2.1.[Output Products](#output_prod)   \n",
    "    2.2.[Configuring the Board and FPGA Part](#config_fpga)   \n",
    "    2.3 [Configuring the Performance](#config_perf)    \n",
    "4. [Launch a Build: Only Estimate Reports](#build_estimate_report)\n",
    "5. [Launch a Build: Stitched IP, out-of-context synth and rtlsim Performance](#build_ip_synth_rtlsim)\n",
    "6. [(Optional) Launch a Build: PYNQ Bitfile and Driver](#build_bitfile_driver)\n",
    "7. [(Optional) Run on PYNQ board](#run_on_pynq)"
   ]
  },
  {
   "cell_type": "markdown",
   "id": "57b4b5e0",
   "metadata": {},
   "source": [
    "## Introduction to  `build_dataflow` Tool <a id=\"intro_build_dataflow\"></a>\n",
    "\n",
    "Since version 0.5b, the FINN compiler has a `build_dataflow` tool. Compared to previous versions which required setting up all the needed transformations in a Python script, it makes experimenting with dataflow architecture generation easier. The core idea is to specify the relevant build info as a configuration `dict`, which invokes all the necessary steps to make the dataflow build happen. It can be invoked either from the [command line](https://finn-dev.readthedocs.io/en/latest/command_line.html) or with a single Python function call.\n",
    "\n",
    "\n",
    "In this notebook, we'll use the Python function call to invoke the builds to stay inside the Jupyter notebook, but feel free to experiment with reproducing what we do here with the `./run-docker.sh build_dataflow` and `./run-docker.sh build_custom` command-line entry points too. "
   ]
  },
  {
   "cell_type": "markdown",
   "id": "741b71bf",
   "metadata": {},
   "source": [
    "## Understanding the Build Configuration: `DataflowBuildConfig` <a id=\"underst_build_conf\"></a>\n",
    "\n",
    "The build configuration is specified by an instance of `finn.builder.build_dataflow_config.DataflowBuildConfig`. The configuration is a Python [`dataclass`](https://docs.python.org/3/library/dataclasses.html) which can be serialized into or de-serialized from JSON files for persistence, although we'll just set it up in Python here.\n",
    "There are many options in the configuration to customize different aspects of the build, we'll only cover a few of them in this notebook. You can read the details on all the config options on [the FINN API documentation](https://finn-dev.readthedocs.io/en/latest/source_code/finn.builder.html#finn.builder.build_dataflow_config.DataflowBuildConfig).\n",
    "\n",
    "Let's go over some of the members of the `DataflowBuildConfig`:\n",
    "\n",
    "### Output Products <a id=\"output_prod\"></a>\n",
    "\n",
    "The build can produce many different outputs, and some of them can take a long time (e.g. bitfile synthesis for a large network). When you first start working on generating a new accelerator and exploring the different performance options, you may not want to go all the way to a bitfile. Thus, in the beginning you may just select the estimate reports as the output products. Gradually, you can generate the output products from later stages until you are happy enough with the design to build the full accelerator integrated into a shell.\n",
    "\n",
    "The output products are controlled by:\n",
    "\n",
    "* `generate_outputs`: list of output products (of type [`finn.builder.build_dataflow_config.DataflowOutputType`](https://finn-dev.readthedocs.io/en/latest/source_code/finn.builder.html#finn.builder.build_dataflow_config.DataflowOutputType)) that will be generated by the build. Some available options are:\n",
    "    - `ESTIMATE_REPORTS` : report expected resources and performance per layer and for the whole network without any synthesis\n",
    "    - `STITCHED_IP` : create a stream-in stream-out IP design that can be integrated into other Vivado IPI or RTL designs\n",
    "    - `RTLSIM_PERFORMANCE` : use PyVerilator to do a performance/latency test of the `STITCHED_IP` design\n",
    "    - `OOC_SYNTH` : run out-of-context synthesis (just the accelerator itself, without any system surrounding it) on the `STITCHED_IP` design to get post-synthesis FPGA resources and achievable clock frequency\n",
    "    - `BITFILE` : integrate the accelerator into a shell to produce a standalone bitfile\n",
    "    - `PYNQ_DRIVER` : generate a PYNQ Python driver that can be used to launch the accelerator\n",
    "    - `DEPLOYMENT_PACKAGE` : create a folder with the `BITFILE` and `PYNQ_DRIVER` outputs, ready to be copied to the target FPGA platform.\n",
    "* `output_dir`: the directory where all the generated build outputs above will be written into.\n",
    "* `steps`: list of predefined (or custom) build steps FINN will go through. Use `build_dataflow_config.estimate_only_dataflow_steps` to execute only the steps needed for estimation (without any synthesis), and the `build_dataflow_config.default_build_dataflow_steps` otherwise (which is the default value). You can find the list of default steps [here](https://finn.readthedocs.io/en/latest/source_code/finn.builder.html#finn.builder.build_dataflow_config.default_build_dataflow_steps) in the documentation.\n",
    "\n",
    "### Configuring the Board and FPGA Part <a id=\"config_fpga\"></a>\n",
    "\n",
    "* `fpga_part`: Xilinx FPGA part to be used for synthesis, can be left unspecified to be inferred from `board` below, or specified explicitly for e.g. out-of-context synthesis.\n",
    "* `board`: target Xilinx Zynq or Alveo board for generating accelerators integrated into a shell. See the `pynq_part_map` and `alveo_part_map` dicts in [this file](https://github.com/Xilinx/finn-base/blob/dev/src/finn/util/basic.py#L41) for a list of possible boards.\n",
    "* `shell_flow_type`: the target [shell flow type](https://finn-dev.readthedocs.io/en/latest/source_code/finn.builder.html#finn.builder.build_dataflow_config.ShellFlowType), only needed for generating full bitfiles where the FINN design is integrated into a shell (so only needed if `BITFILE` is selected) \n",
    "\n",
    "### Configuring the Performance <a id=\"config_perf\"></a>\n",
    "\n",
    "You can configure the performance (and correspondingly, the FPGA resource footprint) of the generated dataflow accelerator in two ways:\n",
    "\n",
    "1) (basic) Set a target performance and let the compiler figure out the per-node parallelization settings.\n",
    "\n",
    "2) (advanced) Specify a separate .json as `folding_config_file` that lists the degree of parallelization (as well as other hardware options) for each layer.\n",
    "\n",
    "This notebook only deals with the basic approach, for which you need to set up:\n",
    "\n",
    "* `target_fps`: target inference performance in frames per second. Note that target may not be achievable due to specific layer constraints, or due to resource limitations of the FPGA. \n",
    "* `synth_clk_period_ns`: target clock frequency (in nanoseconds) for Vivado synthesis. e.g. `synth_clk_period_ns=5.0` will target a 200 MHz clock. Note that the target clock period may not be achievable depending on the FPGA part and design complexity."
   ]
  },
  {
   "cell_type": "markdown",
   "id": "3c1255ed",
   "metadata": {},
   "source": [
    "## Launch a Build: Only Estimate Reports <a id=\"build_estimate_report\"></a>\n",
    "\n",
    "First, we'll launch a build that only generates the estimate reports, which does not require any synthesis. Note two things below: how the `generate_outputs` only contains `ESTIMATE_REPORTS`, but also how the `steps` uses a value of `estimate_only_dataflow_steps`. This skips steps like HLS synthesis to provide a quick estimate from analytical models."
   ]
  },
  {
   "cell_type": "code",
   "execution_count": 39,
   "id": "9fd9fd01",
   "metadata": {},
   "outputs": [
    {
     "name": "stdout",
     "output_type": "stream",
     "text": [
      "Previous run results deleted!\n"
     ]
    }
   ],
   "source": [
    "import finn.builder.build_dataflow as build\n",
    "import finn.builder.build_dataflow_config as build_cfg\n",
    "import os\n",
    "import shutil\n",
    "\n",
    "model_file = \"cybsec-mlp-ready.onnx\"\n",
    "\n",
    "estimates_output_dir = \"output_estimates_only\"\n",
    "\n",
    "#Delete previous run results if exist\n",
    "if os.path.exists(estimates_output_dir):\n",
    "    shutil.rmtree(estimates_output_dir)\n",
    "    print(\"Previous run results deleted!\")\n",
    "\n",
    "\n",
    "cfg_estimates = build.DataflowBuildConfig(\n",
    "    output_dir          = estimates_output_dir,\n",
    "    mvau_wwidth_max     = 80,\n",
    "    target_fps          = 1000000,\n",
    "    synth_clk_period_ns = 10.0,\n",
    "    fpga_part           = \"xczu3eg-sbva484-1-i\",\n",
    "    steps               = build_cfg.estimate_only_dataflow_steps,\n",
    "    generate_outputs=[\n",
    "        build_cfg.DataflowOutputType.ESTIMATE_REPORTS,\n",
    "    ]\n",
    ")"
   ]
  },
  {
   "cell_type": "code",
   "execution_count": 40,
   "id": "984fbf2e",
   "metadata": {},
   "outputs": [
    {
     "name": "stdout",
     "output_type": "stream",
     "text": [
      "Building dataflow accelerator from cybsec-mlp-ready.onnx\n",
      "Intermediate outputs will be generated in /tmp/finn_dev_nm\n",
      "Final outputs will be generated in output_estimates_only\n",
      "Build log is at output_estimates_only/build_dataflow.log\n",
      "Running step: step_qonnx_to_finn [1/8]\n",
      "Running step: step_tidy_up [2/8]\n",
      "Running step: step_streamline [3/8]\n",
      "Running step: step_convert_to_hls [4/8]\n",
      "Running step: step_create_dataflow_partition [5/8]\n",
      "Running step: step_target_fps_parallelization [6/8]\n",
      "Running step: step_apply_folding_config [7/8]\n",
      "Running step: step_generate_estimate_reports [8/8]\n",
      "Completed successfully\n",
      "CPU times: user 2.05 s, sys: 4 ms, total: 2.06 s\n",
      "Wall time: 1.93 s\n"
     ]
    },
    {
     "data": {
      "text/plain": [
       "0"
      ]
     },
     "execution_count": 40,
     "metadata": {},
     "output_type": "execute_result"
    }
   ],
   "source": [
    "%%time\n",
    "build.build_dataflow_cfg(model_file, cfg_estimates)"
   ]
  },
  {
   "cell_type": "markdown",
   "id": "b25a8e4a",
   "metadata": {},
   "source": [
    "We'll now examine the generated outputs from this build. If we look under the outputs directory, we'll find a subfolder with the generated estimate reports."
   ]
  },
  {
   "cell_type": "code",
   "execution_count": 41,
   "id": "c3bc63ca",
   "metadata": {},
   "outputs": [
    {
     "name": "stdout",
     "output_type": "stream",
     "text": [
      "auto_folding_config.json  intermediate_models  time_per_step.json\r\n",
      "build_dataflow.log\t  report\r\n"
     ]
    }
   ],
   "source": [
    "! ls {estimates_output_dir}"
   ]
  },
  {
   "cell_type": "code",
   "execution_count": 42,
   "id": "d9953c76",
   "metadata": {},
   "outputs": [
    {
     "name": "stdout",
     "output_type": "stream",
     "text": [
      "estimate_layer_config_alternatives.json  estimate_network_performance.json\r\n",
      "estimate_layer_cycles.json\t\t op_and_param_counts.json\r\n",
      "estimate_layer_resources.json\r\n"
     ]
    }
   ],
   "source": [
    "! ls {estimates_output_dir}/report"
   ]
  },
  {
   "cell_type": "markdown",
   "id": "60623b8f",
   "metadata": {},
   "source": [
    "We see that various reports have been generated as .json files. Let's examine the contents of the `estimate_network_performance.json` for starters. Here, we can see the analytical estimates for the performance and latency."
   ]
  },
  {
   "cell_type": "code",
   "execution_count": 43,
   "id": "0d2a508f",
   "metadata": {},
   "outputs": [
    {
     "name": "stdout",
     "output_type": "stream",
     "text": [
      "{\r\n",
      "  \"critical_path_cycles\": 47650,\r\n",
      "  \"max_cycles\": 10120,\r\n",
      "  \"max_cycles_node_name\": \"ConvolutionInputGenerator_0\",\r\n",
      "  \"estimated_throughput_fps\": 9881.422924901186,\r\n",
      "  \"estimated_latency_ns\": 476500.0\r\n",
      "}"
     ]
    }
   ],
   "source": [
    "! cat {estimates_output_dir}/report/estimate_network_performance.json"
   ]
  },
  {
   "cell_type": "markdown",
   "id": "f8c110af",
   "metadata": {},
   "source": [
    "Since all of these reports are .json files, we can easily load them into Python for further processing. This can be useful if you are building your own design automation tools on top of FINN. Let's define a helper function and look at the `estimate_layer_cycles.json` report."
   ]
  },
  {
   "cell_type": "code",
   "execution_count": 44,
   "id": "6c66e45e",
   "metadata": {},
   "outputs": [],
   "source": [
    "import json\n",
    "def read_json_dict(filename):\n",
    "    with open(filename, \"r\") as f:\n",
    "        ret = json.load(f)\n",
    "    return ret"
   ]
  },
  {
   "cell_type": "code",
   "execution_count": 45,
   "id": "a474eb1f",
   "metadata": {},
   "outputs": [
    {
     "data": {
      "text/plain": [
       "{'Thresholding_Batch_0': 576,\n",
       " 'ConvolutionInputGenerator_0': 10120,\n",
       " 'StreamingFCLayer_Batch_0': 2400,\n",
       " 'StreamingMaxPool_Batch_0': 600,\n",
       " 'ConvolutionInputGenerator_1': 5700,\n",
       " 'StreamingFCLayer_Batch_1': 8640,\n",
       " 'StreamingMaxPool_Batch_1': 54,\n",
       " 'StreamingFCLayer_Batch_2': 8640,\n",
       " 'StreamingFCLayer_Batch_3': 10080,\n",
       " 'StreamingFCLayer_Batch_4': 840}"
      ]
     },
     "execution_count": 45,
     "metadata": {},
     "output_type": "execute_result"
    }
   ],
   "source": [
    "read_json_dict(estimates_output_dir + \"/report/estimate_layer_cycles.json\")"
   ]
  },
  {
   "cell_type": "markdown",
   "id": "51b00738",
   "metadata": {},
   "source": [
    "Here, we can see the estimated number of clock cycles each layer will take. Recall that all of these layers will be running in parallel, and the slowest layer will determine the overall throughput of the entire neural network. FINN attempts to parallelize each layer such that they all take a similar number of cycles, and less than the corresponding number of cycles that would be required to meet `target_fps`. Additionally by summing up all layer cycle estimates one can obtain an estimate for the overall latency of the whole network. \n",
    "\n",
    "Finally, we can see the layer-by-layer resource estimates in the `estimate_layer_resources.json` report:"
   ]
  },
  {
   "cell_type": "code",
   "execution_count": 46,
   "id": "181a0183",
   "metadata": {},
   "outputs": [
    {
     "data": {
      "text/plain": [
       "{'Thresholding_Batch_0': {'BRAM_18K': 0,\n",
       "  'BRAM_efficiency': 1,\n",
       "  'LUT': 8,\n",
       "  'URAM': 0,\n",
       "  'URAM_efficiency': 1,\n",
       "  'DSP': 0},\n",
       " 'ConvolutionInputGenerator_0': {'BRAM_18K': 0,\n",
       "  'BRAM_efficiency': 1,\n",
       "  'LUT': 324,\n",
       "  'URAM': 0,\n",
       "  'URAM_efficiency': 1,\n",
       "  'DSP': 0},\n",
       " 'StreamingFCLayer_Batch_0': {'BRAM_18K': 3,\n",
       "  'BRAM_efficiency': 0.008138020833333334,\n",
       "  'LUT': 1664,\n",
       "  'URAM': 0,\n",
       "  'URAM_efficiency': 1,\n",
       "  'DSP': 0},\n",
       " 'StreamingMaxPool_Batch_0': {'BRAM_18K': 0,\n",
       "  'BRAM_efficiency': 1,\n",
       "  'LUT': 0,\n",
       "  'URAM': 0,\n",
       "  'URAM_efficiency': 1,\n",
       "  'DSP': 0},\n",
       " 'ConvolutionInputGenerator_1': {'BRAM_18K': 0,\n",
       "  'BRAM_efficiency': 1,\n",
       "  'LUT': 324,\n",
       "  'URAM': 0,\n",
       "  'URAM_efficiency': 1,\n",
       "  'DSP': 0},\n",
       " 'StreamingFCLayer_Batch_1': {'BRAM_18K': 1,\n",
       "  'BRAM_efficiency': 0.390625,\n",
       "  'LUT': 1188,\n",
       "  'URAM': 0,\n",
       "  'URAM_efficiency': 1,\n",
       "  'DSP': 0},\n",
       " 'StreamingMaxPool_Batch_1': {'BRAM_18K': 0,\n",
       "  'BRAM_efficiency': 1,\n",
       "  'LUT': 0,\n",
       "  'URAM': 0,\n",
       "  'URAM_efficiency': 1,\n",
       "  'DSP': 0},\n",
       " 'StreamingFCLayer_Batch_2': {'BRAM_18K': 5,\n",
       "  'BRAM_efficiency': 0.5625,\n",
       "  'LUT': 1128,\n",
       "  'URAM': 0,\n",
       "  'URAM_efficiency': 1,\n",
       "  'DSP': 0},\n",
       " 'StreamingFCLayer_Batch_3': {'BRAM_18K': 3,\n",
       "  'BRAM_efficiency': 0.546875,\n",
       "  'LUT': 1039,\n",
       "  'URAM': 0,\n",
       "  'URAM_efficiency': 1,\n",
       "  'DSP': 0},\n",
       " 'StreamingFCLayer_Batch_4': {'BRAM_18K': 1,\n",
       "  'BRAM_efficiency': 0.13671875,\n",
       "  'LUT': 346,\n",
       "  'URAM': 0,\n",
       "  'URAM_efficiency': 1,\n",
       "  'DSP': 0},\n",
       " 'total': {'BRAM_18K': 13.0, 'LUT': 6021.0, 'URAM': 0.0, 'DSP': 0.0}}"
      ]
     },
     "execution_count": 46,
     "metadata": {},
     "output_type": "execute_result"
    }
   ],
   "source": [
    "read_json_dict(estimates_output_dir + \"/report/estimate_layer_resources.json\")"
   ]
  },
  {
   "cell_type": "markdown",
   "id": "b159a77e",
   "metadata": {},
   "source": [
    "This particular report is useful to determine whether the current configuration will fit into a particular FPGA. If you see that the resource requirements are too high for the FPGA you had in mind, you should consider lowering the `target_fps`.\n",
    "\n",
    "**Note that the analytical models tend to over-estimate how much resources are needed, since they can't capture the effects of various synthesis optimizations.**"
   ]
  },
  {
   "cell_type": "markdown",
   "id": "9e39d30d",
   "metadata": {},
   "source": [
    "## Launch a Build: Stitched IP, out-of-context synth and rtlsim Performance <a id=\"build_ip_synth_rtlsim\"></a>\n",
    "\n",
    "Once we have a configuration that gives satisfactory estimates, we can move on to generating the accelerator. We can do this in different ways depending on how we want to integrate the accelerator into a larger system. For instance, if we have a larger streaming system built in Vivado or if we'd like to re-use this generated accelerator as an IP component in other projects, the `STITCHED_IP` output product is a good choice. We can also use the `OOC_SYNTH` output product to get post-synthesis resource and clock frequency numbers for our accelerator.\n",
    "\n",
    "<font color=\"red\">**Live FINN tutorial:** These next builds will take about 10 minutes to complete since multiple calls to Vivado and a call to RTL simulation are involved. While this is running, you can examine the generated files with noVNC -- it is running on **(your AWS URL):6080/vnc.html**\n",
    "\n",
    "* Once the `step_hls_codegen [8/16]` below is completed, you can view the generated HLS code under its own folder for each layer: `/tmp/finn_dev_ubuntu/code_gen_ipgen_StreamingFCLayer_Batch_XXXXXX`\n",
    "    \n",
    "* Once the `step_create_stitched_ip [11/16]` below is completed, you can view the generated stitched IP in Vivado under `/home/ubuntu/finn/notebooks/end2end_example/cybersecurity/output_ipstitch_ooc_rtlsim/stitched_ip`\n",
    "</font> "
   ]
  },
  {
   "cell_type": "code",
   "execution_count": 47,
   "id": "c6873f76",
   "metadata": {},
   "outputs": [
    {
     "name": "stdout",
     "output_type": "stream",
     "text": [
      "Previous run results deleted!\n"
     ]
    }
   ],
   "source": [
    "import finn.builder.build_dataflow as build\n",
    "import finn.builder.build_dataflow_config as build_cfg\n",
    "import os\n",
    "import shutil\n",
    "\n",
    "model_file = \"cybsec-mlp-ready.onnx\"\n",
    "\n",
    "rtlsim_output_dir = \"output_ipstitch_ooc_rtlsim\"\n",
    "\n",
    "#Delete previous run results if exist\n",
    "if os.path.exists(rtlsim_output_dir):\n",
    "    shutil.rmtree(rtlsim_output_dir)\n",
    "    print(\"Previous run results deleted!\")\n",
    "\n",
    "cfg_stitched_ip = build.DataflowBuildConfig(\n",
    "    output_dir          = rtlsim_output_dir,\n",
    "    mvau_wwidth_max     = 80,\n",
    "    target_fps          = 1000000,\n",
    "    synth_clk_period_ns = 10.0,\n",
    "    fpga_part           = \"xczu3eg-sbva484-1-i\",\n",
    "    generate_outputs=[\n",
    "        build_cfg.DataflowOutputType.STITCHED_IP,\n",
    "        build_cfg.DataflowOutputType.RTLSIM_PERFORMANCE,\n",
    "        build_cfg.DataflowOutputType.OOC_SYNTH,\n",
    "    ]\n",
    ")"
   ]
  },
  {
   "cell_type": "code",
   "execution_count": 48,
   "id": "2af384cc",
   "metadata": {},
   "outputs": [
    {
     "name": "stdout",
     "output_type": "stream",
     "text": [
      "Building dataflow accelerator from cybsec-mlp-ready.onnx\n",
      "Intermediate outputs will be generated in /tmp/finn_dev_nm\n",
      "Final outputs will be generated in output_ipstitch_ooc_rtlsim\n",
      "Build log is at output_ipstitch_ooc_rtlsim/build_dataflow.log\n",
      "Running step: step_qonnx_to_finn [1/17]\n",
      "Running step: step_tidy_up [2/17]\n",
      "Running step: step_streamline [3/17]\n",
      "Running step: step_convert_to_hls [4/17]\n",
      "Running step: step_create_dataflow_partition [5/17]\n",
      "Running step: step_target_fps_parallelization [6/17]\n",
      "Running step: step_apply_folding_config [7/17]\n",
      "Running step: step_generate_estimate_reports [8/17]\n",
      "Running step: step_hls_codegen [9/17]\n",
      "Running step: step_hls_ipgen [10/17]\n",
      "Running step: step_set_fifo_depths [11/17]\n",
      "Running step: step_create_stitched_ip [12/17]\n",
      "Running step: step_measure_rtlsim_performance [13/17]\n",
      "Running step: step_out_of_context_synthesis [14/17]\n",
      "Running step: step_synthesize_bitfile [15/17]\n",
      "Running step: step_make_pynq_driver [16/17]\n",
      "Running step: step_deployment_package [17/17]\n",
      "Completed successfully\n",
      "CPU times: user 27.7 s, sys: 296 ms, total: 28 s\n",
      "Wall time: 9min 47s\n"
     ]
    },
    {
     "data": {
      "text/plain": [
       "0"
      ]
     },
     "execution_count": 48,
     "metadata": {},
     "output_type": "execute_result"
    }
   ],
   "source": [
    "%%time\n",
    "build.build_dataflow_cfg(model_file, cfg_stitched_ip)"
   ]
  },
  {
   "cell_type": "markdown",
   "id": "a088bc15",
   "metadata": {},
   "source": [
    "Why is e.g. `step_synthesize_bitfile` listed above even though we didn't ask for a bitfile in the output products? This is because we're using the default set of build steps, which includes `step_synthesize_bitfile`. Since its output product is not selected, this step will do nothing."
   ]
  },
  {
   "cell_type": "markdown",
   "id": "ba1463ad",
   "metadata": {},
   "source": [
    "Among the output products, we will find the accelerator exported as a stitched IP block design:"
   ]
  },
  {
   "cell_type": "code",
   "execution_count": 297,
   "id": "81bf3380",
   "metadata": {},
   "outputs": [
    {
     "name": "stdout",
     "output_type": "stream",
     "text": [
      "all_verilog_srcs.txt\t\t       finn_vivado_stitch_proj.xpr\r\n",
      "finn_vivado_stitch_proj.cache\t       ip\r\n",
      "finn_vivado_stitch_proj.gen\t       make_project.sh\r\n",
      "finn_vivado_stitch_proj.hw\t       make_project.tcl\r\n",
      "finn_vivado_stitch_proj.ip_user_files  vivado.jou\r\n",
      "finn_vivado_stitch_proj.srcs\t       vivado.log\r\n"
     ]
    }
   ],
   "source": [
    "! ls {rtlsim_output_dir}/stitched_ip"
   ]
  },
  {
   "cell_type": "markdown",
   "id": "248a51dd",
   "metadata": {},
   "source": [
    "We also have a few reports generated by these output products, different from the ones generated by `ESTIMATE_REPORTS`."
   ]
  },
  {
   "cell_type": "code",
   "execution_count": 298,
   "id": "5fc7fb16",
   "metadata": {},
   "outputs": [
    {
     "name": "stdout",
     "output_type": "stream",
     "text": [
      "estimate_layer_resources_hls.json  rtlsim_performance.json\r\n",
      "ooc_synth_and_timing.json\r\n"
     ]
    }
   ],
   "source": [
    "! ls {rtlsim_output_dir}/report"
   ]
  },
  {
   "cell_type": "markdown",
   "id": "696e15da",
   "metadata": {},
   "source": [
    "In `ooc_synth_and_timing.json` we can find the post-synthesis and maximum clock frequency estimate for the accelerator. Note that the clock frequency estimate here tends to be optimistic, since out-of-context synthesis is less constrained."
   ]
  },
  {
   "cell_type": "code",
   "execution_count": 299,
   "id": "4cd071cb",
   "metadata": {},
   "outputs": [
    {
     "name": "stdout",
     "output_type": "stream",
     "text": [
      "{\r\n",
      "  \"vivado_proj_folder\": \"/tmp/finn_dev_nm/synth_out_of_context_x6s1ci28/results_finn_design_wrapper\",\r\n",
      "  \"LUT\": 6037.0,\r\n",
      "  \"FF\": 7483.0,\r\n",
      "  \"DSP\": 0.0,\r\n",
      "  \"BRAM\": 7.0,\r\n",
      "  \"WNS\": 3.688,\r\n",
      "  \"\": 0,\r\n",
      "  \"fmax_mhz\": 158.42839036755387,\r\n",
      "  \"estimated_throughput_fps\": 15654.979285331408\r\n",
      "}"
     ]
    }
   ],
   "source": [
    "! cat {rtlsim_output_dir}/report/ooc_synth_and_timing.json"
   ]
  },
  {
   "cell_type": "markdown",
   "id": "396b43b9",
   "metadata": {},
   "source": [
    "In `rtlsim_performance.json` we can find the steady-state throughput and latency for the accelerator, as obtained by rtlsim. If the DRAM bandwidth numbers reported here are below what the hardware platform is capable of (i.e. the accelerator is not memory-bound), you can expect the same steady-state throughput (excluding any software/driver overheads) in real hardware."
   ]
  },
  {
   "cell_type": "code",
   "execution_count": 300,
   "id": "de62ccc9",
   "metadata": {},
   "outputs": [
    {
     "name": "stdout",
     "output_type": "stream",
     "text": [
      "{\r\n",
      "  \"cycles\": 34287,\r\n",
      "  \"runtime[ms]\": 0.34287,\r\n",
      "  \"throughput[images/s]\": 2916.557295768075,\r\n",
      "  \"DRAM_in_bandwidth[Mb/s]\": 1.6799370023624114,\r\n",
      "  \"DRAM_out_bandwidth[Mb/s]\": 0.0583311459153615,\r\n",
      "  \"fclk[mhz]\": 100.0,\r\n",
      "  \"N\": 1,\r\n",
      "  \"latency_cycles\": 34287\r\n",
      "}"
     ]
    }
   ],
   "source": [
    "! cat {rtlsim_output_dir}/report/rtlsim_performance.json"
   ]
  },
  {
   "cell_type": "markdown",
   "id": "3c5ddf45",
   "metadata": {},
   "source": [
    "Finally, let's have a look at `final_hw_config.json`. This is the node-by-node hardware configuration determined by the FINN compiler, including FIFO depths, parallelization settings (PE/SIMD) and others. If you want to optimize your build further (the \"advanced\" method we mentioned under \"Configuring the performance\"), you can use this .json file as the `folding_config_file` for a new run to use it as a starting point for further exploration and optimizations."
   ]
  },
  {
   "cell_type": "code",
   "execution_count": 301,
   "id": "3d5411de",
   "metadata": {},
   "outputs": [
    {
     "name": "stdout",
     "output_type": "stream",
     "text": [
      "{\r\n",
      "  \"Defaults\": {},\r\n",
      "  \"StreamingFIFO_0\": {\r\n",
      "    \"ram_style\": \"auto\",\r\n",
      "    \"depth\": 2,\r\n",
      "    \"impl_style\": \"rtl\"\r\n",
      "  },\r\n",
      "  \"Thresholding_Batch_0\": {\r\n",
      "    \"PE\": 1,\r\n",
      "    \"ram_style\": \"distributed\",\r\n",
      "    \"mem_mode\": \"const\",\r\n",
      "    \"runtime_writeable_weights\": 0\r\n",
      "  },\r\n",
      "  \"StreamingFIFO_1\": {\r\n",
      "    \"ram_style\": \"auto\",\r\n",
      "    \"depth\": 128,\r\n",
      "    \"impl_style\": \"rtl\"\r\n",
      "  },\r\n",
      "  \"ConvolutionInputGenerator_0\": {\r\n",
      "    \"SIMD\": 1,\r\n",
      "    \"ram_style\": \"distributed\"\r\n",
      "  },\r\n",
      "  \"StreamingDataWidthConverter_Batch_0\": {\r\n",
      "    \"impl_style\": \"hls\"\r\n",
      "  },\r\n",
      "  \"StreamingFCLayer_Batch_0\": {\r\n",
      "    \"PE\": 1,\r\n",
      "    \"SIMD\": 25,\r\n",
      "    \"ram_style\": \"auto\",\r\n",
      "    \"resType\": \"lut\",\r\n",
      "    \"mem_mode\": \"decoupled\",\r\n",
      "    \"runtime_writeable_weights\": 0\r\n",
      "  },\r\n",
      "  \"StreamingDataWidthConverter_Batch_1\": {\r\n",
      "    \"impl_style\": \"hls\"\r\n",
      "  },\r\n",
      "  \"StreamingFIFO_6\": {\r\n",
      "    \"ram_style\": \"auto\",\r\n",
      "    \"depth\": 32,\r\n",
      "    \"impl_style\": \"rtl\"\r\n",
      "  },\r\n",
      "  \"StreamingDataWidthConverter_Batch_2\": {\r\n",
      "    \"impl_style\": \"hls\"\r\n",
      "  },\r\n",
      "  \"StreamingFIFO_7\": {\r\n",
      "    \"ram_style\": \"auto\",\r\n",
      "    \"depth\": 64,\r\n",
      "    \"impl_style\": \"rtl\"\r\n",
      "  },\r\n",
      "  \"ConvolutionInputGenerator_1\": {\r\n",
      "    \"SIMD\": 1,\r\n",
      "    \"ram_style\": \"distributed\"\r\n",
      "  },\r\n",
      "  \"StreamingDataWidthConverter_Batch_3\": {\r\n",
      "    \"impl_style\": \"hls\"\r\n",
      "  },\r\n",
      "  \"StreamingFIFO_9\": {\r\n",
      "    \"ram_style\": \"auto\",\r\n",
      "    \"depth\": 256,\r\n",
      "    \"impl_style\": \"rtl\"\r\n",
      "  },\r\n",
      "  \"StreamingFCLayer_Batch_1\": {\r\n",
      "    \"PE\": 1,\r\n",
      "    \"SIMD\": 10,\r\n",
      "    \"ram_style\": \"auto\",\r\n",
      "    \"resType\": \"lut\",\r\n",
      "    \"mem_mode\": \"decoupled\",\r\n",
      "    \"runtime_writeable_weights\": 0\r\n",
      "  },\r\n",
      "  \"StreamingDataWidthConverter_Batch_4\": {\r\n",
      "    \"impl_style\": \"hls\"\r\n",
      "  },\r\n",
      "  \"StreamingDataWidthConverter_Batch_5\": {\r\n",
      "    \"impl_style\": \"hls\"\r\n",
      "  },\r\n",
      "  \"StreamingFIFO_13\": {\r\n",
      "    \"ram_style\": \"auto\",\r\n",
      "    \"depth\": 64,\r\n",
      "    \"impl_style\": \"rtl\"\r\n",
      "  },\r\n",
      "  \"StreamingFCLayer_Batch_2\": {\r\n",
      "    \"PE\": 1,\r\n",
      "    \"SIMD\": 2,\r\n",
      "    \"ram_style\": \"auto\",\r\n",
      "    \"resType\": \"lut\",\r\n",
      "    \"mem_mode\": \"decoupled\",\r\n",
      "    \"runtime_writeable_weights\": 0\r\n",
      "  },\r\n",
      "  \"StreamingFIFO_14\": {\r\n",
      "    \"ram_style\": \"auto\",\r\n",
      "    \"depth\": 128,\r\n",
      "    \"impl_style\": \"rtl\"\r\n",
      "  },\r\n",
      "  \"StreamingFCLayer_Batch_3\": {\r\n",
      "    \"PE\": 1,\r\n",
      "    \"SIMD\": 1,\r\n",
      "    \"ram_style\": \"auto\",\r\n",
      "    \"resType\": \"lut\",\r\n",
      "    \"mem_mode\": \"decoupled\",\r\n",
      "    \"runtime_writeable_weights\": 0\r\n",
      "  },\r\n",
      "  \"StreamingFCLayer_Batch_4\": {\r\n",
      "    \"PE\": 1,\r\n",
      "    \"SIMD\": 1,\r\n",
      "    \"ram_style\": \"auto\",\r\n",
      "    \"resType\": \"lut\",\r\n",
      "    \"mem_mode\": \"decoupled\",\r\n",
      "    \"runtime_writeable_weights\": 0\r\n",
      "  }\r\n",
      "}"
     ]
    }
   ],
   "source": [
    "! cat {rtlsim_output_dir}/final_hw_config.json"
   ]
  },
  {
   "cell_type": "markdown",
   "id": "c3ac53ea",
   "metadata": {},
   "source": [
    "## (Optional) Launch a Build: PYNQ Bitfile and Driver <a id=\"build_bitfile_driver\"></a>\n",
    "\n",
    "<font color=\"red\">**Live FINN tutorial:** This section is not included in the hands-on tutorial due to the bitfile synthesis time (15-20 min). If you own a PYNQ board, we encourage you to uncomment the cells below to try it out on your own after the tutorial.</font>"
   ]
  },
  {
   "cell_type": "code",
   "execution_count": 17,
   "id": "eea850ff",
   "metadata": {},
   "outputs": [],
   "source": [
    "import finn.builder.build_dataflow as build\n",
    "import finn.builder.build_dataflow_config as build_cfg\n",
    "import os\n",
    "import shutil\n",
    "\n",
    "model_file = \"cybsec-mlp-ready.onnx\"\n",
    "\n",
    "final_output_dir = \"output_final\"\n",
    "\n",
    "#Delete previous run results if exist\n",
    "if os.path.exists(final_output_dir):\n",
    "    shutil.rmtree(final_output_dir)\n",
    "    print(\"Previous run results deleted!\")\n",
    "\n",
    "cfg = build.DataflowBuildConfig(\n",
    "    output_dir          = final_output_dir,\n",
    "    mvau_wwidth_max     = 80,\n",
    "    target_fps          = 1000000,\n",
    "    synth_clk_period_ns = 10.0,\n",
    "    board               = \"Pynq-Z1\",\n",
    "    shell_flow_type     = build_cfg.ShellFlowType.VIVADO_ZYNQ,\n",
    "    generate_outputs=[\n",
    "        build_cfg.DataflowOutputType.BITFILE,\n",
    "        build_cfg.DataflowOutputType.PYNQ_DRIVER,\n",
    "        build_cfg.DataflowOutputType.DEPLOYMENT_PACKAGE,\n",
    "    ]\n",
    ")"
   ]
  },
  {
   "cell_type": "code",
   "execution_count": 18,
   "id": "b62fcad0",
   "metadata": {},
   "outputs": [
    {
     "name": "stdout",
     "output_type": "stream",
     "text": [
      "Building dataflow accelerator from cybsec-mlp-ready.onnx\n",
      "Intermediate outputs will be generated in /tmp/finn_dev_ubuntu\n",
      "Final outputs will be generated in output_final\n",
      "Build log is at output_final/build_dataflow.log\n",
      "Running step: step_tidy_up [1/16]\n",
      "Running step: step_streamline [2/16]\n",
      "Running step: step_convert_to_hls [3/16]\n",
      "Running step: step_create_dataflow_partition [4/16]\n",
      "Running step: step_target_fps_parallelization [5/16]\n",
      "Running step: step_apply_folding_config [6/16]\n",
      "Running step: step_generate_estimate_reports [7/16]\n",
      "Running step: step_hls_codegen [8/16]\n",
      "Running step: step_hls_ipgen [9/16]\n",
      "Running step: step_set_fifo_depths [10/16]\n",
      "Running step: step_create_stitched_ip [11/16]\n",
      "Running step: step_measure_rtlsim_performance [12/16]\n",
      "Running step: step_make_pynq_driver [13/16]\n",
      "Running step: step_out_of_context_synthesis [14/16]\n",
      "Running step: step_synthesize_bitfile [15/16]\n",
      "Running step: step_deployment_package [16/16]\n",
      "Completed successfully\n",
      "CPU times: user 4.47 s, sys: 766 ms, total: 5.24 s\n",
      "Wall time: 22min 13s\n"
     ]
    },
    {
     "data": {
      "text/plain": [
       "0"
      ]
     },
     "execution_count": 18,
     "metadata": {},
     "output_type": "execute_result"
    }
   ],
   "source": [
    "#%%time\n",
    "#build.build_dataflow_cfg(model_file, cfg)"
   ]
  },
  {
   "cell_type": "markdown",
   "id": "38a5f675",
   "metadata": {},
   "source": [
    "For our final build, the output products include the bitfile (and the accompanying .hwh file, also needed to execute correctly on PYNQ for Zynq platforms):"
   ]
  },
  {
   "cell_type": "code",
   "execution_count": 19,
   "id": "00712caf",
   "metadata": {},
   "outputs": [
    {
     "name": "stdout",
     "output_type": "stream",
     "text": [
      "finn-accel.bit\tfinn-accel.hwh\r\n"
     ]
    }
   ],
   "source": [
    "#! ls {final_output_dir}/bitfile"
   ]
  },
  {
   "cell_type": "markdown",
   "id": "5ed778b7",
   "metadata": {},
   "source": [
    "The generated Python driver lets us execute the accelerator on PYNQ platforms with simply numpy i/o. You can find some notebooks showing how to use FINN-generated accelerators at runtime in the [finn-examples](https://github.com/Xilinx/finn-examples) repository."
   ]
  },
  {
   "cell_type": "code",
   "execution_count": 20,
   "id": "78c14916",
   "metadata": {},
   "outputs": [
    {
     "name": "stdout",
     "output_type": "stream",
     "text": [
      "driver.py  driver_base.py  finn  runtime_weights  validate.py\r\n"
     ]
    }
   ],
   "source": [
    "#! ls {final_output_dir}/driver"
   ]
  },
  {
   "cell_type": "markdown",
   "id": "8ea5bc60",
   "metadata": {},
   "source": [
    "The reports folder contains the post-synthesis resource and timing reports:"
   ]
  },
  {
   "cell_type": "code",
   "execution_count": 21,
   "id": "ad6ddd70",
   "metadata": {},
   "outputs": [
    {
     "name": "stdout",
     "output_type": "stream",
     "text": [
      "estimate_layer_resources_hls.json  post_synth_resources.xml\r\n",
      "post_route_timing.rpt\r\n"
     ]
    }
   ],
   "source": [
    "#! ls {final_output_dir}/report"
   ]
  },
  {
   "cell_type": "markdown",
   "id": "786442c6",
   "metadata": {},
   "source": [
    "Finally, we have the `deploy` folder which contains everything you need to copy onto the target board to get the accelerator running:"
   ]
  },
  {
   "cell_type": "code",
   "execution_count": 22,
   "id": "b57597f8",
   "metadata": {},
   "outputs": [
    {
     "name": "stdout",
     "output_type": "stream",
     "text": [
      "bitfile  driver\r\n"
     ]
    }
   ],
   "source": [
    "#! ls {final_output_dir}/deploy"
   ]
  },
  {
   "cell_type": "markdown",
   "id": "054321b0",
   "metadata": {},
   "source": [
    "## (Optional) Run on PYNQ board <a id=\"run_on_pynq\"></a>\n",
    "\n",
    "<font color=\"red\">**Live FINN tutorial:** This section is not included in the hands-on tutorial due to the bitfile synthesis time (15-20 min) of the previous section. If you own a PYNQ board, we encourage you to uncomment the cells below to try it out on your own after the tutorial.</font>\n",
    "\n",
    "To test the accelerator on the board, we'll put a copy of the dataset and a premade Python script that validates the accuracy into the `driver` folder, then make a zip archive of the whole deployment folder."
   ]
  },
  {
   "cell_type": "code",
   "execution_count": 23,
   "id": "7a5c1b09",
   "metadata": {},
   "outputs": [],
   "source": [
    "#! cp unsw_nb15_binarized.npz {final_output_dir}/deploy/driver"
   ]
  },
  {
   "cell_type": "code",
   "execution_count": 24,
   "id": "ce5d2d15",
   "metadata": {},
   "outputs": [],
   "source": [
    "#! cp validate-unsw-nb15.py {final_output_dir}/deploy/driver"
   ]
  },
  {
   "cell_type": "code",
   "execution_count": 25,
   "id": "a87e7ee3",
   "metadata": {},
   "outputs": [
    {
     "name": "stdout",
     "output_type": "stream",
     "text": [
      "driver.py\tfinn\t\t unsw_nb15_binarized.npz  validate.py\r\n",
      "driver_base.py\truntime_weights  validate-unsw-nb15.py\r\n"
     ]
    }
   ],
   "source": [
    "#! ls {final_output_dir}/deploy/driver"
   ]
  },
  {
   "cell_type": "code",
   "execution_count": 26,
   "id": "270c9d44",
   "metadata": {},
   "outputs": [
    {
     "data": {
      "text/plain": [
       "'/workspace/finn/notebooks/end2end_example/cybersecurity/deploy-on-pynq.zip'"
      ]
     },
     "execution_count": 26,
     "metadata": {},
     "output_type": "execute_result"
    }
   ],
   "source": [
    "#from shutil import make_archive\n",
    "#make_archive('deploy-on-pynq', 'zip', final_output_dir+\"/deploy\")"
   ]
  },
  {
   "cell_type": "markdown",
   "id": "d6ed5c31",
   "metadata": {},
   "source": [
    "You can now download the created zipfile (**File -> Open**, mark the checkbox next to the `deploy-on-pynq.zip` and select Download from the toolbar), then copy it to your PYNQ board (for instance via `scp` or `rsync`). Then, run the following commands **on the PYNQ board** to extract the archive and run the validation:"
   ]
  },
  {
   "cell_type": "markdown",
   "id": "b6d80145",
   "metadata": {},
   "source": [
    "```shell\n",
    "unzip deploy-on-pynq.zip -d finn-cybsec-mlp-demo\n",
    "cd finn-cybsec-mlp-demo/driver\n",
    "sudo python3.6 -m pip install bitstring\n",
    "sudo python3.6 validate-unsw-nb15.py --batchsize 1000\n",
    "```"
   ]
  },
  {
   "cell_type": "markdown",
   "id": "dbe5d0e9",
   "metadata": {},
   "source": [
    "You should see `Final accuracy: 91.868293` at the end. You may have noticed that the validation doesn't *quite* run at 1M inferences per second. This is because of the Python packing/unpacking and data movement overheads. To see this in more detail, the generated driver includes a benchmarking mode that shows the runtime breakdown:"
   ]
  },
  {
   "cell_type": "markdown",
   "id": "0c64c68e",
   "metadata": {},
   "source": [
    "```shell\n",
    "sudo python3.6 driver.py --exec_mode throughput_test --bitfile ../bitfile/finn-accel.bit --batchsize 1000\n",
    "cat nw_metrics.txt\n",
    "```"
   ]
  },
  {
   "cell_type": "markdown",
   "id": "b464c999",
   "metadata": {},
   "source": [
    "```{'runtime[ms]': 1.0602474212646484,\n",
    " 'throughput[images/s]': 943176.0737575893,\n",
    " 'DRAM_in_bandwidth[Mb/s]': 70.7382055318192,\n",
    " 'DRAM_out_bandwidth[Mb/s]': 0.9431760737575894,\n",
    " 'fclk[mhz]': 100.0,\n",
    " 'batch_size': 1000,\n",
    " 'fold_input[ms]': 9.679794311523438e-05,\n",
    " 'pack_input[ms]': 0.060115814208984375,\n",
    " 'copy_input_data_to_device[ms]': 0.002428770065307617,\n",
    " 'copy_output_data_from_device[ms]': 0.0005249977111816406,\n",
    " 'unpack_output[ms]': 0.3773000240325928,\n",
    " 'unfold_output[ms]': 6.818771362304688e-05}```"
   ]
  },
  {
   "cell_type": "markdown",
   "id": "2faddcf6",
   "metadata": {},
   "source": [
    "Here, the various `pack_input/unpack_output` calls show the overhead of packing/unpacking the inputs/outputs to convert from numpy arrays to the bit-contiguous data representation our accelerator expects. The `copy_input_data_to_device` and `copy_output_data_from_device` indicate the cost of moving the data between the CPU and accelerator memories. These overheads can dominate the execution time when running with small batch sizes.\n",
    "\n",
    "Finally, we can see that `throughput[images/s]`, which is the pure hardware throughput without any software and data movement overheads, is close to 1M inferences per second."
   ]
  },
  {
   "cell_type": "code",
   "execution_count": null,
   "id": "45de7dcb",
   "metadata": {},
   "outputs": [],
   "source": []
  },
  {
   "cell_type": "code",
   "execution_count": null,
   "id": "a95a73cd",
   "metadata": {},
   "outputs": [],
   "source": []
  },
  {
   "cell_type": "code",
   "execution_count": null,
   "id": "8943522c",
   "metadata": {},
   "outputs": [],
   "source": []
  }
 ],
 "metadata": {
  "kernelspec": {
   "display_name": "Python 3",
   "language": "python",
   "name": "python3"
  },
  "language_info": {
   "codemirror_mode": {
    "name": "ipython",
    "version": 3
   },
   "file_extension": ".py",
   "mimetype": "text/x-python",
   "name": "python",
   "nbconvert_exporter": "python",
   "pygments_lexer": "ipython3",
   "version": "3.8.5"
  }
 },
 "nbformat": 4,
 "nbformat_minor": 5
}
